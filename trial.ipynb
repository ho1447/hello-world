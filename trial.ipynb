{
 "cells": [
  {
   "cell_type": "code",
   "execution_count": 2,
   "metadata": {},
   "outputs": [
    {
     "output_type": "stream",
     "name": "stdout",
     "text": "4.7.1\n"
    },
    {
     "output_type": "display_data",
     "data": {
      "text/html": "        <script type=\"text/javascript\">\n        window.PlotlyConfig = {MathJaxConfig: 'local'};\n        if (window.MathJax) {MathJax.Hub.Config({SVG: {font: \"STIX-Web\"}});}\n        if (typeof require !== 'undefined') {\n        require.undef(\"plotly\");\n        requirejs.config({\n            paths: {\n                'plotly': ['https://cdn.plot.ly/plotly-latest.min']\n            }\n        });\n        require(['plotly'], function(Plotly) {\n            window._Plotly = Plotly;\n        });\n        }\n        </script>\n        "
     },
     "metadata": {}
    }
   ],
   "source": [
    "import pandas as pd\n",
    "import numpy as np\n",
    "import datetime\n",
    "import matplotlib.pyplot as plt\n",
    "%matplotlib inline\n",
    "\n",
    "from plotly import __version__\n",
    "from plotly.offline import download_plotlyjs, init_notebook_mode, plot, iplot\n",
    "\n",
    "import plotly.graph_objs as go\n",
    "\n",
    "print(__version__) # requires version >= 1.9.0\n",
    "\n",
    "init_notebook_mode(connected=True)\n"
   ]
  },
  {
   "cell_type": "code",
   "execution_count": 4,
   "metadata": {},
   "outputs": [
    {
     "output_type": "execute_result",
     "data": {
      "text/plain": "  Acquisition Date Ticker  Quantity  Unit Cost  Cost Basis Start of Year\n0       2013-02-07   AAPL       125      65.40     8175.00    2017-12-29\n1       2014-02-27    JNJ       100      81.90     8190.00    2017-12-29\n2       2013-06-04    MCD       100      84.99     8499.00    2017-12-29\n3       2015-12-14   MTCH       600      13.63     8178.00    2017-12-29\n4       2016-01-14   NFLX        75     108.71     8153.25    2017-12-29\n5       2013-08-14    WMT       125      68.30     8537.50    2017-12-29\n6       2013-12-13     FB       150      53.32     7998.00    2017-12-29\n7       2015-01-05   TWTR       225      36.38     8185.50    2017-12-29",
      "text/html": "<div>\n<style scoped>\n    .dataframe tbody tr th:only-of-type {\n        vertical-align: middle;\n    }\n\n    .dataframe tbody tr th {\n        vertical-align: top;\n    }\n\n    .dataframe thead th {\n        text-align: right;\n    }\n</style>\n<table border=\"1\" class=\"dataframe\">\n  <thead>\n    <tr style=\"text-align: right;\">\n      <th></th>\n      <th>Acquisition Date</th>\n      <th>Ticker</th>\n      <th>Quantity</th>\n      <th>Unit Cost</th>\n      <th>Cost Basis</th>\n      <th>Start of Year</th>\n    </tr>\n  </thead>\n  <tbody>\n    <tr>\n      <th>0</th>\n      <td>2013-02-07</td>\n      <td>AAPL</td>\n      <td>125</td>\n      <td>65.40</td>\n      <td>8175.00</td>\n      <td>2017-12-29</td>\n    </tr>\n    <tr>\n      <th>1</th>\n      <td>2014-02-27</td>\n      <td>JNJ</td>\n      <td>100</td>\n      <td>81.90</td>\n      <td>8190.00</td>\n      <td>2017-12-29</td>\n    </tr>\n    <tr>\n      <th>2</th>\n      <td>2013-06-04</td>\n      <td>MCD</td>\n      <td>100</td>\n      <td>84.99</td>\n      <td>8499.00</td>\n      <td>2017-12-29</td>\n    </tr>\n    <tr>\n      <th>3</th>\n      <td>2015-12-14</td>\n      <td>MTCH</td>\n      <td>600</td>\n      <td>13.63</td>\n      <td>8178.00</td>\n      <td>2017-12-29</td>\n    </tr>\n    <tr>\n      <th>4</th>\n      <td>2016-01-14</td>\n      <td>NFLX</td>\n      <td>75</td>\n      <td>108.71</td>\n      <td>8153.25</td>\n      <td>2017-12-29</td>\n    </tr>\n    <tr>\n      <th>5</th>\n      <td>2013-08-14</td>\n      <td>WMT</td>\n      <td>125</td>\n      <td>68.30</td>\n      <td>8537.50</td>\n      <td>2017-12-29</td>\n    </tr>\n    <tr>\n      <th>6</th>\n      <td>2013-12-13</td>\n      <td>FB</td>\n      <td>150</td>\n      <td>53.32</td>\n      <td>7998.00</td>\n      <td>2017-12-29</td>\n    </tr>\n    <tr>\n      <th>7</th>\n      <td>2015-01-05</td>\n      <td>TWTR</td>\n      <td>225</td>\n      <td>36.38</td>\n      <td>8185.50</td>\n      <td>2017-12-29</td>\n    </tr>\n  </tbody>\n</table>\n</div>"
     },
     "metadata": {},
     "execution_count": 4
    }
   ],
   "source": [
    "portfolio_df = pd.read_excel('Sample stocks acquisition dates_costs.xlsx', sheetname='Sample')\n",
    "\n",
    "portfolio_df.head(10)"
   ]
  },
  {
   "cell_type": "code",
   "execution_count": 32,
   "metadata": {},
   "outputs": [],
   "source": [
    "# The below will pull back stock prices from 2010 until end date specified.\n",
    "start_sp = datetime.datetime(2013, 1, 1)\n",
    "end_sp = datetime.datetime(2018, 3, 9)\n",
    "\n",
    "# This variable is used for YTD performance.\n",
    "end_of_last_year = datetime.datetime(2017, 12, 29)\n",
    "\n",
    "# These are separate if for some reason want different date range than SP.\n",
    "stocks_start = datetime.datetime(2013, 1, 1)\n",
    "stocks_end = datetime.datetime(2018, 3, 9)"
   ]
  },
  {
   "cell_type": "code",
   "execution_count": 16,
   "metadata": {},
   "outputs": [
    {
     "output_type": "stream",
     "name": "stdout",
     "text": "[*********************100%***********************]  1 of 1 completed\n"
    },
    {
     "output_type": "execute_result",
     "data": {
      "text/plain": "                   Open         High          Low        Close    Adj Close  \\\nDate                                                                          \n2013-01-02  1426.189941  1462.430054  1426.189941  1462.420044  1462.420044   \n2013-01-03  1462.420044  1465.469971  1455.530029  1459.369995  1459.369995   \n2013-01-04  1459.369995  1467.939941  1458.989990  1466.469971  1466.469971   \n2013-01-07  1466.469971  1466.469971  1456.619995  1461.890015  1461.890015   \n2013-01-08  1461.890015  1461.890015  1451.640015  1457.150024  1457.150024   \n\n                Volume  \nDate                    \n2013-01-02  4202600000  \n2013-01-03  3829730000  \n2013-01-04  3424290000  \n2013-01-07  3304970000  \n2013-01-08  3601600000  ",
      "text/html": "<div>\n<style scoped>\n    .dataframe tbody tr th:only-of-type {\n        vertical-align: middle;\n    }\n\n    .dataframe tbody tr th {\n        vertical-align: top;\n    }\n\n    .dataframe thead th {\n        text-align: right;\n    }\n</style>\n<table border=\"1\" class=\"dataframe\">\n  <thead>\n    <tr style=\"text-align: right;\">\n      <th></th>\n      <th>Open</th>\n      <th>High</th>\n      <th>Low</th>\n      <th>Close</th>\n      <th>Adj Close</th>\n      <th>Volume</th>\n    </tr>\n    <tr>\n      <th>Date</th>\n      <th></th>\n      <th></th>\n      <th></th>\n      <th></th>\n      <th></th>\n      <th></th>\n    </tr>\n  </thead>\n  <tbody>\n    <tr>\n      <th>2013-01-02</th>\n      <td>1426.189941</td>\n      <td>1462.430054</td>\n      <td>1426.189941</td>\n      <td>1462.420044</td>\n      <td>1462.420044</td>\n      <td>4202600000</td>\n    </tr>\n    <tr>\n      <th>2013-01-03</th>\n      <td>1462.420044</td>\n      <td>1465.469971</td>\n      <td>1455.530029</td>\n      <td>1459.369995</td>\n      <td>1459.369995</td>\n      <td>3829730000</td>\n    </tr>\n    <tr>\n      <th>2013-01-04</th>\n      <td>1459.369995</td>\n      <td>1467.939941</td>\n      <td>1458.989990</td>\n      <td>1466.469971</td>\n      <td>1466.469971</td>\n      <td>3424290000</td>\n    </tr>\n    <tr>\n      <th>2013-01-07</th>\n      <td>1466.469971</td>\n      <td>1466.469971</td>\n      <td>1456.619995</td>\n      <td>1461.890015</td>\n      <td>1461.890015</td>\n      <td>3304970000</td>\n    </tr>\n    <tr>\n      <th>2013-01-08</th>\n      <td>1461.890015</td>\n      <td>1461.890015</td>\n      <td>1451.640015</td>\n      <td>1457.150024</td>\n      <td>1457.150024</td>\n      <td>3601600000</td>\n    </tr>\n  </tbody>\n</table>\n</div>"
     },
     "metadata": {},
     "execution_count": 16
    }
   ],
   "source": [
    "from pandas_datareader import data as pdr\n",
    "import yfinance as yf\n",
    "yf.pdr_override() \n",
    "\n",
    "sp500 = pdr.get_data_yahoo('^GSPC', \n",
    "                           start_sp,\n",
    "                             end_sp)\n",
    "                          \n",
    "sp500.head()"
   ]
  },
  {
   "cell_type": "code",
   "execution_count": 18,
   "metadata": {},
   "outputs": [
    {
     "output_type": "execute_result",
     "data": {
      "text/plain": "                   Open         High          Low        Close    Adj Close  \\\nDate                                                                          \n2018-03-05  2681.060059  2728.090088  2675.750000  2720.939941  2720.939941   \n2018-03-06  2730.179932  2732.080078  2711.260010  2728.120117  2728.120117   \n2018-03-07  2710.179932  2730.600098  2701.739990  2726.800049  2726.800049   \n2018-03-08  2732.750000  2740.449951  2722.649902  2738.969971  2738.969971   \n2018-03-09  2752.909912  2786.570068  2751.540039  2786.570068  2786.570068   \n\n                Volume  \nDate                    \n2018-03-05  3710810000  \n2018-03-06  3370690000  \n2018-03-07  3393270000  \n2018-03-08  3212320000  \n2018-03-09  3364100000  ",
      "text/html": "<div>\n<style scoped>\n    .dataframe tbody tr th:only-of-type {\n        vertical-align: middle;\n    }\n\n    .dataframe tbody tr th {\n        vertical-align: top;\n    }\n\n    .dataframe thead th {\n        text-align: right;\n    }\n</style>\n<table border=\"1\" class=\"dataframe\">\n  <thead>\n    <tr style=\"text-align: right;\">\n      <th></th>\n      <th>Open</th>\n      <th>High</th>\n      <th>Low</th>\n      <th>Close</th>\n      <th>Adj Close</th>\n      <th>Volume</th>\n    </tr>\n    <tr>\n      <th>Date</th>\n      <th></th>\n      <th></th>\n      <th></th>\n      <th></th>\n      <th></th>\n      <th></th>\n    </tr>\n  </thead>\n  <tbody>\n    <tr>\n      <th>2018-03-05</th>\n      <td>2681.060059</td>\n      <td>2728.090088</td>\n      <td>2675.750000</td>\n      <td>2720.939941</td>\n      <td>2720.939941</td>\n      <td>3710810000</td>\n    </tr>\n    <tr>\n      <th>2018-03-06</th>\n      <td>2730.179932</td>\n      <td>2732.080078</td>\n      <td>2711.260010</td>\n      <td>2728.120117</td>\n      <td>2728.120117</td>\n      <td>3370690000</td>\n    </tr>\n    <tr>\n      <th>2018-03-07</th>\n      <td>2710.179932</td>\n      <td>2730.600098</td>\n      <td>2701.739990</td>\n      <td>2726.800049</td>\n      <td>2726.800049</td>\n      <td>3393270000</td>\n    </tr>\n    <tr>\n      <th>2018-03-08</th>\n      <td>2732.750000</td>\n      <td>2740.449951</td>\n      <td>2722.649902</td>\n      <td>2738.969971</td>\n      <td>2738.969971</td>\n      <td>3212320000</td>\n    </tr>\n    <tr>\n      <th>2018-03-09</th>\n      <td>2752.909912</td>\n      <td>2786.570068</td>\n      <td>2751.540039</td>\n      <td>2786.570068</td>\n      <td>2786.570068</td>\n      <td>3364100000</td>\n    </tr>\n  </tbody>\n</table>\n</div>"
     },
     "metadata": {},
     "execution_count": 18
    }
   ],
   "source": [
    "sp500.tail()"
   ]
  },
  {
   "cell_type": "code",
   "execution_count": 20,
   "metadata": {},
   "outputs": [],
   "source": [
    "sp500_adj_close = sp500[['Adj Close']].reset_index()\n"
   ]
  },
  {
   "cell_type": "code",
   "execution_count": 21,
   "metadata": {},
   "outputs": [
    {
     "output_type": "execute_result",
     "data": {
      "text/plain": "           Date    Adj Close\n1301 2018-03-05  2720.939941\n1302 2018-03-06  2728.120117\n1303 2018-03-07  2726.800049\n1304 2018-03-08  2738.969971\n1305 2018-03-09  2786.570068",
      "text/html": "<div>\n<style scoped>\n    .dataframe tbody tr th:only-of-type {\n        vertical-align: middle;\n    }\n\n    .dataframe tbody tr th {\n        vertical-align: top;\n    }\n\n    .dataframe thead th {\n        text-align: right;\n    }\n</style>\n<table border=\"1\" class=\"dataframe\">\n  <thead>\n    <tr style=\"text-align: right;\">\n      <th></th>\n      <th>Date</th>\n      <th>Adj Close</th>\n    </tr>\n  </thead>\n  <tbody>\n    <tr>\n      <th>1301</th>\n      <td>2018-03-05</td>\n      <td>2720.939941</td>\n    </tr>\n    <tr>\n      <th>1302</th>\n      <td>2018-03-06</td>\n      <td>2728.120117</td>\n    </tr>\n    <tr>\n      <th>1303</th>\n      <td>2018-03-07</td>\n      <td>2726.800049</td>\n    </tr>\n    <tr>\n      <th>1304</th>\n      <td>2018-03-08</td>\n      <td>2738.969971</td>\n    </tr>\n    <tr>\n      <th>1305</th>\n      <td>2018-03-09</td>\n      <td>2786.570068</td>\n    </tr>\n  </tbody>\n</table>\n</div>"
     },
     "metadata": {},
     "execution_count": 21
    }
   ],
   "source": [
    "sp500_adj_close.tail()\n"
   ]
  },
  {
   "cell_type": "code",
   "execution_count": 24,
   "metadata": {},
   "outputs": [
    {
     "output_type": "execute_result",
     "data": {
      "text/plain": "           Date    Adj Close\n1258 2017-12-29  2673.610107",
      "text/html": "<div>\n<style scoped>\n    .dataframe tbody tr th:only-of-type {\n        vertical-align: middle;\n    }\n\n    .dataframe tbody tr th {\n        vertical-align: top;\n    }\n\n    .dataframe thead th {\n        text-align: right;\n    }\n</style>\n<table border=\"1\" class=\"dataframe\">\n  <thead>\n    <tr style=\"text-align: right;\">\n      <th></th>\n      <th>Date</th>\n      <th>Adj Close</th>\n    </tr>\n  </thead>\n  <tbody>\n    <tr>\n      <th>1258</th>\n      <td>2017-12-29</td>\n      <td>2673.610107</td>\n    </tr>\n  </tbody>\n</table>\n</div>"
     },
     "metadata": {},
     "execution_count": 24
    }
   ],
   "source": [
    "sp_500_adj_close_start = sp500_adj_close[sp500_adj_close['Date']==end_of_last_year]\n",
    "sp_500_adj_close_start"
   ]
  },
  {
   "cell_type": "code",
   "execution_count": 25,
   "metadata": {},
   "outputs": [
    {
     "output_type": "execute_result",
     "data": {
      "text/plain": "array(['AAPL', 'JNJ', 'MCD', 'MTCH', 'NFLX', 'WMT', 'FB', 'TWTR'],\n      dtype=object)"
     },
     "metadata": {},
     "execution_count": 25
    }
   ],
   "source": [
    "tickers = portfolio_df['Ticker'].unique()\n",
    "tickers"
   ]
  },
  {
   "cell_type": "code",
   "execution_count": 26,
   "metadata": {},
   "outputs": [
    {
     "output_type": "stream",
     "name": "stdout",
     "text": "[*********************100%***********************]  1 of 1 completed\n[*********************100%***********************]  1 of 1 completed\n[*********************100%***********************]  1 of 1 completed\n[*********************100%***********************]  1 of 1 completed\n[*********************100%***********************]  1 of 1 completed\n[*********************100%***********************]  1 of 1 completed\n[*********************100%***********************]  1 of 1 completed\n[*********************100%***********************]  1 of 1 completed\n"
    }
   ],
   "source": [
    "def get(tickers, startdate, enddate):\n",
    "    def data(ticker):\n",
    "        return (pdr.get_data_yahoo(ticker, start=startdate, end=enddate))\n",
    "    datas = map(data, tickers)\n",
    "    return(pd.concat(datas, keys=tickers, names=['Ticker', 'Date']))\n",
    "               \n",
    "all_data = get(tickers, stocks_start, stocks_end)"
   ]
  },
  {
   "cell_type": "code",
   "execution_count": 27,
   "metadata": {},
   "outputs": [
    {
     "output_type": "execute_result",
     "data": {
      "text/plain": "                        Open       High        Low      Close  Adj Close  \\\nTicker Date                                                                \nAAPL   2013-01-02  79.117142  79.285713  77.375717  78.432854  68.502106   \n       2013-01-03  78.268570  78.524284  77.285713  77.442856  67.637436   \n       2013-01-04  76.709999  76.947144  75.118568  75.285713  65.753418   \n       2013-01-07  74.571426  75.614288  73.599998  74.842857  65.366646   \n       2013-01-08  75.601425  75.984283  74.464287  75.044289  65.542587   \n\n                      Volume  \nTicker Date                   \nAAPL   2013-01-02  140129500  \n       2013-01-03   88241300  \n       2013-01-04  148583400  \n       2013-01-07  121039100  \n       2013-01-08  114676800  ",
      "text/html": "<div>\n<style scoped>\n    .dataframe tbody tr th:only-of-type {\n        vertical-align: middle;\n    }\n\n    .dataframe tbody tr th {\n        vertical-align: top;\n    }\n\n    .dataframe thead th {\n        text-align: right;\n    }\n</style>\n<table border=\"1\" class=\"dataframe\">\n  <thead>\n    <tr style=\"text-align: right;\">\n      <th></th>\n      <th></th>\n      <th>Open</th>\n      <th>High</th>\n      <th>Low</th>\n      <th>Close</th>\n      <th>Adj Close</th>\n      <th>Volume</th>\n    </tr>\n    <tr>\n      <th>Ticker</th>\n      <th>Date</th>\n      <th></th>\n      <th></th>\n      <th></th>\n      <th></th>\n      <th></th>\n      <th></th>\n    </tr>\n  </thead>\n  <tbody>\n    <tr>\n      <th rowspan=\"5\" valign=\"top\">AAPL</th>\n      <th>2013-01-02</th>\n      <td>79.117142</td>\n      <td>79.285713</td>\n      <td>77.375717</td>\n      <td>78.432854</td>\n      <td>68.502106</td>\n      <td>140129500</td>\n    </tr>\n    <tr>\n      <th>2013-01-03</th>\n      <td>78.268570</td>\n      <td>78.524284</td>\n      <td>77.285713</td>\n      <td>77.442856</td>\n      <td>67.637436</td>\n      <td>88241300</td>\n    </tr>\n    <tr>\n      <th>2013-01-04</th>\n      <td>76.709999</td>\n      <td>76.947144</td>\n      <td>75.118568</td>\n      <td>75.285713</td>\n      <td>65.753418</td>\n      <td>148583400</td>\n    </tr>\n    <tr>\n      <th>2013-01-07</th>\n      <td>74.571426</td>\n      <td>75.614288</td>\n      <td>73.599998</td>\n      <td>74.842857</td>\n      <td>65.366646</td>\n      <td>121039100</td>\n    </tr>\n    <tr>\n      <th>2013-01-08</th>\n      <td>75.601425</td>\n      <td>75.984283</td>\n      <td>74.464287</td>\n      <td>75.044289</td>\n      <td>65.542587</td>\n      <td>114676800</td>\n    </tr>\n  </tbody>\n</table>\n</div>"
     },
     "metadata": {},
     "execution_count": 27
    }
   ],
   "source": [
    "all_data.head()"
   ]
  },
  {
   "cell_type": "code",
   "execution_count": 29,
   "metadata": {},
   "outputs": [
    {
     "output_type": "execute_result",
     "data": {
      "text/plain": "  Ticker       Date  Adj Close\n0   AAPL 2013-01-02  68.502106\n1   AAPL 2013-01-03  67.637436\n2   AAPL 2013-01-04  65.753418\n3   AAPL 2013-01-07  65.366646\n4   AAPL 2013-01-08  65.542587",
      "text/html": "<div>\n<style scoped>\n    .dataframe tbody tr th:only-of-type {\n        vertical-align: middle;\n    }\n\n    .dataframe tbody tr th {\n        vertical-align: top;\n    }\n\n    .dataframe thead th {\n        text-align: right;\n    }\n</style>\n<table border=\"1\" class=\"dataframe\">\n  <thead>\n    <tr style=\"text-align: right;\">\n      <th></th>\n      <th>Ticker</th>\n      <th>Date</th>\n      <th>Adj Close</th>\n    </tr>\n  </thead>\n  <tbody>\n    <tr>\n      <th>0</th>\n      <td>AAPL</td>\n      <td>2013-01-02</td>\n      <td>68.502106</td>\n    </tr>\n    <tr>\n      <th>1</th>\n      <td>AAPL</td>\n      <td>2013-01-03</td>\n      <td>67.637436</td>\n    </tr>\n    <tr>\n      <th>2</th>\n      <td>AAPL</td>\n      <td>2013-01-04</td>\n      <td>65.753418</td>\n    </tr>\n    <tr>\n      <th>3</th>\n      <td>AAPL</td>\n      <td>2013-01-07</td>\n      <td>65.366646</td>\n    </tr>\n    <tr>\n      <th>4</th>\n      <td>AAPL</td>\n      <td>2013-01-08</td>\n      <td>65.542587</td>\n    </tr>\n  </tbody>\n</table>\n</div>"
     },
     "metadata": {},
     "execution_count": 29
    }
   ],
   "source": [
    "adj_close = all_data[['Adj Close']].reset_index()\n",
    "adj_close.head()"
   ]
  },
  {
   "cell_type": "code",
   "execution_count": 30,
   "metadata": {},
   "outputs": [
    {
     "output_type": "execute_result",
     "data": {
      "text/plain": "     Ticker       Date   Adj Close\n1258   AAPL 2017-12-29  163.427597\n2564    JNJ 2017-12-29  130.557571\n3870    MCD 2017-12-29  162.893448\n4449   MTCH 2017-12-29   29.799627\n5755   NFLX 2017-12-29  191.960007",
      "text/html": "<div>\n<style scoped>\n    .dataframe tbody tr th:only-of-type {\n        vertical-align: middle;\n    }\n\n    .dataframe tbody tr th {\n        vertical-align: top;\n    }\n\n    .dataframe thead th {\n        text-align: right;\n    }\n</style>\n<table border=\"1\" class=\"dataframe\">\n  <thead>\n    <tr style=\"text-align: right;\">\n      <th></th>\n      <th>Ticker</th>\n      <th>Date</th>\n      <th>Adj Close</th>\n    </tr>\n  </thead>\n  <tbody>\n    <tr>\n      <th>1258</th>\n      <td>AAPL</td>\n      <td>2017-12-29</td>\n      <td>163.427597</td>\n    </tr>\n    <tr>\n      <th>2564</th>\n      <td>JNJ</td>\n      <td>2017-12-29</td>\n      <td>130.557571</td>\n    </tr>\n    <tr>\n      <th>3870</th>\n      <td>MCD</td>\n      <td>2017-12-29</td>\n      <td>162.893448</td>\n    </tr>\n    <tr>\n      <th>4449</th>\n      <td>MTCH</td>\n      <td>2017-12-29</td>\n      <td>29.799627</td>\n    </tr>\n    <tr>\n      <th>5755</th>\n      <td>NFLX</td>\n      <td>2017-12-29</td>\n      <td>191.960007</td>\n    </tr>\n  </tbody>\n</table>\n</div>"
     },
     "metadata": {},
     "execution_count": 30
    }
   ],
   "source": [
    "adj_close_start = adj_close[adj_close['Date']==end_of_last_year]\n",
    "adj_close_start.head()"
   ]
  },
  {
   "cell_type": "code",
   "execution_count": 33,
   "metadata": {},
   "outputs": [
    {
     "output_type": "execute_result",
     "data": {
      "text/plain": "     Ticker       Date   Adj Close\n1305   AAPL 2018-03-09  174.517639\n2611    JNJ 2018-03-09  125.826385\n3917    MCD 2018-03-09  149.752518\n4496   MTCH 2018-03-09   42.629364\n5802   NFLX 2018-03-09  331.440002\n7108    WMT 2018-03-09   84.700142\n8414     FB 2018-03-09  185.229996\n9505   TWTR 2018-03-09   35.349998",
      "text/html": "<div>\n<style scoped>\n    .dataframe tbody tr th:only-of-type {\n        vertical-align: middle;\n    }\n\n    .dataframe tbody tr th {\n        vertical-align: top;\n    }\n\n    .dataframe thead th {\n        text-align: right;\n    }\n</style>\n<table border=\"1\" class=\"dataframe\">\n  <thead>\n    <tr style=\"text-align: right;\">\n      <th></th>\n      <th>Ticker</th>\n      <th>Date</th>\n      <th>Adj Close</th>\n    </tr>\n  </thead>\n  <tbody>\n    <tr>\n      <th>1305</th>\n      <td>AAPL</td>\n      <td>2018-03-09</td>\n      <td>174.517639</td>\n    </tr>\n    <tr>\n      <th>2611</th>\n      <td>JNJ</td>\n      <td>2018-03-09</td>\n      <td>125.826385</td>\n    </tr>\n    <tr>\n      <th>3917</th>\n      <td>MCD</td>\n      <td>2018-03-09</td>\n      <td>149.752518</td>\n    </tr>\n    <tr>\n      <th>4496</th>\n      <td>MTCH</td>\n      <td>2018-03-09</td>\n      <td>42.629364</td>\n    </tr>\n    <tr>\n      <th>5802</th>\n      <td>NFLX</td>\n      <td>2018-03-09</td>\n      <td>331.440002</td>\n    </tr>\n    <tr>\n      <th>7108</th>\n      <td>WMT</td>\n      <td>2018-03-09</td>\n      <td>84.700142</td>\n    </tr>\n    <tr>\n      <th>8414</th>\n      <td>FB</td>\n      <td>2018-03-09</td>\n      <td>185.229996</td>\n    </tr>\n    <tr>\n      <th>9505</th>\n      <td>TWTR</td>\n      <td>2018-03-09</td>\n      <td>35.349998</td>\n    </tr>\n  </tbody>\n</table>\n</div>"
     },
     "metadata": {},
     "execution_count": 33
    }
   ],
   "source": [
    "adj_close_latest = adj_close[adj_close['Date']==stocks_end]\n",
    "adj_close_latest"
   ]
  },
  {
   "cell_type": "code",
   "execution_count": 34,
   "metadata": {},
   "outputs": [
    {
     "output_type": "execute_result",
     "data": {
      "text/plain": "             Date   Adj Close\nTicker                       \nAAPL   2018-03-09  174.517639\nJNJ    2018-03-09  125.826385\nMCD    2018-03-09  149.752518\nMTCH   2018-03-09   42.629364\nNFLX   2018-03-09  331.440002",
      "text/html": "<div>\n<style scoped>\n    .dataframe tbody tr th:only-of-type {\n        vertical-align: middle;\n    }\n\n    .dataframe tbody tr th {\n        vertical-align: top;\n    }\n\n    .dataframe thead th {\n        text-align: right;\n    }\n</style>\n<table border=\"1\" class=\"dataframe\">\n  <thead>\n    <tr style=\"text-align: right;\">\n      <th></th>\n      <th>Date</th>\n      <th>Adj Close</th>\n    </tr>\n    <tr>\n      <th>Ticker</th>\n      <th></th>\n      <th></th>\n    </tr>\n  </thead>\n  <tbody>\n    <tr>\n      <th>AAPL</th>\n      <td>2018-03-09</td>\n      <td>174.517639</td>\n    </tr>\n    <tr>\n      <th>JNJ</th>\n      <td>2018-03-09</td>\n      <td>125.826385</td>\n    </tr>\n    <tr>\n      <th>MCD</th>\n      <td>2018-03-09</td>\n      <td>149.752518</td>\n    </tr>\n    <tr>\n      <th>MTCH</th>\n      <td>2018-03-09</td>\n      <td>42.629364</td>\n    </tr>\n    <tr>\n      <th>NFLX</th>\n      <td>2018-03-09</td>\n      <td>331.440002</td>\n    </tr>\n  </tbody>\n</table>\n</div>"
     },
     "metadata": {},
     "execution_count": 34
    }
   ],
   "source": [
    "adj_close_latest.set_index('Ticker', inplace=True)\n",
    "adj_close_latest.head()\n"
   ]
  },
  {
   "cell_type": "code",
   "execution_count": 35,
   "metadata": {},
   "outputs": [
    {
     "output_type": "execute_result",
     "data": {
      "text/plain": "       Acquisition Date  Quantity  Unit Cost  Cost Basis Start of Year\nTicker                                                                \nAAPL         2013-02-07       125      65.40     8175.00    2017-12-29\nJNJ          2014-02-27       100      81.90     8190.00    2017-12-29\nMCD          2013-06-04       100      84.99     8499.00    2017-12-29\nMTCH         2015-12-14       600      13.63     8178.00    2017-12-29\nNFLX         2016-01-14        75     108.71     8153.25    2017-12-29",
      "text/html": "<div>\n<style scoped>\n    .dataframe tbody tr th:only-of-type {\n        vertical-align: middle;\n    }\n\n    .dataframe tbody tr th {\n        vertical-align: top;\n    }\n\n    .dataframe thead th {\n        text-align: right;\n    }\n</style>\n<table border=\"1\" class=\"dataframe\">\n  <thead>\n    <tr style=\"text-align: right;\">\n      <th></th>\n      <th>Acquisition Date</th>\n      <th>Quantity</th>\n      <th>Unit Cost</th>\n      <th>Cost Basis</th>\n      <th>Start of Year</th>\n    </tr>\n    <tr>\n      <th>Ticker</th>\n      <th></th>\n      <th></th>\n      <th></th>\n      <th></th>\n      <th></th>\n    </tr>\n  </thead>\n  <tbody>\n    <tr>\n      <th>AAPL</th>\n      <td>2013-02-07</td>\n      <td>125</td>\n      <td>65.40</td>\n      <td>8175.00</td>\n      <td>2017-12-29</td>\n    </tr>\n    <tr>\n      <th>JNJ</th>\n      <td>2014-02-27</td>\n      <td>100</td>\n      <td>81.90</td>\n      <td>8190.00</td>\n      <td>2017-12-29</td>\n    </tr>\n    <tr>\n      <th>MCD</th>\n      <td>2013-06-04</td>\n      <td>100</td>\n      <td>84.99</td>\n      <td>8499.00</td>\n      <td>2017-12-29</td>\n    </tr>\n    <tr>\n      <th>MTCH</th>\n      <td>2015-12-14</td>\n      <td>600</td>\n      <td>13.63</td>\n      <td>8178.00</td>\n      <td>2017-12-29</td>\n    </tr>\n    <tr>\n      <th>NFLX</th>\n      <td>2016-01-14</td>\n      <td>75</td>\n      <td>108.71</td>\n      <td>8153.25</td>\n      <td>2017-12-29</td>\n    </tr>\n  </tbody>\n</table>\n</div>"
     },
     "metadata": {},
     "execution_count": 35
    }
   ],
   "source": [
    "portfolio_df.set_index(['Ticker'], inplace=True)\n",
    "\n",
    "portfolio_df.head()"
   ]
  },
  {
   "cell_type": "code",
   "execution_count": 38,
   "metadata": {},
   "outputs": [
    {
     "output_type": "execute_result",
     "data": {
      "text/plain": "       Acquisition Date  Quantity  Unit Cost  Cost Basis Start of Year  \\\nTicker                                                                   \nAAPL         2013-02-07       125      65.40     8175.00    2017-12-29   \nJNJ          2014-02-27       100      81.90     8190.00    2017-12-29   \nMCD          2013-06-04       100      84.99     8499.00    2017-12-29   \nMTCH         2015-12-14       600      13.63     8178.00    2017-12-29   \nNFLX         2016-01-14        75     108.71     8153.25    2017-12-29   \n\n             Date   Adj Close  \nTicker                         \nAAPL   2018-03-09  174.517639  \nJNJ    2018-03-09  125.826385  \nMCD    2018-03-09  149.752518  \nMTCH   2018-03-09   42.629364  \nNFLX   2018-03-09  331.440002  ",
      "text/html": "<div>\n<style scoped>\n    .dataframe tbody tr th:only-of-type {\n        vertical-align: middle;\n    }\n\n    .dataframe tbody tr th {\n        vertical-align: top;\n    }\n\n    .dataframe thead th {\n        text-align: right;\n    }\n</style>\n<table border=\"1\" class=\"dataframe\">\n  <thead>\n    <tr style=\"text-align: right;\">\n      <th></th>\n      <th>Acquisition Date</th>\n      <th>Quantity</th>\n      <th>Unit Cost</th>\n      <th>Cost Basis</th>\n      <th>Start of Year</th>\n      <th>Date</th>\n      <th>Adj Close</th>\n    </tr>\n    <tr>\n      <th>Ticker</th>\n      <th></th>\n      <th></th>\n      <th></th>\n      <th></th>\n      <th></th>\n      <th></th>\n      <th></th>\n    </tr>\n  </thead>\n  <tbody>\n    <tr>\n      <th>AAPL</th>\n      <td>2013-02-07</td>\n      <td>125</td>\n      <td>65.40</td>\n      <td>8175.00</td>\n      <td>2017-12-29</td>\n      <td>2018-03-09</td>\n      <td>174.517639</td>\n    </tr>\n    <tr>\n      <th>JNJ</th>\n      <td>2014-02-27</td>\n      <td>100</td>\n      <td>81.90</td>\n      <td>8190.00</td>\n      <td>2017-12-29</td>\n      <td>2018-03-09</td>\n      <td>125.826385</td>\n    </tr>\n    <tr>\n      <th>MCD</th>\n      <td>2013-06-04</td>\n      <td>100</td>\n      <td>84.99</td>\n      <td>8499.00</td>\n      <td>2017-12-29</td>\n      <td>2018-03-09</td>\n      <td>149.752518</td>\n    </tr>\n    <tr>\n      <th>MTCH</th>\n      <td>2015-12-14</td>\n      <td>600</td>\n      <td>13.63</td>\n      <td>8178.00</td>\n      <td>2017-12-29</td>\n      <td>2018-03-09</td>\n      <td>42.629364</td>\n    </tr>\n    <tr>\n      <th>NFLX</th>\n      <td>2016-01-14</td>\n      <td>75</td>\n      <td>108.71</td>\n      <td>8153.25</td>\n      <td>2017-12-29</td>\n      <td>2018-03-09</td>\n      <td>331.440002</td>\n    </tr>\n  </tbody>\n</table>\n</div>"
     },
     "metadata": {},
     "execution_count": 38
    }
   ],
   "source": [
    "merged_portfolio = pd.merge(portfolio_df, adj_close_latest, left_index=True, right_index=True)\n",
    "merged_portfolio.head()"
   ]
  },
  {
   "cell_type": "code",
   "execution_count": 39,
   "metadata": {},
   "outputs": [
    {
     "output_type": "execute_result",
     "data": {
      "text/plain": "       Acquisition Date  Quantity  Unit Cost  Cost Basis Start of Year  \\\nTicker                                                                   \nAAPL         2013-02-07       125      65.40     8175.00    2017-12-29   \nJNJ          2014-02-27       100      81.90     8190.00    2017-12-29   \nMCD          2013-06-04       100      84.99     8499.00    2017-12-29   \nMTCH         2015-12-14       600      13.63     8178.00    2017-12-29   \nNFLX         2016-01-14        75     108.71     8153.25    2017-12-29   \nWMT          2013-08-14       125      68.30     8537.50    2017-12-29   \nFB           2013-12-13       150      53.32     7998.00    2017-12-29   \nTWTR         2015-01-05       225      36.38     8185.50    2017-12-29   \n\n             Date   Adj Close  ticker return  \nTicker                                        \nAAPL   2018-03-09  174.517639       1.668465  \nJNJ    2018-03-09  125.826385       0.536342  \nMCD    2018-03-09  149.752518       0.762002  \nMTCH   2018-03-09   42.629364       2.127613  \nNFLX   2018-03-09  331.440002       2.048846  \nWMT    2018-03-09   84.700142       0.240119  \nFB     2018-03-09  185.229996       2.473931  \nTWTR   2018-03-09   35.349998      -0.028312  ",
      "text/html": "<div>\n<style scoped>\n    .dataframe tbody tr th:only-of-type {\n        vertical-align: middle;\n    }\n\n    .dataframe tbody tr th {\n        vertical-align: top;\n    }\n\n    .dataframe thead th {\n        text-align: right;\n    }\n</style>\n<table border=\"1\" class=\"dataframe\">\n  <thead>\n    <tr style=\"text-align: right;\">\n      <th></th>\n      <th>Acquisition Date</th>\n      <th>Quantity</th>\n      <th>Unit Cost</th>\n      <th>Cost Basis</th>\n      <th>Start of Year</th>\n      <th>Date</th>\n      <th>Adj Close</th>\n      <th>ticker return</th>\n    </tr>\n    <tr>\n      <th>Ticker</th>\n      <th></th>\n      <th></th>\n      <th></th>\n      <th></th>\n      <th></th>\n      <th></th>\n      <th></th>\n      <th></th>\n    </tr>\n  </thead>\n  <tbody>\n    <tr>\n      <th>AAPL</th>\n      <td>2013-02-07</td>\n      <td>125</td>\n      <td>65.40</td>\n      <td>8175.00</td>\n      <td>2017-12-29</td>\n      <td>2018-03-09</td>\n      <td>174.517639</td>\n      <td>1.668465</td>\n    </tr>\n    <tr>\n      <th>JNJ</th>\n      <td>2014-02-27</td>\n      <td>100</td>\n      <td>81.90</td>\n      <td>8190.00</td>\n      <td>2017-12-29</td>\n      <td>2018-03-09</td>\n      <td>125.826385</td>\n      <td>0.536342</td>\n    </tr>\n    <tr>\n      <th>MCD</th>\n      <td>2013-06-04</td>\n      <td>100</td>\n      <td>84.99</td>\n      <td>8499.00</td>\n      <td>2017-12-29</td>\n      <td>2018-03-09</td>\n      <td>149.752518</td>\n      <td>0.762002</td>\n    </tr>\n    <tr>\n      <th>MTCH</th>\n      <td>2015-12-14</td>\n      <td>600</td>\n      <td>13.63</td>\n      <td>8178.00</td>\n      <td>2017-12-29</td>\n      <td>2018-03-09</td>\n      <td>42.629364</td>\n      <td>2.127613</td>\n    </tr>\n    <tr>\n      <th>NFLX</th>\n      <td>2016-01-14</td>\n      <td>75</td>\n      <td>108.71</td>\n      <td>8153.25</td>\n      <td>2017-12-29</td>\n      <td>2018-03-09</td>\n      <td>331.440002</td>\n      <td>2.048846</td>\n    </tr>\n    <tr>\n      <th>WMT</th>\n      <td>2013-08-14</td>\n      <td>125</td>\n      <td>68.30</td>\n      <td>8537.50</td>\n      <td>2017-12-29</td>\n      <td>2018-03-09</td>\n      <td>84.700142</td>\n      <td>0.240119</td>\n    </tr>\n    <tr>\n      <th>FB</th>\n      <td>2013-12-13</td>\n      <td>150</td>\n      <td>53.32</td>\n      <td>7998.00</td>\n      <td>2017-12-29</td>\n      <td>2018-03-09</td>\n      <td>185.229996</td>\n      <td>2.473931</td>\n    </tr>\n    <tr>\n      <th>TWTR</th>\n      <td>2015-01-05</td>\n      <td>225</td>\n      <td>36.38</td>\n      <td>8185.50</td>\n      <td>2017-12-29</td>\n      <td>2018-03-09</td>\n      <td>35.349998</td>\n      <td>-0.028312</td>\n    </tr>\n  </tbody>\n</table>\n</div>"
     },
     "metadata": {},
     "execution_count": 39
    }
   ],
   "source": [
    "merged_portfolio['ticker return'] = merged_portfolio['Adj Close'] / merged_portfolio['Unit Cost'] - 1\n",
    "\n",
    "merged_portfolio"
   ]
  },
  {
   "cell_type": "code",
   "execution_count": 40,
   "metadata": {},
   "outputs": [],
   "source": [
    "\n",
    "merged_portfolio.reset_index(inplace=True)"
   ]
  },
  {
   "cell_type": "code",
   "execution_count": 42,
   "metadata": {},
   "outputs": [
    {
     "output_type": "execute_result",
     "data": {
      "text/plain": "  Ticker Acquisition Date  Quantity  Unit Cost  Cost Basis Start of Year  \\\n0   AAPL       2013-02-07       125      65.40     8175.00    2017-12-29   \n1    JNJ       2014-02-27       100      81.90     8190.00    2017-12-29   \n2    MCD       2013-06-04       100      84.99     8499.00    2017-12-29   \n3   MTCH       2015-12-14       600      13.63     8178.00    2017-12-29   \n4   NFLX       2016-01-14        75     108.71     8153.25    2017-12-29   \n\n      Date_x  Adj Close_x  ticker return     Date_y  Adj Close_y  \n0 2018-03-09   174.517639       1.668465 2013-02-07  1509.390015  \n1 2018-03-09   125.826385       0.536342 2014-02-27  1854.290039  \n2 2018-03-09   149.752518       0.762002 2013-06-04  1631.380005  \n3 2018-03-09    42.629364       2.127613 2015-12-14  2021.939941  \n4 2018-03-09   331.440002       2.048846 2016-01-14  1921.839966  ",
      "text/html": "<div>\n<style scoped>\n    .dataframe tbody tr th:only-of-type {\n        vertical-align: middle;\n    }\n\n    .dataframe tbody tr th {\n        vertical-align: top;\n    }\n\n    .dataframe thead th {\n        text-align: right;\n    }\n</style>\n<table border=\"1\" class=\"dataframe\">\n  <thead>\n    <tr style=\"text-align: right;\">\n      <th></th>\n      <th>Ticker</th>\n      <th>Acquisition Date</th>\n      <th>Quantity</th>\n      <th>Unit Cost</th>\n      <th>Cost Basis</th>\n      <th>Start of Year</th>\n      <th>Date_x</th>\n      <th>Adj Close_x</th>\n      <th>ticker return</th>\n      <th>Date_y</th>\n      <th>Adj Close_y</th>\n    </tr>\n  </thead>\n  <tbody>\n    <tr>\n      <th>0</th>\n      <td>AAPL</td>\n      <td>2013-02-07</td>\n      <td>125</td>\n      <td>65.40</td>\n      <td>8175.00</td>\n      <td>2017-12-29</td>\n      <td>2018-03-09</td>\n      <td>174.517639</td>\n      <td>1.668465</td>\n      <td>2013-02-07</td>\n      <td>1509.390015</td>\n    </tr>\n    <tr>\n      <th>1</th>\n      <td>JNJ</td>\n      <td>2014-02-27</td>\n      <td>100</td>\n      <td>81.90</td>\n      <td>8190.00</td>\n      <td>2017-12-29</td>\n      <td>2018-03-09</td>\n      <td>125.826385</td>\n      <td>0.536342</td>\n      <td>2014-02-27</td>\n      <td>1854.290039</td>\n    </tr>\n    <tr>\n      <th>2</th>\n      <td>MCD</td>\n      <td>2013-06-04</td>\n      <td>100</td>\n      <td>84.99</td>\n      <td>8499.00</td>\n      <td>2017-12-29</td>\n      <td>2018-03-09</td>\n      <td>149.752518</td>\n      <td>0.762002</td>\n      <td>2013-06-04</td>\n      <td>1631.380005</td>\n    </tr>\n    <tr>\n      <th>3</th>\n      <td>MTCH</td>\n      <td>2015-12-14</td>\n      <td>600</td>\n      <td>13.63</td>\n      <td>8178.00</td>\n      <td>2017-12-29</td>\n      <td>2018-03-09</td>\n      <td>42.629364</td>\n      <td>2.127613</td>\n      <td>2015-12-14</td>\n      <td>2021.939941</td>\n    </tr>\n    <tr>\n      <th>4</th>\n      <td>NFLX</td>\n      <td>2016-01-14</td>\n      <td>75</td>\n      <td>108.71</td>\n      <td>8153.25</td>\n      <td>2017-12-29</td>\n      <td>2018-03-09</td>\n      <td>331.440002</td>\n      <td>2.048846</td>\n      <td>2016-01-14</td>\n      <td>1921.839966</td>\n    </tr>\n  </tbody>\n</table>\n</div>"
     },
     "metadata": {},
     "execution_count": 42
    }
   ],
   "source": [
    "merged_portfolio_sp = pd.merge(merged_portfolio, sp500_adj_close, left_on='Acquisition Date', right_on='Date')\n",
    "# .set_index('Ticker')\n",
    "\n",
    "merged_portfolio_sp.head()"
   ]
  },
  {
   "cell_type": "code",
   "execution_count": 43,
   "metadata": {},
   "outputs": [
    {
     "output_type": "execute_result",
     "data": {
      "text/plain": "  Ticker Acquisition Date  Quantity  Unit Cost  Cost Basis Start of Year  \\\n0   AAPL       2013-02-07       125      65.40     8175.00    2017-12-29   \n1    JNJ       2014-02-27       100      81.90     8190.00    2017-12-29   \n2    MCD       2013-06-04       100      84.99     8499.00    2017-12-29   \n3   MTCH       2015-12-14       600      13.63     8178.00    2017-12-29   \n4   NFLX       2016-01-14        75     108.71     8153.25    2017-12-29   \n\n  Latest Date  Ticker Adj Close  ticker return  SP 500 Initial Close  \n0  2018-03-09        174.517639       1.668465           1509.390015  \n1  2018-03-09        125.826385       0.536342           1854.290039  \n2  2018-03-09        149.752518       0.762002           1631.380005  \n3  2018-03-09         42.629364       2.127613           2021.939941  \n4  2018-03-09        331.440002       2.048846           1921.839966  ",
      "text/html": "<div>\n<style scoped>\n    .dataframe tbody tr th:only-of-type {\n        vertical-align: middle;\n    }\n\n    .dataframe tbody tr th {\n        vertical-align: top;\n    }\n\n    .dataframe thead th {\n        text-align: right;\n    }\n</style>\n<table border=\"1\" class=\"dataframe\">\n  <thead>\n    <tr style=\"text-align: right;\">\n      <th></th>\n      <th>Ticker</th>\n      <th>Acquisition Date</th>\n      <th>Quantity</th>\n      <th>Unit Cost</th>\n      <th>Cost Basis</th>\n      <th>Start of Year</th>\n      <th>Latest Date</th>\n      <th>Ticker Adj Close</th>\n      <th>ticker return</th>\n      <th>SP 500 Initial Close</th>\n    </tr>\n  </thead>\n  <tbody>\n    <tr>\n      <th>0</th>\n      <td>AAPL</td>\n      <td>2013-02-07</td>\n      <td>125</td>\n      <td>65.40</td>\n      <td>8175.00</td>\n      <td>2017-12-29</td>\n      <td>2018-03-09</td>\n      <td>174.517639</td>\n      <td>1.668465</td>\n      <td>1509.390015</td>\n    </tr>\n    <tr>\n      <th>1</th>\n      <td>JNJ</td>\n      <td>2014-02-27</td>\n      <td>100</td>\n      <td>81.90</td>\n      <td>8190.00</td>\n      <td>2017-12-29</td>\n      <td>2018-03-09</td>\n      <td>125.826385</td>\n      <td>0.536342</td>\n      <td>1854.290039</td>\n    </tr>\n    <tr>\n      <th>2</th>\n      <td>MCD</td>\n      <td>2013-06-04</td>\n      <td>100</td>\n      <td>84.99</td>\n      <td>8499.00</td>\n      <td>2017-12-29</td>\n      <td>2018-03-09</td>\n      <td>149.752518</td>\n      <td>0.762002</td>\n      <td>1631.380005</td>\n    </tr>\n    <tr>\n      <th>3</th>\n      <td>MTCH</td>\n      <td>2015-12-14</td>\n      <td>600</td>\n      <td>13.63</td>\n      <td>8178.00</td>\n      <td>2017-12-29</td>\n      <td>2018-03-09</td>\n      <td>42.629364</td>\n      <td>2.127613</td>\n      <td>2021.939941</td>\n    </tr>\n    <tr>\n      <th>4</th>\n      <td>NFLX</td>\n      <td>2016-01-14</td>\n      <td>75</td>\n      <td>108.71</td>\n      <td>8153.25</td>\n      <td>2017-12-29</td>\n      <td>2018-03-09</td>\n      <td>331.440002</td>\n      <td>2.048846</td>\n      <td>1921.839966</td>\n    </tr>\n  </tbody>\n</table>\n</div>"
     },
     "metadata": {},
     "execution_count": 43
    }
   ],
   "source": [
    "del merged_portfolio_sp['Date_y']\n",
    "\n",
    "merged_portfolio_sp.rename(columns={'Date_x': 'Latest Date', 'Adj Close_x': 'Ticker Adj Close'\n",
    "                                    , 'Adj Close_y': 'SP 500 Initial Close'}, inplace=True)\n",
    "\n",
    "merged_portfolio_sp.head()"
   ]
  },
  {
   "cell_type": "code",
   "execution_count": 44,
   "metadata": {},
   "outputs": [
    {
     "output_type": "execute_result",
     "data": {
      "text/plain": "  Ticker Acquisition Date  Quantity  Unit Cost  Cost Basis Start of Year  \\\n0   AAPL       2013-02-07       125      65.40     8175.00    2017-12-29   \n1    JNJ       2014-02-27       100      81.90     8190.00    2017-12-29   \n2    MCD       2013-06-04       100      84.99     8499.00    2017-12-29   \n3   MTCH       2015-12-14       600      13.63     8178.00    2017-12-29   \n4   NFLX       2016-01-14        75     108.71     8153.25    2017-12-29   \n\n  Latest Date  Ticker Adj Close  ticker return  SP 500 Initial Close  \\\n0  2018-03-09        174.517639       1.668465           1509.390015   \n1  2018-03-09        125.826385       0.536342           1854.290039   \n2  2018-03-09        149.752518       0.762002           1631.380005   \n3  2018-03-09         42.629364       2.127613           2021.939941   \n4  2018-03-09        331.440002       2.048846           1921.839966   \n\n   Equiv SP Shares  \n0         5.416095  \n1         4.416785  \n2         5.209700  \n3         4.044631  \n4         4.242419  ",
      "text/html": "<div>\n<style scoped>\n    .dataframe tbody tr th:only-of-type {\n        vertical-align: middle;\n    }\n\n    .dataframe tbody tr th {\n        vertical-align: top;\n    }\n\n    .dataframe thead th {\n        text-align: right;\n    }\n</style>\n<table border=\"1\" class=\"dataframe\">\n  <thead>\n    <tr style=\"text-align: right;\">\n      <th></th>\n      <th>Ticker</th>\n      <th>Acquisition Date</th>\n      <th>Quantity</th>\n      <th>Unit Cost</th>\n      <th>Cost Basis</th>\n      <th>Start of Year</th>\n      <th>Latest Date</th>\n      <th>Ticker Adj Close</th>\n      <th>ticker return</th>\n      <th>SP 500 Initial Close</th>\n      <th>Equiv SP Shares</th>\n    </tr>\n  </thead>\n  <tbody>\n    <tr>\n      <th>0</th>\n      <td>AAPL</td>\n      <td>2013-02-07</td>\n      <td>125</td>\n      <td>65.40</td>\n      <td>8175.00</td>\n      <td>2017-12-29</td>\n      <td>2018-03-09</td>\n      <td>174.517639</td>\n      <td>1.668465</td>\n      <td>1509.390015</td>\n      <td>5.416095</td>\n    </tr>\n    <tr>\n      <th>1</th>\n      <td>JNJ</td>\n      <td>2014-02-27</td>\n      <td>100</td>\n      <td>81.90</td>\n      <td>8190.00</td>\n      <td>2017-12-29</td>\n      <td>2018-03-09</td>\n      <td>125.826385</td>\n      <td>0.536342</td>\n      <td>1854.290039</td>\n      <td>4.416785</td>\n    </tr>\n    <tr>\n      <th>2</th>\n      <td>MCD</td>\n      <td>2013-06-04</td>\n      <td>100</td>\n      <td>84.99</td>\n      <td>8499.00</td>\n      <td>2017-12-29</td>\n      <td>2018-03-09</td>\n      <td>149.752518</td>\n      <td>0.762002</td>\n      <td>1631.380005</td>\n      <td>5.209700</td>\n    </tr>\n    <tr>\n      <th>3</th>\n      <td>MTCH</td>\n      <td>2015-12-14</td>\n      <td>600</td>\n      <td>13.63</td>\n      <td>8178.00</td>\n      <td>2017-12-29</td>\n      <td>2018-03-09</td>\n      <td>42.629364</td>\n      <td>2.127613</td>\n      <td>2021.939941</td>\n      <td>4.044631</td>\n    </tr>\n    <tr>\n      <th>4</th>\n      <td>NFLX</td>\n      <td>2016-01-14</td>\n      <td>75</td>\n      <td>108.71</td>\n      <td>8153.25</td>\n      <td>2017-12-29</td>\n      <td>2018-03-09</td>\n      <td>331.440002</td>\n      <td>2.048846</td>\n      <td>1921.839966</td>\n      <td>4.242419</td>\n    </tr>\n  </tbody>\n</table>\n</div>"
     },
     "metadata": {},
     "execution_count": 44
    }
   ],
   "source": [
    "merged_portfolio_sp['Equiv SP Shares'] = merged_portfolio_sp['Cost Basis'] / merged_portfolio_sp['SP 500 Initial Close']\n",
    "merged_portfolio_sp.head()"
   ]
  },
  {
   "cell_type": "code",
   "execution_count": 46,
   "metadata": {},
   "outputs": [
    {
     "output_type": "execute_result",
     "data": {
      "text/plain": "  Ticker Acquisition Date  Quantity  Unit Cost  Cost Basis Start of Year  \\\n0   AAPL       2013-02-07       125      65.40     8175.00    2017-12-29   \n1    JNJ       2014-02-27       100      81.90     8190.00    2017-12-29   \n2    MCD       2013-06-04       100      84.99     8499.00    2017-12-29   \n3   MTCH       2015-12-14       600      13.63     8178.00    2017-12-29   \n4   NFLX       2016-01-14        75     108.71     8153.25    2017-12-29   \n\n  Latest Date  Ticker Adj Close  ticker return  SP 500 Initial Close  \\\n0  2018-03-09        174.517639       1.668465           1509.390015   \n1  2018-03-09        125.826385       0.536342           1854.290039   \n2  2018-03-09        149.752518       0.762002           1631.380005   \n3  2018-03-09         42.629364       2.127613           2021.939941   \n4  2018-03-09        331.440002       2.048846           1921.839966   \n\n   Equiv SP Shares       Date    Adj Close  \n0         5.416095 2018-03-09  2786.570068  \n1         4.416785 2018-03-09  2786.570068  \n2         5.209700 2018-03-09  2786.570068  \n3         4.044631 2018-03-09  2786.570068  \n4         4.242419 2018-03-09  2786.570068  ",
      "text/html": "<div>\n<style scoped>\n    .dataframe tbody tr th:only-of-type {\n        vertical-align: middle;\n    }\n\n    .dataframe tbody tr th {\n        vertical-align: top;\n    }\n\n    .dataframe thead th {\n        text-align: right;\n    }\n</style>\n<table border=\"1\" class=\"dataframe\">\n  <thead>\n    <tr style=\"text-align: right;\">\n      <th></th>\n      <th>Ticker</th>\n      <th>Acquisition Date</th>\n      <th>Quantity</th>\n      <th>Unit Cost</th>\n      <th>Cost Basis</th>\n      <th>Start of Year</th>\n      <th>Latest Date</th>\n      <th>Ticker Adj Close</th>\n      <th>ticker return</th>\n      <th>SP 500 Initial Close</th>\n      <th>Equiv SP Shares</th>\n      <th>Date</th>\n      <th>Adj Close</th>\n    </tr>\n  </thead>\n  <tbody>\n    <tr>\n      <th>0</th>\n      <td>AAPL</td>\n      <td>2013-02-07</td>\n      <td>125</td>\n      <td>65.40</td>\n      <td>8175.00</td>\n      <td>2017-12-29</td>\n      <td>2018-03-09</td>\n      <td>174.517639</td>\n      <td>1.668465</td>\n      <td>1509.390015</td>\n      <td>5.416095</td>\n      <td>2018-03-09</td>\n      <td>2786.570068</td>\n    </tr>\n    <tr>\n      <th>1</th>\n      <td>JNJ</td>\n      <td>2014-02-27</td>\n      <td>100</td>\n      <td>81.90</td>\n      <td>8190.00</td>\n      <td>2017-12-29</td>\n      <td>2018-03-09</td>\n      <td>125.826385</td>\n      <td>0.536342</td>\n      <td>1854.290039</td>\n      <td>4.416785</td>\n      <td>2018-03-09</td>\n      <td>2786.570068</td>\n    </tr>\n    <tr>\n      <th>2</th>\n      <td>MCD</td>\n      <td>2013-06-04</td>\n      <td>100</td>\n      <td>84.99</td>\n      <td>8499.00</td>\n      <td>2017-12-29</td>\n      <td>2018-03-09</td>\n      <td>149.752518</td>\n      <td>0.762002</td>\n      <td>1631.380005</td>\n      <td>5.209700</td>\n      <td>2018-03-09</td>\n      <td>2786.570068</td>\n    </tr>\n    <tr>\n      <th>3</th>\n      <td>MTCH</td>\n      <td>2015-12-14</td>\n      <td>600</td>\n      <td>13.63</td>\n      <td>8178.00</td>\n      <td>2017-12-29</td>\n      <td>2018-03-09</td>\n      <td>42.629364</td>\n      <td>2.127613</td>\n      <td>2021.939941</td>\n      <td>4.044631</td>\n      <td>2018-03-09</td>\n      <td>2786.570068</td>\n    </tr>\n    <tr>\n      <th>4</th>\n      <td>NFLX</td>\n      <td>2016-01-14</td>\n      <td>75</td>\n      <td>108.71</td>\n      <td>8153.25</td>\n      <td>2017-12-29</td>\n      <td>2018-03-09</td>\n      <td>331.440002</td>\n      <td>2.048846</td>\n      <td>1921.839966</td>\n      <td>4.242419</td>\n      <td>2018-03-09</td>\n      <td>2786.570068</td>\n    </tr>\n  </tbody>\n</table>\n</div>"
     },
     "metadata": {},
     "execution_count": 46
    }
   ],
   "source": [
    "merged_portfolio_sp_latest = pd.merge(merged_portfolio_sp, sp500_adj_close, left_on='Latest Date', right_on='Date')\n",
    "\n",
    "merged_portfolio_sp_latest.head()"
   ]
  },
  {
   "cell_type": "code",
   "execution_count": 47,
   "metadata": {},
   "outputs": [
    {
     "output_type": "execute_result",
     "data": {
      "text/plain": "  Ticker Acquisition Date  Quantity  Unit Cost  Cost Basis Start of Year  \\\n0   AAPL       2013-02-07       125      65.40     8175.00    2017-12-29   \n1    JNJ       2014-02-27       100      81.90     8190.00    2017-12-29   \n2    MCD       2013-06-04       100      84.99     8499.00    2017-12-29   \n3   MTCH       2015-12-14       600      13.63     8178.00    2017-12-29   \n4   NFLX       2016-01-14        75     108.71     8153.25    2017-12-29   \n\n  Latest Date  Ticker Adj Close  ticker return  SP 500 Initial Close  \\\n0  2018-03-09        174.517639       1.668465           1509.390015   \n1  2018-03-09        125.826385       0.536342           1854.290039   \n2  2018-03-09        149.752518       0.762002           1631.380005   \n3  2018-03-09         42.629364       2.127613           2021.939941   \n4  2018-03-09        331.440002       2.048846           1921.839966   \n\n   Equiv SP Shares  SP 500 Latest Close  \n0         5.416095          2786.570068  \n1         4.416785          2786.570068  \n2         5.209700          2786.570068  \n3         4.044631          2786.570068  \n4         4.242419          2786.570068  ",
      "text/html": "<div>\n<style scoped>\n    .dataframe tbody tr th:only-of-type {\n        vertical-align: middle;\n    }\n\n    .dataframe tbody tr th {\n        vertical-align: top;\n    }\n\n    .dataframe thead th {\n        text-align: right;\n    }\n</style>\n<table border=\"1\" class=\"dataframe\">\n  <thead>\n    <tr style=\"text-align: right;\">\n      <th></th>\n      <th>Ticker</th>\n      <th>Acquisition Date</th>\n      <th>Quantity</th>\n      <th>Unit Cost</th>\n      <th>Cost Basis</th>\n      <th>Start of Year</th>\n      <th>Latest Date</th>\n      <th>Ticker Adj Close</th>\n      <th>ticker return</th>\n      <th>SP 500 Initial Close</th>\n      <th>Equiv SP Shares</th>\n      <th>SP 500 Latest Close</th>\n    </tr>\n  </thead>\n  <tbody>\n    <tr>\n      <th>0</th>\n      <td>AAPL</td>\n      <td>2013-02-07</td>\n      <td>125</td>\n      <td>65.40</td>\n      <td>8175.00</td>\n      <td>2017-12-29</td>\n      <td>2018-03-09</td>\n      <td>174.517639</td>\n      <td>1.668465</td>\n      <td>1509.390015</td>\n      <td>5.416095</td>\n      <td>2786.570068</td>\n    </tr>\n    <tr>\n      <th>1</th>\n      <td>JNJ</td>\n      <td>2014-02-27</td>\n      <td>100</td>\n      <td>81.90</td>\n      <td>8190.00</td>\n      <td>2017-12-29</td>\n      <td>2018-03-09</td>\n      <td>125.826385</td>\n      <td>0.536342</td>\n      <td>1854.290039</td>\n      <td>4.416785</td>\n      <td>2786.570068</td>\n    </tr>\n    <tr>\n      <th>2</th>\n      <td>MCD</td>\n      <td>2013-06-04</td>\n      <td>100</td>\n      <td>84.99</td>\n      <td>8499.00</td>\n      <td>2017-12-29</td>\n      <td>2018-03-09</td>\n      <td>149.752518</td>\n      <td>0.762002</td>\n      <td>1631.380005</td>\n      <td>5.209700</td>\n      <td>2786.570068</td>\n    </tr>\n    <tr>\n      <th>3</th>\n      <td>MTCH</td>\n      <td>2015-12-14</td>\n      <td>600</td>\n      <td>13.63</td>\n      <td>8178.00</td>\n      <td>2017-12-29</td>\n      <td>2018-03-09</td>\n      <td>42.629364</td>\n      <td>2.127613</td>\n      <td>2021.939941</td>\n      <td>4.044631</td>\n      <td>2786.570068</td>\n    </tr>\n    <tr>\n      <th>4</th>\n      <td>NFLX</td>\n      <td>2016-01-14</td>\n      <td>75</td>\n      <td>108.71</td>\n      <td>8153.25</td>\n      <td>2017-12-29</td>\n      <td>2018-03-09</td>\n      <td>331.440002</td>\n      <td>2.048846</td>\n      <td>1921.839966</td>\n      <td>4.242419</td>\n      <td>2786.570068</td>\n    </tr>\n  </tbody>\n</table>\n</div>"
     },
     "metadata": {},
     "execution_count": 47
    }
   ],
   "source": [
    "del merged_portfolio_sp_latest['Date']\n",
    "\n",
    "merged_portfolio_sp_latest.rename(columns={'Adj Close': 'SP 500 Latest Close'}, inplace=True)\n",
    "\n",
    "merged_portfolio_sp_latest.head()"
   ]
  },
  {
   "cell_type": "code",
   "execution_count": 48,
   "metadata": {},
   "outputs": [
    {
     "output_type": "execute_result",
     "data": {
      "text/plain": "  Ticker Acquisition Date  Quantity  Unit Cost  Cost Basis Start of Year  \\\n0   AAPL       2013-02-07       125      65.40     8175.00    2017-12-29   \n1    JNJ       2014-02-27       100      81.90     8190.00    2017-12-29   \n2    MCD       2013-06-04       100      84.99     8499.00    2017-12-29   \n3   MTCH       2015-12-14       600      13.63     8178.00    2017-12-29   \n4   NFLX       2016-01-14        75     108.71     8153.25    2017-12-29   \n\n  Latest Date  Ticker Adj Close  ticker return  SP 500 Initial Close  \\\n0  2018-03-09        174.517639       1.668465           1509.390015   \n1  2018-03-09        125.826385       0.536342           1854.290039   \n2  2018-03-09        149.752518       0.762002           1631.380005   \n3  2018-03-09         42.629364       2.127613           2021.939941   \n4  2018-03-09        331.440002       2.048846           1921.839966   \n\n   Equiv SP Shares  SP 500 Latest Close  SP Return  Abs. Return Compare  \\\n0         5.416095          2786.570068   0.846156             0.822309   \n1         4.416785          2786.570068   0.502769             0.033572   \n2         5.209700          2786.570068   0.708106             0.053896   \n3         4.044631          2786.570068   0.378167             1.749446   \n4         4.242419          2786.570068   0.449949             1.598897   \n\n   Ticker Share Value  SP 500 Value  Abs Value Compare  Stock Gain / (Loss)  \\\n0        21814.704895  15092.328747        6722.376148         13639.704895   \n1        12582.638550  12307.680233         274.958317          4392.638550   \n2        14975.251770  14517.193382         458.058388          6476.251770   \n3        25577.618408  11270.646349       14306.972059         17399.618408   \n4        24858.000183  11821.797243       13036.202940         16704.750183   \n\n   SP 500 Gain / (Loss)  \n0           6917.328747  \n1           4117.680233  \n2           6018.193382  \n3           3092.646349  \n4           3668.547243  ",
      "text/html": "<div>\n<style scoped>\n    .dataframe tbody tr th:only-of-type {\n        vertical-align: middle;\n    }\n\n    .dataframe tbody tr th {\n        vertical-align: top;\n    }\n\n    .dataframe thead th {\n        text-align: right;\n    }\n</style>\n<table border=\"1\" class=\"dataframe\">\n  <thead>\n    <tr style=\"text-align: right;\">\n      <th></th>\n      <th>Ticker</th>\n      <th>Acquisition Date</th>\n      <th>Quantity</th>\n      <th>Unit Cost</th>\n      <th>Cost Basis</th>\n      <th>Start of Year</th>\n      <th>Latest Date</th>\n      <th>Ticker Adj Close</th>\n      <th>ticker return</th>\n      <th>SP 500 Initial Close</th>\n      <th>Equiv SP Shares</th>\n      <th>SP 500 Latest Close</th>\n      <th>SP Return</th>\n      <th>Abs. Return Compare</th>\n      <th>Ticker Share Value</th>\n      <th>SP 500 Value</th>\n      <th>Abs Value Compare</th>\n      <th>Stock Gain / (Loss)</th>\n      <th>SP 500 Gain / (Loss)</th>\n    </tr>\n  </thead>\n  <tbody>\n    <tr>\n      <th>0</th>\n      <td>AAPL</td>\n      <td>2013-02-07</td>\n      <td>125</td>\n      <td>65.40</td>\n      <td>8175.00</td>\n      <td>2017-12-29</td>\n      <td>2018-03-09</td>\n      <td>174.517639</td>\n      <td>1.668465</td>\n      <td>1509.390015</td>\n      <td>5.416095</td>\n      <td>2786.570068</td>\n      <td>0.846156</td>\n      <td>0.822309</td>\n      <td>21814.704895</td>\n      <td>15092.328747</td>\n      <td>6722.376148</td>\n      <td>13639.704895</td>\n      <td>6917.328747</td>\n    </tr>\n    <tr>\n      <th>1</th>\n      <td>JNJ</td>\n      <td>2014-02-27</td>\n      <td>100</td>\n      <td>81.90</td>\n      <td>8190.00</td>\n      <td>2017-12-29</td>\n      <td>2018-03-09</td>\n      <td>125.826385</td>\n      <td>0.536342</td>\n      <td>1854.290039</td>\n      <td>4.416785</td>\n      <td>2786.570068</td>\n      <td>0.502769</td>\n      <td>0.033572</td>\n      <td>12582.638550</td>\n      <td>12307.680233</td>\n      <td>274.958317</td>\n      <td>4392.638550</td>\n      <td>4117.680233</td>\n    </tr>\n    <tr>\n      <th>2</th>\n      <td>MCD</td>\n      <td>2013-06-04</td>\n      <td>100</td>\n      <td>84.99</td>\n      <td>8499.00</td>\n      <td>2017-12-29</td>\n      <td>2018-03-09</td>\n      <td>149.752518</td>\n      <td>0.762002</td>\n      <td>1631.380005</td>\n      <td>5.209700</td>\n      <td>2786.570068</td>\n      <td>0.708106</td>\n      <td>0.053896</td>\n      <td>14975.251770</td>\n      <td>14517.193382</td>\n      <td>458.058388</td>\n      <td>6476.251770</td>\n      <td>6018.193382</td>\n    </tr>\n    <tr>\n      <th>3</th>\n      <td>MTCH</td>\n      <td>2015-12-14</td>\n      <td>600</td>\n      <td>13.63</td>\n      <td>8178.00</td>\n      <td>2017-12-29</td>\n      <td>2018-03-09</td>\n      <td>42.629364</td>\n      <td>2.127613</td>\n      <td>2021.939941</td>\n      <td>4.044631</td>\n      <td>2786.570068</td>\n      <td>0.378167</td>\n      <td>1.749446</td>\n      <td>25577.618408</td>\n      <td>11270.646349</td>\n      <td>14306.972059</td>\n      <td>17399.618408</td>\n      <td>3092.646349</td>\n    </tr>\n    <tr>\n      <th>4</th>\n      <td>NFLX</td>\n      <td>2016-01-14</td>\n      <td>75</td>\n      <td>108.71</td>\n      <td>8153.25</td>\n      <td>2017-12-29</td>\n      <td>2018-03-09</td>\n      <td>331.440002</td>\n      <td>2.048846</td>\n      <td>1921.839966</td>\n      <td>4.242419</td>\n      <td>2786.570068</td>\n      <td>0.449949</td>\n      <td>1.598897</td>\n      <td>24858.000183</td>\n      <td>11821.797243</td>\n      <td>13036.202940</td>\n      <td>16704.750183</td>\n      <td>3668.547243</td>\n    </tr>\n  </tbody>\n</table>\n</div>"
     },
     "metadata": {},
     "execution_count": 48
    }
   ],
   "source": [
    "merged_portfolio_sp_latest['SP Return'] = merged_portfolio_sp_latest['SP 500 Latest Close'] / merged_portfolio_sp_latest['SP 500 Initial Close'] - 1\n",
    "\n",
    "# This is a new column which takes the tickers return and subtracts the sp 500 equivalent range return.\n",
    "merged_portfolio_sp_latest['Abs. Return Compare'] = merged_portfolio_sp_latest['ticker return'] - merged_portfolio_sp_latest['SP Return']\n",
    "\n",
    "# This is a new column where we calculate the ticker's share value by multiplying the original quantity by the latest close.\n",
    "merged_portfolio_sp_latest['Ticker Share Value'] = merged_portfolio_sp_latest['Quantity'] * merged_portfolio_sp_latest['Ticker Adj Close']\n",
    "\n",
    "# We calculate the equivalent SP 500 Value if we take the original SP shares * the latest SP 500 share price.\n",
    "merged_portfolio_sp_latest['SP 500 Value'] = merged_portfolio_sp_latest['Equiv SP Shares'] * merged_portfolio_sp_latest['SP 500 Latest Close']\n",
    "\n",
    "# This is a new column where we take the current market value for the shares and subtract the SP 500 value.\n",
    "merged_portfolio_sp_latest['Abs Value Compare'] = merged_portfolio_sp_latest['Ticker Share Value'] - merged_portfolio_sp_latest['SP 500 Value']\n",
    "\n",
    "# This column calculates profit / loss for stock position.\n",
    "merged_portfolio_sp_latest['Stock Gain / (Loss)'] = merged_portfolio_sp_latest['Ticker Share Value'] - merged_portfolio_sp_latest['Cost Basis']\n",
    "\n",
    "# This column calculates profit / loss for SP 500.\n",
    "merged_portfolio_sp_latest['SP 500 Gain / (Loss)'] = merged_portfolio_sp_latest['SP 500 Value'] - merged_portfolio_sp_latest['Cost Basis']\n",
    "\n",
    "merged_portfolio_sp_latest.head()"
   ]
  },
  {
   "cell_type": "code",
   "execution_count": 49,
   "metadata": {},
   "outputs": [
    {
     "output_type": "execute_result",
     "data": {
      "text/plain": "  Ticker Acquisition Date  Quantity  Unit Cost  Cost Basis Start of Year  \\\n0   AAPL       2013-02-07       125      65.40     8175.00    2017-12-29   \n1    JNJ       2014-02-27       100      81.90     8190.00    2017-12-29   \n2    MCD       2013-06-04       100      84.99     8499.00    2017-12-29   \n3   MTCH       2015-12-14       600      13.63     8178.00    2017-12-29   \n4   NFLX       2016-01-14        75     108.71     8153.25    2017-12-29   \n\n  Latest Date  Ticker Adj Close  ticker return  SP 500 Initial Close  ...  \\\n0  2018-03-09        174.517639       1.668465           1509.390015  ...   \n1  2018-03-09        125.826385       0.536342           1854.290039  ...   \n2  2018-03-09        149.752518       0.762002           1631.380005  ...   \n3  2018-03-09         42.629364       2.127613           2021.939941  ...   \n4  2018-03-09        331.440002       2.048846           1921.839966  ...   \n\n   SP 500 Latest Close  SP Return  Abs. Return Compare  Ticker Share Value  \\\n0          2786.570068   0.846156             0.822309        21814.704895   \n1          2786.570068   0.502769             0.033572        12582.638550   \n2          2786.570068   0.708106             0.053896        14975.251770   \n3          2786.570068   0.378167             1.749446        25577.618408   \n4          2786.570068   0.449949             1.598897        24858.000183   \n\n   SP 500 Value  Abs Value Compare  Stock Gain / (Loss)  SP 500 Gain / (Loss)  \\\n0  15092.328747        6722.376148         13639.704895           6917.328747   \n1  12307.680233         274.958317          4392.638550           4117.680233   \n2  14517.193382         458.058388          6476.251770           6018.193382   \n3  11270.646349       14306.972059         17399.618408           3092.646349   \n4  11821.797243       13036.202940         16704.750183           3668.547243   \n\n        Date   Adj Close  \n0 2017-12-29  163.427597  \n1 2017-12-29  130.557571  \n2 2017-12-29  162.893448  \n3 2017-12-29   29.799627  \n4 2017-12-29  191.960007  \n\n[5 rows x 21 columns]",
      "text/html": "<div>\n<style scoped>\n    .dataframe tbody tr th:only-of-type {\n        vertical-align: middle;\n    }\n\n    .dataframe tbody tr th {\n        vertical-align: top;\n    }\n\n    .dataframe thead th {\n        text-align: right;\n    }\n</style>\n<table border=\"1\" class=\"dataframe\">\n  <thead>\n    <tr style=\"text-align: right;\">\n      <th></th>\n      <th>Ticker</th>\n      <th>Acquisition Date</th>\n      <th>Quantity</th>\n      <th>Unit Cost</th>\n      <th>Cost Basis</th>\n      <th>Start of Year</th>\n      <th>Latest Date</th>\n      <th>Ticker Adj Close</th>\n      <th>ticker return</th>\n      <th>SP 500 Initial Close</th>\n      <th>...</th>\n      <th>SP 500 Latest Close</th>\n      <th>SP Return</th>\n      <th>Abs. Return Compare</th>\n      <th>Ticker Share Value</th>\n      <th>SP 500 Value</th>\n      <th>Abs Value Compare</th>\n      <th>Stock Gain / (Loss)</th>\n      <th>SP 500 Gain / (Loss)</th>\n      <th>Date</th>\n      <th>Adj Close</th>\n    </tr>\n  </thead>\n  <tbody>\n    <tr>\n      <th>0</th>\n      <td>AAPL</td>\n      <td>2013-02-07</td>\n      <td>125</td>\n      <td>65.40</td>\n      <td>8175.00</td>\n      <td>2017-12-29</td>\n      <td>2018-03-09</td>\n      <td>174.517639</td>\n      <td>1.668465</td>\n      <td>1509.390015</td>\n      <td>...</td>\n      <td>2786.570068</td>\n      <td>0.846156</td>\n      <td>0.822309</td>\n      <td>21814.704895</td>\n      <td>15092.328747</td>\n      <td>6722.376148</td>\n      <td>13639.704895</td>\n      <td>6917.328747</td>\n      <td>2017-12-29</td>\n      <td>163.427597</td>\n    </tr>\n    <tr>\n      <th>1</th>\n      <td>JNJ</td>\n      <td>2014-02-27</td>\n      <td>100</td>\n      <td>81.90</td>\n      <td>8190.00</td>\n      <td>2017-12-29</td>\n      <td>2018-03-09</td>\n      <td>125.826385</td>\n      <td>0.536342</td>\n      <td>1854.290039</td>\n      <td>...</td>\n      <td>2786.570068</td>\n      <td>0.502769</td>\n      <td>0.033572</td>\n      <td>12582.638550</td>\n      <td>12307.680233</td>\n      <td>274.958317</td>\n      <td>4392.638550</td>\n      <td>4117.680233</td>\n      <td>2017-12-29</td>\n      <td>130.557571</td>\n    </tr>\n    <tr>\n      <th>2</th>\n      <td>MCD</td>\n      <td>2013-06-04</td>\n      <td>100</td>\n      <td>84.99</td>\n      <td>8499.00</td>\n      <td>2017-12-29</td>\n      <td>2018-03-09</td>\n      <td>149.752518</td>\n      <td>0.762002</td>\n      <td>1631.380005</td>\n      <td>...</td>\n      <td>2786.570068</td>\n      <td>0.708106</td>\n      <td>0.053896</td>\n      <td>14975.251770</td>\n      <td>14517.193382</td>\n      <td>458.058388</td>\n      <td>6476.251770</td>\n      <td>6018.193382</td>\n      <td>2017-12-29</td>\n      <td>162.893448</td>\n    </tr>\n    <tr>\n      <th>3</th>\n      <td>MTCH</td>\n      <td>2015-12-14</td>\n      <td>600</td>\n      <td>13.63</td>\n      <td>8178.00</td>\n      <td>2017-12-29</td>\n      <td>2018-03-09</td>\n      <td>42.629364</td>\n      <td>2.127613</td>\n      <td>2021.939941</td>\n      <td>...</td>\n      <td>2786.570068</td>\n      <td>0.378167</td>\n      <td>1.749446</td>\n      <td>25577.618408</td>\n      <td>11270.646349</td>\n      <td>14306.972059</td>\n      <td>17399.618408</td>\n      <td>3092.646349</td>\n      <td>2017-12-29</td>\n      <td>29.799627</td>\n    </tr>\n    <tr>\n      <th>4</th>\n      <td>NFLX</td>\n      <td>2016-01-14</td>\n      <td>75</td>\n      <td>108.71</td>\n      <td>8153.25</td>\n      <td>2017-12-29</td>\n      <td>2018-03-09</td>\n      <td>331.440002</td>\n      <td>2.048846</td>\n      <td>1921.839966</td>\n      <td>...</td>\n      <td>2786.570068</td>\n      <td>0.449949</td>\n      <td>1.598897</td>\n      <td>24858.000183</td>\n      <td>11821.797243</td>\n      <td>13036.202940</td>\n      <td>16704.750183</td>\n      <td>3668.547243</td>\n      <td>2017-12-29</td>\n      <td>191.960007</td>\n    </tr>\n  </tbody>\n</table>\n<p>5 rows × 21 columns</p>\n</div>"
     },
     "metadata": {},
     "execution_count": 49
    }
   ],
   "source": [
    "merged_portfolio_sp_latest_YTD = pd.merge(merged_portfolio_sp_latest, adj_close_start, on='Ticker')\n",
    "# , how='outer'\n",
    "\n",
    "merged_portfolio_sp_latest_YTD.head()"
   ]
  },
  {
   "cell_type": "code",
   "execution_count": 50,
   "metadata": {},
   "outputs": [
    {
     "output_type": "execute_result",
     "data": {
      "text/plain": "  Ticker Acquisition Date  Quantity  Unit Cost  Cost Basis Start of Year  \\\n0   AAPL       2013-02-07       125      65.40     8175.00    2017-12-29   \n1    JNJ       2014-02-27       100      81.90     8190.00    2017-12-29   \n2    MCD       2013-06-04       100      84.99     8499.00    2017-12-29   \n3   MTCH       2015-12-14       600      13.63     8178.00    2017-12-29   \n4   NFLX       2016-01-14        75     108.71     8153.25    2017-12-29   \n\n  Latest Date  Ticker Adj Close  ticker return  SP 500 Initial Close  \\\n0  2018-03-09        174.517639       1.668465           1509.390015   \n1  2018-03-09        125.826385       0.536342           1854.290039   \n2  2018-03-09        149.752518       0.762002           1631.380005   \n3  2018-03-09         42.629364       2.127613           2021.939941   \n4  2018-03-09        331.440002       2.048846           1921.839966   \n\n   Equiv SP Shares  SP 500 Latest Close  SP Return  Abs. Return Compare  \\\n0         5.416095          2786.570068   0.846156             0.822309   \n1         4.416785          2786.570068   0.502769             0.033572   \n2         5.209700          2786.570068   0.708106             0.053896   \n3         4.044631          2786.570068   0.378167             1.749446   \n4         4.242419          2786.570068   0.449949             1.598897   \n\n   Ticker Share Value  SP 500 Value  Abs Value Compare  Stock Gain / (Loss)  \\\n0        21814.704895  15092.328747        6722.376148         13639.704895   \n1        12582.638550  12307.680233         274.958317          4392.638550   \n2        14975.251770  14517.193382         458.058388          6476.251770   \n3        25577.618408  11270.646349       14306.972059         17399.618408   \n4        24858.000183  11821.797243       13036.202940         16704.750183   \n\n   SP 500 Gain / (Loss)  Ticker Start Year Close  \n0           6917.328747               163.427597  \n1           4117.680233               130.557571  \n2           6018.193382               162.893448  \n3           3092.646349                29.799627  \n4           3668.547243               191.960007  ",
      "text/html": "<div>\n<style scoped>\n    .dataframe tbody tr th:only-of-type {\n        vertical-align: middle;\n    }\n\n    .dataframe tbody tr th {\n        vertical-align: top;\n    }\n\n    .dataframe thead th {\n        text-align: right;\n    }\n</style>\n<table border=\"1\" class=\"dataframe\">\n  <thead>\n    <tr style=\"text-align: right;\">\n      <th></th>\n      <th>Ticker</th>\n      <th>Acquisition Date</th>\n      <th>Quantity</th>\n      <th>Unit Cost</th>\n      <th>Cost Basis</th>\n      <th>Start of Year</th>\n      <th>Latest Date</th>\n      <th>Ticker Adj Close</th>\n      <th>ticker return</th>\n      <th>SP 500 Initial Close</th>\n      <th>Equiv SP Shares</th>\n      <th>SP 500 Latest Close</th>\n      <th>SP Return</th>\n      <th>Abs. Return Compare</th>\n      <th>Ticker Share Value</th>\n      <th>SP 500 Value</th>\n      <th>Abs Value Compare</th>\n      <th>Stock Gain / (Loss)</th>\n      <th>SP 500 Gain / (Loss)</th>\n      <th>Ticker Start Year Close</th>\n    </tr>\n  </thead>\n  <tbody>\n    <tr>\n      <th>0</th>\n      <td>AAPL</td>\n      <td>2013-02-07</td>\n      <td>125</td>\n      <td>65.40</td>\n      <td>8175.00</td>\n      <td>2017-12-29</td>\n      <td>2018-03-09</td>\n      <td>174.517639</td>\n      <td>1.668465</td>\n      <td>1509.390015</td>\n      <td>5.416095</td>\n      <td>2786.570068</td>\n      <td>0.846156</td>\n      <td>0.822309</td>\n      <td>21814.704895</td>\n      <td>15092.328747</td>\n      <td>6722.376148</td>\n      <td>13639.704895</td>\n      <td>6917.328747</td>\n      <td>163.427597</td>\n    </tr>\n    <tr>\n      <th>1</th>\n      <td>JNJ</td>\n      <td>2014-02-27</td>\n      <td>100</td>\n      <td>81.90</td>\n      <td>8190.00</td>\n      <td>2017-12-29</td>\n      <td>2018-03-09</td>\n      <td>125.826385</td>\n      <td>0.536342</td>\n      <td>1854.290039</td>\n      <td>4.416785</td>\n      <td>2786.570068</td>\n      <td>0.502769</td>\n      <td>0.033572</td>\n      <td>12582.638550</td>\n      <td>12307.680233</td>\n      <td>274.958317</td>\n      <td>4392.638550</td>\n      <td>4117.680233</td>\n      <td>130.557571</td>\n    </tr>\n    <tr>\n      <th>2</th>\n      <td>MCD</td>\n      <td>2013-06-04</td>\n      <td>100</td>\n      <td>84.99</td>\n      <td>8499.00</td>\n      <td>2017-12-29</td>\n      <td>2018-03-09</td>\n      <td>149.752518</td>\n      <td>0.762002</td>\n      <td>1631.380005</td>\n      <td>5.209700</td>\n      <td>2786.570068</td>\n      <td>0.708106</td>\n      <td>0.053896</td>\n      <td>14975.251770</td>\n      <td>14517.193382</td>\n      <td>458.058388</td>\n      <td>6476.251770</td>\n      <td>6018.193382</td>\n      <td>162.893448</td>\n    </tr>\n    <tr>\n      <th>3</th>\n      <td>MTCH</td>\n      <td>2015-12-14</td>\n      <td>600</td>\n      <td>13.63</td>\n      <td>8178.00</td>\n      <td>2017-12-29</td>\n      <td>2018-03-09</td>\n      <td>42.629364</td>\n      <td>2.127613</td>\n      <td>2021.939941</td>\n      <td>4.044631</td>\n      <td>2786.570068</td>\n      <td>0.378167</td>\n      <td>1.749446</td>\n      <td>25577.618408</td>\n      <td>11270.646349</td>\n      <td>14306.972059</td>\n      <td>17399.618408</td>\n      <td>3092.646349</td>\n      <td>29.799627</td>\n    </tr>\n    <tr>\n      <th>4</th>\n      <td>NFLX</td>\n      <td>2016-01-14</td>\n      <td>75</td>\n      <td>108.71</td>\n      <td>8153.25</td>\n      <td>2017-12-29</td>\n      <td>2018-03-09</td>\n      <td>331.440002</td>\n      <td>2.048846</td>\n      <td>1921.839966</td>\n      <td>4.242419</td>\n      <td>2786.570068</td>\n      <td>0.449949</td>\n      <td>1.598897</td>\n      <td>24858.000183</td>\n      <td>11821.797243</td>\n      <td>13036.202940</td>\n      <td>16704.750183</td>\n      <td>3668.547243</td>\n      <td>191.960007</td>\n    </tr>\n  </tbody>\n</table>\n</div>"
     },
     "metadata": {},
     "execution_count": 50
    }
   ],
   "source": [
    "# Deleting date again as it's an unnecessary column.  Explaining that new column is the Ticker Start of Year Close.\n",
    "\n",
    "del merged_portfolio_sp_latest_YTD['Date']\n",
    "\n",
    "merged_portfolio_sp_latest_YTD.rename(columns={'Adj Close': 'Ticker Start Year Close'}, inplace=True)\n",
    "\n",
    "merged_portfolio_sp_latest_YTD.head()"
   ]
  },
  {
   "cell_type": "code",
   "execution_count": 59,
   "metadata": {},
   "outputs": [
    {
     "output_type": "execute_result",
     "data": {
      "text/plain": "  Ticker Acquisition Date  Quantity  Unit Cost  Cost Basis Start of Year  \\\n0   AAPL       2013-02-07       125      65.40     8175.00    2017-12-29   \n1    JNJ       2014-02-27       100      81.90     8190.00    2017-12-29   \n2    MCD       2013-06-04       100      84.99     8499.00    2017-12-29   \n3   MTCH       2015-12-14       600      13.63     8178.00    2017-12-29   \n4   NFLX       2016-01-14        75     108.71     8153.25    2017-12-29   \n\n  Latest Date  Ticker Adj Close  ticker return  SP 500 Initial Close  ...  \\\n0  2018-03-09        174.517639       1.668465           1509.390015  ...   \n1  2018-03-09        125.826385       0.536342           1854.290039  ...   \n2  2018-03-09        149.752518       0.762002           1631.380005  ...   \n3  2018-03-09         42.629364       2.127613           2021.939941  ...   \n4  2018-03-09        331.440002       2.048846           1921.839966  ...   \n\n   SP Return  Abs. Return Compare  Ticker Share Value  SP 500 Value  \\\n0   0.846156             0.822309        21814.704895  15092.328747   \n1   0.502769             0.033572        12582.638550  12307.680233   \n2   0.708106             0.053896        14975.251770  14517.193382   \n3   0.378167             1.749446        25577.618408  11270.646349   \n4   0.449949             1.598897        24858.000183  11821.797243   \n\n   Abs Value Compare  Stock Gain / (Loss)  SP 500 Gain / (Loss)  \\\n0        6722.376148         13639.704895           6917.328747   \n1         274.958317          4392.638550           4117.680233   \n2         458.058388          6476.251770           6018.193382   \n3       14306.972059         17399.618408           3092.646349   \n4       13036.202940         16704.750183           3668.547243   \n\n   Ticker Start Year Close       Date    Adj Close  \n0               163.427597 2017-12-29  2673.610107  \n1               130.557571 2017-12-29  2673.610107  \n2               162.893448 2017-12-29  2673.610107  \n3                29.799627 2017-12-29  2673.610107  \n4               191.960007 2017-12-29  2673.610107  \n\n[5 rows x 22 columns]",
      "text/html": "<div>\n<style scoped>\n    .dataframe tbody tr th:only-of-type {\n        vertical-align: middle;\n    }\n\n    .dataframe tbody tr th {\n        vertical-align: top;\n    }\n\n    .dataframe thead th {\n        text-align: right;\n    }\n</style>\n<table border=\"1\" class=\"dataframe\">\n  <thead>\n    <tr style=\"text-align: right;\">\n      <th></th>\n      <th>Ticker</th>\n      <th>Acquisition Date</th>\n      <th>Quantity</th>\n      <th>Unit Cost</th>\n      <th>Cost Basis</th>\n      <th>Start of Year</th>\n      <th>Latest Date</th>\n      <th>Ticker Adj Close</th>\n      <th>ticker return</th>\n      <th>SP 500 Initial Close</th>\n      <th>...</th>\n      <th>SP Return</th>\n      <th>Abs. Return Compare</th>\n      <th>Ticker Share Value</th>\n      <th>SP 500 Value</th>\n      <th>Abs Value Compare</th>\n      <th>Stock Gain / (Loss)</th>\n      <th>SP 500 Gain / (Loss)</th>\n      <th>Ticker Start Year Close</th>\n      <th>Date</th>\n      <th>Adj Close</th>\n    </tr>\n  </thead>\n  <tbody>\n    <tr>\n      <th>0</th>\n      <td>AAPL</td>\n      <td>2013-02-07</td>\n      <td>125</td>\n      <td>65.40</td>\n      <td>8175.00</td>\n      <td>2017-12-29</td>\n      <td>2018-03-09</td>\n      <td>174.517639</td>\n      <td>1.668465</td>\n      <td>1509.390015</td>\n      <td>...</td>\n      <td>0.846156</td>\n      <td>0.822309</td>\n      <td>21814.704895</td>\n      <td>15092.328747</td>\n      <td>6722.376148</td>\n      <td>13639.704895</td>\n      <td>6917.328747</td>\n      <td>163.427597</td>\n      <td>2017-12-29</td>\n      <td>2673.610107</td>\n    </tr>\n    <tr>\n      <th>1</th>\n      <td>JNJ</td>\n      <td>2014-02-27</td>\n      <td>100</td>\n      <td>81.90</td>\n      <td>8190.00</td>\n      <td>2017-12-29</td>\n      <td>2018-03-09</td>\n      <td>125.826385</td>\n      <td>0.536342</td>\n      <td>1854.290039</td>\n      <td>...</td>\n      <td>0.502769</td>\n      <td>0.033572</td>\n      <td>12582.638550</td>\n      <td>12307.680233</td>\n      <td>274.958317</td>\n      <td>4392.638550</td>\n      <td>4117.680233</td>\n      <td>130.557571</td>\n      <td>2017-12-29</td>\n      <td>2673.610107</td>\n    </tr>\n    <tr>\n      <th>2</th>\n      <td>MCD</td>\n      <td>2013-06-04</td>\n      <td>100</td>\n      <td>84.99</td>\n      <td>8499.00</td>\n      <td>2017-12-29</td>\n      <td>2018-03-09</td>\n      <td>149.752518</td>\n      <td>0.762002</td>\n      <td>1631.380005</td>\n      <td>...</td>\n      <td>0.708106</td>\n      <td>0.053896</td>\n      <td>14975.251770</td>\n      <td>14517.193382</td>\n      <td>458.058388</td>\n      <td>6476.251770</td>\n      <td>6018.193382</td>\n      <td>162.893448</td>\n      <td>2017-12-29</td>\n      <td>2673.610107</td>\n    </tr>\n    <tr>\n      <th>3</th>\n      <td>MTCH</td>\n      <td>2015-12-14</td>\n      <td>600</td>\n      <td>13.63</td>\n      <td>8178.00</td>\n      <td>2017-12-29</td>\n      <td>2018-03-09</td>\n      <td>42.629364</td>\n      <td>2.127613</td>\n      <td>2021.939941</td>\n      <td>...</td>\n      <td>0.378167</td>\n      <td>1.749446</td>\n      <td>25577.618408</td>\n      <td>11270.646349</td>\n      <td>14306.972059</td>\n      <td>17399.618408</td>\n      <td>3092.646349</td>\n      <td>29.799627</td>\n      <td>2017-12-29</td>\n      <td>2673.610107</td>\n    </tr>\n    <tr>\n      <th>4</th>\n      <td>NFLX</td>\n      <td>2016-01-14</td>\n      <td>75</td>\n      <td>108.71</td>\n      <td>8153.25</td>\n      <td>2017-12-29</td>\n      <td>2018-03-09</td>\n      <td>331.440002</td>\n      <td>2.048846</td>\n      <td>1921.839966</td>\n      <td>...</td>\n      <td>0.449949</td>\n      <td>1.598897</td>\n      <td>24858.000183</td>\n      <td>11821.797243</td>\n      <td>13036.202940</td>\n      <td>16704.750183</td>\n      <td>3668.547243</td>\n      <td>191.960007</td>\n      <td>2017-12-29</td>\n      <td>2673.610107</td>\n    </tr>\n  </tbody>\n</table>\n<p>5 rows × 22 columns</p>\n</div>"
     },
     "metadata": {},
     "execution_count": 59
    }
   ],
   "source": [
    "\n",
    "merged_portfolio_sp_latest_YTD_sp = pd.merge(merged_portfolio_sp_latest_YTD, sp_500_adj_close_start\n",
    "                                             , left_on='Start of Year', right_on='Date')\n",
    "\n",
    "merged_portfolio_sp_latest_YTD_sp.head()"
   ]
  },
  {
   "cell_type": "code",
   "execution_count": 67,
   "metadata": {},
   "outputs": [
    {
     "output_type": "execute_result",
     "data": {
      "text/plain": "  Ticker Acquisition Date  Quantity  Unit Cost  Cost Basis Start of Year  \\\n0   AAPL       2013-02-07       125      65.40     8175.00    2017-12-29   \n1    JNJ       2014-02-27       100      81.90     8190.00    2017-12-29   \n2    MCD       2013-06-04       100      84.99     8499.00    2017-12-29   \n3   MTCH       2015-12-14       600      13.63     8178.00    2017-12-29   \n4   NFLX       2016-01-14        75     108.71     8153.25    2017-12-29   \n\n  Latest Date  Ticker Adj Close  ticker return  SP 500 Initial Close  ...  \\\n0  2018-03-09        174.517639       1.668465           1509.390015  ...   \n1  2018-03-09        125.826385       0.536342           1854.290039  ...   \n2  2018-03-09        149.752518       0.762002           1631.380005  ...   \n3  2018-03-09         42.629364       2.127613           2021.939941  ...   \n4  2018-03-09        331.440002       2.048846           1921.839966  ...   \n\n   Abs. Return Compare  Ticker Share Value  SP 500 Value  Abs Value Compare  \\\n0             0.822309        21814.704895  15092.328747        6722.376148   \n1             0.033572        12582.638550  12307.680233         274.958317   \n2             0.053896        14975.251770  14517.193382         458.058388   \n3             1.749446        25577.618408  11270.646349       14306.972059   \n4             1.598897        24858.000183  11821.797243       13036.202940   \n\n   Stock Gain / (Loss)  SP 500 Gain / (Loss)  Ticker Start Year Close  \\\n0         13639.704895           6917.328747               163.427597   \n1          4392.638550           4117.680233               130.557571   \n2          6476.251770           6018.193382               162.893448   \n3         17399.618408           3092.646349                29.799627   \n4         16704.750183           3668.547243               191.960007   \n\n   SP Start Year Close  Share YTD  SP 500 YTD  \n0          2673.610107   0.067859     0.04225  \n1          2673.610107  -0.036238     0.04225  \n2          2673.610107  -0.080672     0.04225  \n3          2673.610107   0.430533     0.04225  \n4          2673.610107   0.726610     0.04225  \n\n[5 rows x 23 columns]",
      "text/html": "<div>\n<style scoped>\n    .dataframe tbody tr th:only-of-type {\n        vertical-align: middle;\n    }\n\n    .dataframe tbody tr th {\n        vertical-align: top;\n    }\n\n    .dataframe thead th {\n        text-align: right;\n    }\n</style>\n<table border=\"1\" class=\"dataframe\">\n  <thead>\n    <tr style=\"text-align: right;\">\n      <th></th>\n      <th>Ticker</th>\n      <th>Acquisition Date</th>\n      <th>Quantity</th>\n      <th>Unit Cost</th>\n      <th>Cost Basis</th>\n      <th>Start of Year</th>\n      <th>Latest Date</th>\n      <th>Ticker Adj Close</th>\n      <th>ticker return</th>\n      <th>SP 500 Initial Close</th>\n      <th>...</th>\n      <th>Abs. Return Compare</th>\n      <th>Ticker Share Value</th>\n      <th>SP 500 Value</th>\n      <th>Abs Value Compare</th>\n      <th>Stock Gain / (Loss)</th>\n      <th>SP 500 Gain / (Loss)</th>\n      <th>Ticker Start Year Close</th>\n      <th>SP Start Year Close</th>\n      <th>Share YTD</th>\n      <th>SP 500 YTD</th>\n    </tr>\n  </thead>\n  <tbody>\n    <tr>\n      <th>0</th>\n      <td>AAPL</td>\n      <td>2013-02-07</td>\n      <td>125</td>\n      <td>65.40</td>\n      <td>8175.00</td>\n      <td>2017-12-29</td>\n      <td>2018-03-09</td>\n      <td>174.517639</td>\n      <td>1.668465</td>\n      <td>1509.390015</td>\n      <td>...</td>\n      <td>0.822309</td>\n      <td>21814.704895</td>\n      <td>15092.328747</td>\n      <td>6722.376148</td>\n      <td>13639.704895</td>\n      <td>6917.328747</td>\n      <td>163.427597</td>\n      <td>2673.610107</td>\n      <td>0.067859</td>\n      <td>0.04225</td>\n    </tr>\n    <tr>\n      <th>1</th>\n      <td>JNJ</td>\n      <td>2014-02-27</td>\n      <td>100</td>\n      <td>81.90</td>\n      <td>8190.00</td>\n      <td>2017-12-29</td>\n      <td>2018-03-09</td>\n      <td>125.826385</td>\n      <td>0.536342</td>\n      <td>1854.290039</td>\n      <td>...</td>\n      <td>0.033572</td>\n      <td>12582.638550</td>\n      <td>12307.680233</td>\n      <td>274.958317</td>\n      <td>4392.638550</td>\n      <td>4117.680233</td>\n      <td>130.557571</td>\n      <td>2673.610107</td>\n      <td>-0.036238</td>\n      <td>0.04225</td>\n    </tr>\n    <tr>\n      <th>2</th>\n      <td>MCD</td>\n      <td>2013-06-04</td>\n      <td>100</td>\n      <td>84.99</td>\n      <td>8499.00</td>\n      <td>2017-12-29</td>\n      <td>2018-03-09</td>\n      <td>149.752518</td>\n      <td>0.762002</td>\n      <td>1631.380005</td>\n      <td>...</td>\n      <td>0.053896</td>\n      <td>14975.251770</td>\n      <td>14517.193382</td>\n      <td>458.058388</td>\n      <td>6476.251770</td>\n      <td>6018.193382</td>\n      <td>162.893448</td>\n      <td>2673.610107</td>\n      <td>-0.080672</td>\n      <td>0.04225</td>\n    </tr>\n    <tr>\n      <th>3</th>\n      <td>MTCH</td>\n      <td>2015-12-14</td>\n      <td>600</td>\n      <td>13.63</td>\n      <td>8178.00</td>\n      <td>2017-12-29</td>\n      <td>2018-03-09</td>\n      <td>42.629364</td>\n      <td>2.127613</td>\n      <td>2021.939941</td>\n      <td>...</td>\n      <td>1.749446</td>\n      <td>25577.618408</td>\n      <td>11270.646349</td>\n      <td>14306.972059</td>\n      <td>17399.618408</td>\n      <td>3092.646349</td>\n      <td>29.799627</td>\n      <td>2673.610107</td>\n      <td>0.430533</td>\n      <td>0.04225</td>\n    </tr>\n    <tr>\n      <th>4</th>\n      <td>NFLX</td>\n      <td>2016-01-14</td>\n      <td>75</td>\n      <td>108.71</td>\n      <td>8153.25</td>\n      <td>2017-12-29</td>\n      <td>2018-03-09</td>\n      <td>331.440002</td>\n      <td>2.048846</td>\n      <td>1921.839966</td>\n      <td>...</td>\n      <td>1.598897</td>\n      <td>24858.000183</td>\n      <td>11821.797243</td>\n      <td>13036.202940</td>\n      <td>16704.750183</td>\n      <td>3668.547243</td>\n      <td>191.960007</td>\n      <td>2673.610107</td>\n      <td>0.726610</td>\n      <td>0.04225</td>\n    </tr>\n  </tbody>\n</table>\n<p>5 rows × 23 columns</p>\n</div>"
     },
     "metadata": {},
     "execution_count": 67
    }
   ],
   "source": [
    "# Deleting another unneeded Date column.\n",
    "\n",
    "\n",
    "# Renaming so that it's clear this column is SP 500 start of year close.\n",
    "merged_portfolio_sp_latest_YTD_sp.rename(columns={'Adj Close': 'SP Start Year Close'}, inplace=True)\n",
    "\n",
    "# YTD return for portfolio position.\n",
    "merged_portfolio_sp_latest_YTD_sp['Share YTD'] = merged_portfolio_sp_latest_YTD_sp['Ticker Adj Close'] / merged_portfolio_sp_latest_YTD_sp['Ticker Start Year Close'] - 1\n",
    "\n",
    "# YTD return for SP to run compares.\n",
    "merged_portfolio_sp_latest_YTD_sp['SP 500 YTD'] = merged_portfolio_sp_latest_YTD_sp['SP 500 Latest Close'] / merged_portfolio_sp_latest_YTD_sp['SP Start Year Close'] - 1\n",
    "\n",
    "merged_portfolio_sp_latest_YTD_sp.head()\n"
   ]
  },
  {
   "cell_type": "code",
   "execution_count": 68,
   "metadata": {},
   "outputs": [
    {
     "output_type": "execute_result",
     "data": {
      "text/plain": "  Ticker Acquisition Date  Quantity  Unit Cost  Cost Basis Start of Year  \\\n0   AAPL       2013-02-07       125      65.40     8175.00    2017-12-29   \n6     FB       2013-12-13       150      53.32     7998.00    2017-12-29   \n1    JNJ       2014-02-27       100      81.90     8190.00    2017-12-29   \n2    MCD       2013-06-04       100      84.99     8499.00    2017-12-29   \n3   MTCH       2015-12-14       600      13.63     8178.00    2017-12-29   \n4   NFLX       2016-01-14        75     108.71     8153.25    2017-12-29   \n7   TWTR       2015-01-05       225      36.38     8185.50    2017-12-29   \n5    WMT       2013-08-14       125      68.30     8537.50    2017-12-29   \n\n  Latest Date  Ticker Adj Close  ticker return  SP 500 Initial Close  ...  \\\n0  2018-03-09        174.517639       1.668465           1509.390015  ...   \n6  2018-03-09        185.229996       2.473931           1775.319946  ...   \n1  2018-03-09        125.826385       0.536342           1854.290039  ...   \n2  2018-03-09        149.752518       0.762002           1631.380005  ...   \n3  2018-03-09         42.629364       2.127613           2021.939941  ...   \n4  2018-03-09        331.440002       2.048846           1921.839966  ...   \n7  2018-03-09         35.349998      -0.028312           2020.579956  ...   \n5  2018-03-09         84.700142       0.240119           1685.390015  ...   \n\n   Abs. Return Compare  Ticker Share Value  SP 500 Value  Abs Value Compare  \\\n0             0.822309        21814.704895  15092.328747        6722.376148   \n6             1.904315        27784.499359  12553.786405       15230.712954   \n1             0.033572        12582.638550  12307.680233         274.958317   \n2             0.053896        14975.251770  14517.193382         458.058388   \n3             1.749446        25577.618408  11270.646349       14306.972059   \n4             1.598897        24858.000183  11821.797243       13036.202940   \n7            -0.407406         7953.749657  11288.575454       -3334.825797   \n5            -0.413249        10587.517738  14115.630063       -3528.112325   \n\n   Stock Gain / (Loss)  SP 500 Gain / (Loss)  Ticker Start Year Close  \\\n0         13639.704895           6917.328747               163.427597   \n6         19786.499359           4555.786405               176.460007   \n1          4392.638550           4117.680233               130.557571   \n2          6476.251770           6018.193382               162.893448   \n3         17399.618408           3092.646349                29.799627   \n4         16704.750183           3668.547243               191.960007   \n7          -231.750343           3103.075454                24.010000   \n5          2050.017738           5578.130063                93.716957   \n\n   SP Start Year Close  Share YTD  SP 500 YTD  \n0          2673.610107   0.067859     0.04225  \n6          2673.610107   0.049700     0.04225  \n1          2673.610107  -0.036238     0.04225  \n2          2673.610107  -0.080672     0.04225  \n3          2673.610107   0.430533     0.04225  \n4          2673.610107   0.726610     0.04225  \n7          2673.610107   0.472303     0.04225  \n5          2673.610107  -0.096213     0.04225  \n\n[8 rows x 23 columns]",
      "text/html": "<div>\n<style scoped>\n    .dataframe tbody tr th:only-of-type {\n        vertical-align: middle;\n    }\n\n    .dataframe tbody tr th {\n        vertical-align: top;\n    }\n\n    .dataframe thead th {\n        text-align: right;\n    }\n</style>\n<table border=\"1\" class=\"dataframe\">\n  <thead>\n    <tr style=\"text-align: right;\">\n      <th></th>\n      <th>Ticker</th>\n      <th>Acquisition Date</th>\n      <th>Quantity</th>\n      <th>Unit Cost</th>\n      <th>Cost Basis</th>\n      <th>Start of Year</th>\n      <th>Latest Date</th>\n      <th>Ticker Adj Close</th>\n      <th>ticker return</th>\n      <th>SP 500 Initial Close</th>\n      <th>...</th>\n      <th>Abs. Return Compare</th>\n      <th>Ticker Share Value</th>\n      <th>SP 500 Value</th>\n      <th>Abs Value Compare</th>\n      <th>Stock Gain / (Loss)</th>\n      <th>SP 500 Gain / (Loss)</th>\n      <th>Ticker Start Year Close</th>\n      <th>SP Start Year Close</th>\n      <th>Share YTD</th>\n      <th>SP 500 YTD</th>\n    </tr>\n  </thead>\n  <tbody>\n    <tr>\n      <th>0</th>\n      <td>AAPL</td>\n      <td>2013-02-07</td>\n      <td>125</td>\n      <td>65.40</td>\n      <td>8175.00</td>\n      <td>2017-12-29</td>\n      <td>2018-03-09</td>\n      <td>174.517639</td>\n      <td>1.668465</td>\n      <td>1509.390015</td>\n      <td>...</td>\n      <td>0.822309</td>\n      <td>21814.704895</td>\n      <td>15092.328747</td>\n      <td>6722.376148</td>\n      <td>13639.704895</td>\n      <td>6917.328747</td>\n      <td>163.427597</td>\n      <td>2673.610107</td>\n      <td>0.067859</td>\n      <td>0.04225</td>\n    </tr>\n    <tr>\n      <th>6</th>\n      <td>FB</td>\n      <td>2013-12-13</td>\n      <td>150</td>\n      <td>53.32</td>\n      <td>7998.00</td>\n      <td>2017-12-29</td>\n      <td>2018-03-09</td>\n      <td>185.229996</td>\n      <td>2.473931</td>\n      <td>1775.319946</td>\n      <td>...</td>\n      <td>1.904315</td>\n      <td>27784.499359</td>\n      <td>12553.786405</td>\n      <td>15230.712954</td>\n      <td>19786.499359</td>\n      <td>4555.786405</td>\n      <td>176.460007</td>\n      <td>2673.610107</td>\n      <td>0.049700</td>\n      <td>0.04225</td>\n    </tr>\n    <tr>\n      <th>1</th>\n      <td>JNJ</td>\n      <td>2014-02-27</td>\n      <td>100</td>\n      <td>81.90</td>\n      <td>8190.00</td>\n      <td>2017-12-29</td>\n      <td>2018-03-09</td>\n      <td>125.826385</td>\n      <td>0.536342</td>\n      <td>1854.290039</td>\n      <td>...</td>\n      <td>0.033572</td>\n      <td>12582.638550</td>\n      <td>12307.680233</td>\n      <td>274.958317</td>\n      <td>4392.638550</td>\n      <td>4117.680233</td>\n      <td>130.557571</td>\n      <td>2673.610107</td>\n      <td>-0.036238</td>\n      <td>0.04225</td>\n    </tr>\n    <tr>\n      <th>2</th>\n      <td>MCD</td>\n      <td>2013-06-04</td>\n      <td>100</td>\n      <td>84.99</td>\n      <td>8499.00</td>\n      <td>2017-12-29</td>\n      <td>2018-03-09</td>\n      <td>149.752518</td>\n      <td>0.762002</td>\n      <td>1631.380005</td>\n      <td>...</td>\n      <td>0.053896</td>\n      <td>14975.251770</td>\n      <td>14517.193382</td>\n      <td>458.058388</td>\n      <td>6476.251770</td>\n      <td>6018.193382</td>\n      <td>162.893448</td>\n      <td>2673.610107</td>\n      <td>-0.080672</td>\n      <td>0.04225</td>\n    </tr>\n    <tr>\n      <th>3</th>\n      <td>MTCH</td>\n      <td>2015-12-14</td>\n      <td>600</td>\n      <td>13.63</td>\n      <td>8178.00</td>\n      <td>2017-12-29</td>\n      <td>2018-03-09</td>\n      <td>42.629364</td>\n      <td>2.127613</td>\n      <td>2021.939941</td>\n      <td>...</td>\n      <td>1.749446</td>\n      <td>25577.618408</td>\n      <td>11270.646349</td>\n      <td>14306.972059</td>\n      <td>17399.618408</td>\n      <td>3092.646349</td>\n      <td>29.799627</td>\n      <td>2673.610107</td>\n      <td>0.430533</td>\n      <td>0.04225</td>\n    </tr>\n    <tr>\n      <th>4</th>\n      <td>NFLX</td>\n      <td>2016-01-14</td>\n      <td>75</td>\n      <td>108.71</td>\n      <td>8153.25</td>\n      <td>2017-12-29</td>\n      <td>2018-03-09</td>\n      <td>331.440002</td>\n      <td>2.048846</td>\n      <td>1921.839966</td>\n      <td>...</td>\n      <td>1.598897</td>\n      <td>24858.000183</td>\n      <td>11821.797243</td>\n      <td>13036.202940</td>\n      <td>16704.750183</td>\n      <td>3668.547243</td>\n      <td>191.960007</td>\n      <td>2673.610107</td>\n      <td>0.726610</td>\n      <td>0.04225</td>\n    </tr>\n    <tr>\n      <th>7</th>\n      <td>TWTR</td>\n      <td>2015-01-05</td>\n      <td>225</td>\n      <td>36.38</td>\n      <td>8185.50</td>\n      <td>2017-12-29</td>\n      <td>2018-03-09</td>\n      <td>35.349998</td>\n      <td>-0.028312</td>\n      <td>2020.579956</td>\n      <td>...</td>\n      <td>-0.407406</td>\n      <td>7953.749657</td>\n      <td>11288.575454</td>\n      <td>-3334.825797</td>\n      <td>-231.750343</td>\n      <td>3103.075454</td>\n      <td>24.010000</td>\n      <td>2673.610107</td>\n      <td>0.472303</td>\n      <td>0.04225</td>\n    </tr>\n    <tr>\n      <th>5</th>\n      <td>WMT</td>\n      <td>2013-08-14</td>\n      <td>125</td>\n      <td>68.30</td>\n      <td>8537.50</td>\n      <td>2017-12-29</td>\n      <td>2018-03-09</td>\n      <td>84.700142</td>\n      <td>0.240119</td>\n      <td>1685.390015</td>\n      <td>...</td>\n      <td>-0.413249</td>\n      <td>10587.517738</td>\n      <td>14115.630063</td>\n      <td>-3528.112325</td>\n      <td>2050.017738</td>\n      <td>5578.130063</td>\n      <td>93.716957</td>\n      <td>2673.610107</td>\n      <td>-0.096213</td>\n      <td>0.04225</td>\n    </tr>\n  </tbody>\n</table>\n<p>8 rows × 23 columns</p>\n</div>"
     },
     "metadata": {},
     "execution_count": 68
    }
   ],
   "source": [
    "\n",
    "merged_portfolio_sp_latest_YTD_sp = merged_portfolio_sp_latest_YTD_sp.sort_values(by='Ticker', ascending=True)\n",
    "merged_portfolio_sp_latest_YTD_sp"
   ]
  },
  {
   "cell_type": "code",
   "execution_count": 69,
   "metadata": {},
   "outputs": [
    {
     "output_type": "execute_result",
     "data": {
      "text/plain": "  Ticker Acquisition Date  Quantity  Unit Cost  Cost Basis Start of Year  \\\n0   AAPL       2013-02-07       125      65.40      8175.0    2017-12-29   \n6     FB       2013-12-13       150      53.32      7998.0    2017-12-29   \n1    JNJ       2014-02-27       100      81.90      8190.0    2017-12-29   \n2    MCD       2013-06-04       100      84.99      8499.0    2017-12-29   \n3   MTCH       2015-12-14       600      13.63      8178.0    2017-12-29   \n\n  Latest Date  Ticker Adj Close  ticker return  SP 500 Initial Close  ...  \\\n0  2018-03-09        174.517639       1.668465           1509.390015  ...   \n6  2018-03-09        185.229996       2.473931           1775.319946  ...   \n1  2018-03-09        125.826385       0.536342           1854.290039  ...   \n2  2018-03-09        149.752518       0.762002           1631.380005  ...   \n3  2018-03-09         42.629364       2.127613           2021.939941  ...   \n\n   Stock Gain / (Loss)  SP 500 Gain / (Loss)  Ticker Start Year Close  \\\n0         13639.704895           6917.328747               163.427597   \n6         19786.499359           4555.786405               176.460007   \n1          4392.638550           4117.680233               130.557571   \n2          6476.251770           6018.193382               162.893448   \n3         17399.618408           3092.646349                29.799627   \n\n   SP Start Year Close  Share YTD  SP 500 YTD  Cum Invst  Cum Ticker Returns  \\\n0          2673.610107   0.067859     0.04225     8175.0        21814.704895   \n6          2673.610107   0.049700     0.04225    16173.0        49599.204254   \n1          2673.610107  -0.036238     0.04225    24363.0        62181.842804   \n2          2673.610107  -0.080672     0.04225    32862.0        77157.094574   \n3          2673.610107   0.430533     0.04225    41040.0       102734.712982   \n\n   Cum SP Returns  Cum Ticker ROI Mult  \n0    15092.328747             2.668465  \n6    27646.115152             3.066791  \n1    39953.795385             2.552306  \n2    54470.988768             2.347912  \n3    65741.635117             2.503282  \n\n[5 rows x 27 columns]",
      "text/html": "<div>\n<style scoped>\n    .dataframe tbody tr th:only-of-type {\n        vertical-align: middle;\n    }\n\n    .dataframe tbody tr th {\n        vertical-align: top;\n    }\n\n    .dataframe thead th {\n        text-align: right;\n    }\n</style>\n<table border=\"1\" class=\"dataframe\">\n  <thead>\n    <tr style=\"text-align: right;\">\n      <th></th>\n      <th>Ticker</th>\n      <th>Acquisition Date</th>\n      <th>Quantity</th>\n      <th>Unit Cost</th>\n      <th>Cost Basis</th>\n      <th>Start of Year</th>\n      <th>Latest Date</th>\n      <th>Ticker Adj Close</th>\n      <th>ticker return</th>\n      <th>SP 500 Initial Close</th>\n      <th>...</th>\n      <th>Stock Gain / (Loss)</th>\n      <th>SP 500 Gain / (Loss)</th>\n      <th>Ticker Start Year Close</th>\n      <th>SP Start Year Close</th>\n      <th>Share YTD</th>\n      <th>SP 500 YTD</th>\n      <th>Cum Invst</th>\n      <th>Cum Ticker Returns</th>\n      <th>Cum SP Returns</th>\n      <th>Cum Ticker ROI Mult</th>\n    </tr>\n  </thead>\n  <tbody>\n    <tr>\n      <th>0</th>\n      <td>AAPL</td>\n      <td>2013-02-07</td>\n      <td>125</td>\n      <td>65.40</td>\n      <td>8175.0</td>\n      <td>2017-12-29</td>\n      <td>2018-03-09</td>\n      <td>174.517639</td>\n      <td>1.668465</td>\n      <td>1509.390015</td>\n      <td>...</td>\n      <td>13639.704895</td>\n      <td>6917.328747</td>\n      <td>163.427597</td>\n      <td>2673.610107</td>\n      <td>0.067859</td>\n      <td>0.04225</td>\n      <td>8175.0</td>\n      <td>21814.704895</td>\n      <td>15092.328747</td>\n      <td>2.668465</td>\n    </tr>\n    <tr>\n      <th>6</th>\n      <td>FB</td>\n      <td>2013-12-13</td>\n      <td>150</td>\n      <td>53.32</td>\n      <td>7998.0</td>\n      <td>2017-12-29</td>\n      <td>2018-03-09</td>\n      <td>185.229996</td>\n      <td>2.473931</td>\n      <td>1775.319946</td>\n      <td>...</td>\n      <td>19786.499359</td>\n      <td>4555.786405</td>\n      <td>176.460007</td>\n      <td>2673.610107</td>\n      <td>0.049700</td>\n      <td>0.04225</td>\n      <td>16173.0</td>\n      <td>49599.204254</td>\n      <td>27646.115152</td>\n      <td>3.066791</td>\n    </tr>\n    <tr>\n      <th>1</th>\n      <td>JNJ</td>\n      <td>2014-02-27</td>\n      <td>100</td>\n      <td>81.90</td>\n      <td>8190.0</td>\n      <td>2017-12-29</td>\n      <td>2018-03-09</td>\n      <td>125.826385</td>\n      <td>0.536342</td>\n      <td>1854.290039</td>\n      <td>...</td>\n      <td>4392.638550</td>\n      <td>4117.680233</td>\n      <td>130.557571</td>\n      <td>2673.610107</td>\n      <td>-0.036238</td>\n      <td>0.04225</td>\n      <td>24363.0</td>\n      <td>62181.842804</td>\n      <td>39953.795385</td>\n      <td>2.552306</td>\n    </tr>\n    <tr>\n      <th>2</th>\n      <td>MCD</td>\n      <td>2013-06-04</td>\n      <td>100</td>\n      <td>84.99</td>\n      <td>8499.0</td>\n      <td>2017-12-29</td>\n      <td>2018-03-09</td>\n      <td>149.752518</td>\n      <td>0.762002</td>\n      <td>1631.380005</td>\n      <td>...</td>\n      <td>6476.251770</td>\n      <td>6018.193382</td>\n      <td>162.893448</td>\n      <td>2673.610107</td>\n      <td>-0.080672</td>\n      <td>0.04225</td>\n      <td>32862.0</td>\n      <td>77157.094574</td>\n      <td>54470.988768</td>\n      <td>2.347912</td>\n    </tr>\n    <tr>\n      <th>3</th>\n      <td>MTCH</td>\n      <td>2015-12-14</td>\n      <td>600</td>\n      <td>13.63</td>\n      <td>8178.0</td>\n      <td>2017-12-29</td>\n      <td>2018-03-09</td>\n      <td>42.629364</td>\n      <td>2.127613</td>\n      <td>2021.939941</td>\n      <td>...</td>\n      <td>17399.618408</td>\n      <td>3092.646349</td>\n      <td>29.799627</td>\n      <td>2673.610107</td>\n      <td>0.430533</td>\n      <td>0.04225</td>\n      <td>41040.0</td>\n      <td>102734.712982</td>\n      <td>65741.635117</td>\n      <td>2.503282</td>\n    </tr>\n  </tbody>\n</table>\n<p>5 rows × 27 columns</p>\n</div>"
     },
     "metadata": {},
     "execution_count": 69
    }
   ],
   "source": [
    "\n",
    "# Cumulative sum of original investment\n",
    "merged_portfolio_sp_latest_YTD_sp['Cum Invst'] = merged_portfolio_sp_latest_YTD_sp['Cost Basis'].cumsum()\n",
    "\n",
    "# Cumulative sum of Ticker Share Value (latest FMV based on initial quantity purchased).\n",
    "merged_portfolio_sp_latest_YTD_sp['Cum Ticker Returns'] = merged_portfolio_sp_latest_YTD_sp['Ticker Share Value'].cumsum()\n",
    "\n",
    "# Cumulative sum of SP Share Value (latest FMV driven off of initial SP equiv purchase).\n",
    "merged_portfolio_sp_latest_YTD_sp['Cum SP Returns'] = merged_portfolio_sp_latest_YTD_sp['SP 500 Value'].cumsum()\n",
    "\n",
    "# Cumulative CoC multiple return for stock investments\n",
    "merged_portfolio_sp_latest_YTD_sp['Cum Ticker ROI Mult'] = merged_portfolio_sp_latest_YTD_sp['Cum Ticker Returns'] / merged_portfolio_sp_latest_YTD_sp['Cum Invst']\n",
    "\n",
    "merged_portfolio_sp_latest_YTD_sp.head()"
   ]
  },
  {
   "cell_type": "code",
   "execution_count": 70,
   "metadata": {},
   "outputs": [
    {
     "output_type": "execute_result",
     "data": {
      "text/plain": "  Ticker       Date  Adj Close\n0   AAPL 2013-01-02  68.502106\n1   AAPL 2013-01-03  67.637436\n2   AAPL 2013-01-04  65.753418\n3   AAPL 2013-01-07  65.366646\n4   AAPL 2013-01-08  65.542587",
      "text/html": "<div>\n<style scoped>\n    .dataframe tbody tr th:only-of-type {\n        vertical-align: middle;\n    }\n\n    .dataframe tbody tr th {\n        vertical-align: top;\n    }\n\n    .dataframe thead th {\n        text-align: right;\n    }\n</style>\n<table border=\"1\" class=\"dataframe\">\n  <thead>\n    <tr style=\"text-align: right;\">\n      <th></th>\n      <th>Ticker</th>\n      <th>Date</th>\n      <th>Adj Close</th>\n    </tr>\n  </thead>\n  <tbody>\n    <tr>\n      <th>0</th>\n      <td>AAPL</td>\n      <td>2013-01-02</td>\n      <td>68.502106</td>\n    </tr>\n    <tr>\n      <th>1</th>\n      <td>AAPL</td>\n      <td>2013-01-03</td>\n      <td>67.637436</td>\n    </tr>\n    <tr>\n      <th>2</th>\n      <td>AAPL</td>\n      <td>2013-01-04</td>\n      <td>65.753418</td>\n    </tr>\n    <tr>\n      <th>3</th>\n      <td>AAPL</td>\n      <td>2013-01-07</td>\n      <td>65.366646</td>\n    </tr>\n    <tr>\n      <th>4</th>\n      <td>AAPL</td>\n      <td>2013-01-08</td>\n      <td>65.542587</td>\n    </tr>\n  </tbody>\n</table>\n</div>"
     },
     "metadata": {},
     "execution_count": 70
    }
   ],
   "source": [
    "\n",
    "# Referencing the adj_close dataframe from above\n",
    "\n",
    "adj_close.head()"
   ]
  },
  {
   "cell_type": "code",
   "execution_count": 71,
   "metadata": {},
   "outputs": [
    {
     "output_type": "execute_result",
     "data": {
      "text/plain": "       Acquisition Date  Quantity  Unit Cost  Cost Basis Start of Year\nTicker                                                                \nAAPL         2013-02-07       125      65.40     8175.00    2017-12-29\nJNJ          2014-02-27       100      81.90     8190.00    2017-12-29\nMCD          2013-06-04       100      84.99     8499.00    2017-12-29\nMTCH         2015-12-14       600      13.63     8178.00    2017-12-29\nNFLX         2016-01-14        75     108.71     8153.25    2017-12-29",
      "text/html": "<div>\n<style scoped>\n    .dataframe tbody tr th:only-of-type {\n        vertical-align: middle;\n    }\n\n    .dataframe tbody tr th {\n        vertical-align: top;\n    }\n\n    .dataframe thead th {\n        text-align: right;\n    }\n</style>\n<table border=\"1\" class=\"dataframe\">\n  <thead>\n    <tr style=\"text-align: right;\">\n      <th></th>\n      <th>Acquisition Date</th>\n      <th>Quantity</th>\n      <th>Unit Cost</th>\n      <th>Cost Basis</th>\n      <th>Start of Year</th>\n    </tr>\n    <tr>\n      <th>Ticker</th>\n      <th></th>\n      <th></th>\n      <th></th>\n      <th></th>\n      <th></th>\n    </tr>\n  </thead>\n  <tbody>\n    <tr>\n      <th>AAPL</th>\n      <td>2013-02-07</td>\n      <td>125</td>\n      <td>65.40</td>\n      <td>8175.00</td>\n      <td>2017-12-29</td>\n    </tr>\n    <tr>\n      <th>JNJ</th>\n      <td>2014-02-27</td>\n      <td>100</td>\n      <td>81.90</td>\n      <td>8190.00</td>\n      <td>2017-12-29</td>\n    </tr>\n    <tr>\n      <th>MCD</th>\n      <td>2013-06-04</td>\n      <td>100</td>\n      <td>84.99</td>\n      <td>8499.00</td>\n      <td>2017-12-29</td>\n    </tr>\n    <tr>\n      <th>MTCH</th>\n      <td>2015-12-14</td>\n      <td>600</td>\n      <td>13.63</td>\n      <td>8178.00</td>\n      <td>2017-12-29</td>\n    </tr>\n    <tr>\n      <th>NFLX</th>\n      <td>2016-01-14</td>\n      <td>75</td>\n      <td>108.71</td>\n      <td>8153.25</td>\n      <td>2017-12-29</td>\n    </tr>\n  </tbody>\n</table>\n</div>"
     },
     "metadata": {},
     "execution_count": 71
    }
   ],
   "source": [
    "portfolio_df.head()\n"
   ]
  },
  {
   "cell_type": "code",
   "execution_count": 72,
   "metadata": {},
   "outputs": [
    {
     "output_type": "execute_result",
     "data": {
      "text/plain": "  Ticker       Date  Adj Close Acquisition Date  Quantity  Unit Cost  \\\n0   AAPL 2013-01-02  68.502106       2013-02-07       125       65.4   \n1   AAPL 2013-01-03  67.637436       2013-02-07       125       65.4   \n2   AAPL 2013-01-04  65.753418       2013-02-07       125       65.4   \n3   AAPL 2013-01-07  65.366646       2013-02-07       125       65.4   \n4   AAPL 2013-01-08  65.542587       2013-02-07       125       65.4   \n\n   Cost Basis Start of Year  \n0      8175.0    2017-12-29  \n1      8175.0    2017-12-29  \n2      8175.0    2017-12-29  \n3      8175.0    2017-12-29  \n4      8175.0    2017-12-29  ",
      "text/html": "<div>\n<style scoped>\n    .dataframe tbody tr th:only-of-type {\n        vertical-align: middle;\n    }\n\n    .dataframe tbody tr th {\n        vertical-align: top;\n    }\n\n    .dataframe thead th {\n        text-align: right;\n    }\n</style>\n<table border=\"1\" class=\"dataframe\">\n  <thead>\n    <tr style=\"text-align: right;\">\n      <th></th>\n      <th>Ticker</th>\n      <th>Date</th>\n      <th>Adj Close</th>\n      <th>Acquisition Date</th>\n      <th>Quantity</th>\n      <th>Unit Cost</th>\n      <th>Cost Basis</th>\n      <th>Start of Year</th>\n    </tr>\n  </thead>\n  <tbody>\n    <tr>\n      <th>0</th>\n      <td>AAPL</td>\n      <td>2013-01-02</td>\n      <td>68.502106</td>\n      <td>2013-02-07</td>\n      <td>125</td>\n      <td>65.4</td>\n      <td>8175.0</td>\n      <td>2017-12-29</td>\n    </tr>\n    <tr>\n      <th>1</th>\n      <td>AAPL</td>\n      <td>2013-01-03</td>\n      <td>67.637436</td>\n      <td>2013-02-07</td>\n      <td>125</td>\n      <td>65.4</td>\n      <td>8175.0</td>\n      <td>2017-12-29</td>\n    </tr>\n    <tr>\n      <th>2</th>\n      <td>AAPL</td>\n      <td>2013-01-04</td>\n      <td>65.753418</td>\n      <td>2013-02-07</td>\n      <td>125</td>\n      <td>65.4</td>\n      <td>8175.0</td>\n      <td>2017-12-29</td>\n    </tr>\n    <tr>\n      <th>3</th>\n      <td>AAPL</td>\n      <td>2013-01-07</td>\n      <td>65.366646</td>\n      <td>2013-02-07</td>\n      <td>125</td>\n      <td>65.4</td>\n      <td>8175.0</td>\n      <td>2017-12-29</td>\n    </tr>\n    <tr>\n      <th>4</th>\n      <td>AAPL</td>\n      <td>2013-01-08</td>\n      <td>65.542587</td>\n      <td>2013-02-07</td>\n      <td>125</td>\n      <td>65.4</td>\n      <td>8175.0</td>\n      <td>2017-12-29</td>\n    </tr>\n  </tbody>\n</table>\n</div>"
     },
     "metadata": {},
     "execution_count": 72
    }
   ],
   "source": [
    "# Need to factor in that some positions were purchased much more recently than others.\n",
    "# Join adj_close dataframe with portfolio in order to have acquisition date.\n",
    "\n",
    "portfolio_df.reset_index(inplace=True)\n",
    "\n",
    "adj_close_acq_date = pd.merge(adj_close, portfolio_df, on='Ticker')\n",
    "\n",
    "adj_close_acq_date.head()"
   ]
  },
  {
   "cell_type": "code",
   "execution_count": 73,
   "metadata": {},
   "outputs": [],
   "source": [
    "\n",
    "# delete_columns = ['Quantity', 'Unit Cost', 'Cost Basis', 'Start of Year']\n",
    "\n",
    "del adj_close_acq_date['Quantity']\n",
    "del adj_close_acq_date['Unit Cost']\n",
    "del adj_close_acq_date['Cost Basis']\n",
    "del adj_close_acq_date['Start of Year']\n",
    "\n",
    "# Sort by these columns in this order in order to make it clearer where compare for each position should begin.\n",
    "adj_close_acq_date.sort_values(by=['Ticker', 'Acquisition Date', 'Date'], ascending=[True, True, True], inplace=True)"
   ]
  },
  {
   "cell_type": "code",
   "execution_count": 74,
   "metadata": {},
   "outputs": [
    {
     "output_type": "execute_result",
     "data": {
      "text/plain": "  Ticker       Date  Adj Close Acquisition Date        Date Delta\n0   AAPL 2013-01-02  68.502106       2013-02-07 -3110400000000000\n1   AAPL 2013-01-03  67.637436       2013-02-07 -3024000000000000\n2   AAPL 2013-01-04  65.753418       2013-02-07 -2937600000000000\n3   AAPL 2013-01-07  65.366646       2013-02-07 -2678400000000000\n4   AAPL 2013-01-08  65.542587       2013-02-07 -2592000000000000",
      "text/html": "<div>\n<style scoped>\n    .dataframe tbody tr th:only-of-type {\n        vertical-align: middle;\n    }\n\n    .dataframe tbody tr th {\n        vertical-align: top;\n    }\n\n    .dataframe thead th {\n        text-align: right;\n    }\n</style>\n<table border=\"1\" class=\"dataframe\">\n  <thead>\n    <tr style=\"text-align: right;\">\n      <th></th>\n      <th>Ticker</th>\n      <th>Date</th>\n      <th>Adj Close</th>\n      <th>Acquisition Date</th>\n      <th>Date Delta</th>\n    </tr>\n  </thead>\n  <tbody>\n    <tr>\n      <th>0</th>\n      <td>AAPL</td>\n      <td>2013-01-02</td>\n      <td>68.502106</td>\n      <td>2013-02-07</td>\n      <td>-3110400000000000</td>\n    </tr>\n    <tr>\n      <th>1</th>\n      <td>AAPL</td>\n      <td>2013-01-03</td>\n      <td>67.637436</td>\n      <td>2013-02-07</td>\n      <td>-3024000000000000</td>\n    </tr>\n    <tr>\n      <th>2</th>\n      <td>AAPL</td>\n      <td>2013-01-04</td>\n      <td>65.753418</td>\n      <td>2013-02-07</td>\n      <td>-2937600000000000</td>\n    </tr>\n    <tr>\n      <th>3</th>\n      <td>AAPL</td>\n      <td>2013-01-07</td>\n      <td>65.366646</td>\n      <td>2013-02-07</td>\n      <td>-2678400000000000</td>\n    </tr>\n    <tr>\n      <th>4</th>\n      <td>AAPL</td>\n      <td>2013-01-08</td>\n      <td>65.542587</td>\n      <td>2013-02-07</td>\n      <td>-2592000000000000</td>\n    </tr>\n  </tbody>\n</table>\n</div>"
     },
     "metadata": {},
     "execution_count": 74
    }
   ],
   "source": [
    "\n",
    "# Anything less than 0 means that the stock close was prior to acquisition.\n",
    "adj_close_acq_date['Date Delta'] = adj_close_acq_date['Date'] - adj_close_acq_date['Acquisition Date']\n",
    "\n",
    "adj_close_acq_date['Date Delta'] = adj_close_acq_date[['Date Delta']].apply(pd.to_numeric)  \n",
    "\n",
    "adj_close_acq_date.head()"
   ]
  },
  {
   "cell_type": "code",
   "execution_count": 75,
   "metadata": {},
   "outputs": [
    {
     "output_type": "execute_result",
     "data": {
      "text/plain": "   Ticker       Date  Adj Close Acquisition Date       Date Delta\n25   AAPL 2013-02-07  58.759972       2013-02-07                0\n26   AAPL 2013-02-08  59.608299       2013-02-07   86400000000000\n27   AAPL 2013-02-11  60.229511       2013-02-07  345600000000000\n28   AAPL 2013-02-12  58.719791       2013-02-07  432000000000000\n29   AAPL 2013-02-13  58.608109       2013-02-07  518400000000000",
      "text/html": "<div>\n<style scoped>\n    .dataframe tbody tr th:only-of-type {\n        vertical-align: middle;\n    }\n\n    .dataframe tbody tr th {\n        vertical-align: top;\n    }\n\n    .dataframe thead th {\n        text-align: right;\n    }\n</style>\n<table border=\"1\" class=\"dataframe\">\n  <thead>\n    <tr style=\"text-align: right;\">\n      <th></th>\n      <th>Ticker</th>\n      <th>Date</th>\n      <th>Adj Close</th>\n      <th>Acquisition Date</th>\n      <th>Date Delta</th>\n    </tr>\n  </thead>\n  <tbody>\n    <tr>\n      <th>25</th>\n      <td>AAPL</td>\n      <td>2013-02-07</td>\n      <td>58.759972</td>\n      <td>2013-02-07</td>\n      <td>0</td>\n    </tr>\n    <tr>\n      <th>26</th>\n      <td>AAPL</td>\n      <td>2013-02-08</td>\n      <td>59.608299</td>\n      <td>2013-02-07</td>\n      <td>86400000000000</td>\n    </tr>\n    <tr>\n      <th>27</th>\n      <td>AAPL</td>\n      <td>2013-02-11</td>\n      <td>60.229511</td>\n      <td>2013-02-07</td>\n      <td>345600000000000</td>\n    </tr>\n    <tr>\n      <th>28</th>\n      <td>AAPL</td>\n      <td>2013-02-12</td>\n      <td>58.719791</td>\n      <td>2013-02-07</td>\n      <td>432000000000000</td>\n    </tr>\n    <tr>\n      <th>29</th>\n      <td>AAPL</td>\n      <td>2013-02-13</td>\n      <td>58.608109</td>\n      <td>2013-02-07</td>\n      <td>518400000000000</td>\n    </tr>\n  </tbody>\n</table>\n</div>"
     },
     "metadata": {},
     "execution_count": 75
    }
   ],
   "source": [
    "\n",
    "# Modified the dataframe being evaluated to look at highest close which occurred after Acquisition Date (aka, not prior to purchase).\n",
    "\n",
    "adj_close_acq_date_modified = adj_close_acq_date[adj_close_acq_date['Date Delta']>=0]\n",
    "\n",
    "adj_close_acq_date_modified.head()"
   ]
  },
  {
   "cell_type": "code",
   "execution_count": 76,
   "metadata": {},
   "outputs": [
    {
     "output_type": "execute_result",
     "data": {
      "text/plain": "  Ticker Acquisition Date   Adj Close\n0   AAPL       2013-02-07  174.517639\n1     FB       2013-12-13  193.089996\n2    JNJ       2014-02-27  138.425430\n3    MCD       2013-06-04  168.798950\n4   MTCH       2015-12-14   42.629364\n5   NFLX       2016-01-14  331.440002\n6   TWTR       2015-01-05   52.869999\n7    WMT       2013-08-14  103.966515",
      "text/html": "<div>\n<style scoped>\n    .dataframe tbody tr th:only-of-type {\n        vertical-align: middle;\n    }\n\n    .dataframe tbody tr th {\n        vertical-align: top;\n    }\n\n    .dataframe thead th {\n        text-align: right;\n    }\n</style>\n<table border=\"1\" class=\"dataframe\">\n  <thead>\n    <tr style=\"text-align: right;\">\n      <th></th>\n      <th>Ticker</th>\n      <th>Acquisition Date</th>\n      <th>Adj Close</th>\n    </tr>\n  </thead>\n  <tbody>\n    <tr>\n      <th>0</th>\n      <td>AAPL</td>\n      <td>2013-02-07</td>\n      <td>174.517639</td>\n    </tr>\n    <tr>\n      <th>1</th>\n      <td>FB</td>\n      <td>2013-12-13</td>\n      <td>193.089996</td>\n    </tr>\n    <tr>\n      <th>2</th>\n      <td>JNJ</td>\n      <td>2014-02-27</td>\n      <td>138.425430</td>\n    </tr>\n    <tr>\n      <th>3</th>\n      <td>MCD</td>\n      <td>2013-06-04</td>\n      <td>168.798950</td>\n    </tr>\n    <tr>\n      <th>4</th>\n      <td>MTCH</td>\n      <td>2015-12-14</td>\n      <td>42.629364</td>\n    </tr>\n    <tr>\n      <th>5</th>\n      <td>NFLX</td>\n      <td>2016-01-14</td>\n      <td>331.440002</td>\n    </tr>\n    <tr>\n      <th>6</th>\n      <td>TWTR</td>\n      <td>2015-01-05</td>\n      <td>52.869999</td>\n    </tr>\n    <tr>\n      <th>7</th>\n      <td>WMT</td>\n      <td>2013-08-14</td>\n      <td>103.966515</td>\n    </tr>\n  </tbody>\n</table>\n</div>"
     },
     "metadata": {},
     "execution_count": 76
    }
   ],
   "source": [
    "\n",
    "# This pivot table will index on the Ticker and Acquisition Date, and find the max adjusted close.\n",
    "\n",
    "adj_close_pivot = adj_close_acq_date_modified.pivot_table(index=['Ticker', 'Acquisition Date'], values='Adj Close', aggfunc=np.max)\n",
    "\n",
    "adj_close_pivot.reset_index(inplace=True)\n",
    "\n",
    "adj_close_pivot"
   ]
  },
  {
   "cell_type": "code",
   "execution_count": 77,
   "metadata": {},
   "outputs": [
    {
     "output_type": "execute_result",
     "data": {
      "text/plain": "  Ticker Acquisition Date   Adj Close       Date\n0   AAPL       2013-02-07  174.517639 2018-03-09\n1     FB       2013-12-13  193.089996 2018-02-01\n2    JNJ       2014-02-27  138.425430 2018-01-22\n3    MCD       2013-06-04  168.798950 2018-01-26\n4   MTCH       2015-12-14   42.629364 2018-03-09",
      "text/html": "<div>\n<style scoped>\n    .dataframe tbody tr th:only-of-type {\n        vertical-align: middle;\n    }\n\n    .dataframe tbody tr th {\n        vertical-align: top;\n    }\n\n    .dataframe thead th {\n        text-align: right;\n    }\n</style>\n<table border=\"1\" class=\"dataframe\">\n  <thead>\n    <tr style=\"text-align: right;\">\n      <th></th>\n      <th>Ticker</th>\n      <th>Acquisition Date</th>\n      <th>Adj Close</th>\n      <th>Date</th>\n    </tr>\n  </thead>\n  <tbody>\n    <tr>\n      <th>0</th>\n      <td>AAPL</td>\n      <td>2013-02-07</td>\n      <td>174.517639</td>\n      <td>2018-03-09</td>\n    </tr>\n    <tr>\n      <th>1</th>\n      <td>FB</td>\n      <td>2013-12-13</td>\n      <td>193.089996</td>\n      <td>2018-02-01</td>\n    </tr>\n    <tr>\n      <th>2</th>\n      <td>JNJ</td>\n      <td>2014-02-27</td>\n      <td>138.425430</td>\n      <td>2018-01-22</td>\n    </tr>\n    <tr>\n      <th>3</th>\n      <td>MCD</td>\n      <td>2013-06-04</td>\n      <td>168.798950</td>\n      <td>2018-01-26</td>\n    </tr>\n    <tr>\n      <th>4</th>\n      <td>MTCH</td>\n      <td>2015-12-14</td>\n      <td>42.629364</td>\n      <td>2018-03-09</td>\n    </tr>\n  </tbody>\n</table>\n</div>"
     },
     "metadata": {},
     "execution_count": 77
    }
   ],
   "source": [
    "\n",
    "# Merge the adj close pivot table with the adj_close table in order to grab the date of the Adj Close High (good to know).\n",
    "\n",
    "adj_close_pivot_merged = pd.merge(adj_close_pivot, adj_close\n",
    "                                             , on=['Ticker', 'Adj Close'])\n",
    "\n",
    "adj_close_pivot_merged.head()"
   ]
  },
  {
   "cell_type": "code",
   "execution_count": 78,
   "metadata": {},
   "outputs": [
    {
     "output_type": "execute_result",
     "data": {
      "text/plain": "  Ticker Acquisition Date  Quantity  Unit Cost  Cost Basis Start of Year  \\\n0   AAPL       2013-02-07       125      65.40     8175.00    2017-12-29   \n1     FB       2013-12-13       150      53.32     7998.00    2017-12-29   \n2    JNJ       2014-02-27       100      81.90     8190.00    2017-12-29   \n3    MCD       2013-06-04       100      84.99     8499.00    2017-12-29   \n4   MTCH       2015-12-14       600      13.63     8178.00    2017-12-29   \n5   NFLX       2016-01-14        75     108.71     8153.25    2017-12-29   \n6   TWTR       2015-01-05       225      36.38     8185.50    2017-12-29   \n7    WMT       2013-08-14       125      68.30     8537.50    2017-12-29   \n\n  Latest Date  Ticker Adj Close  ticker return  SP 500 Initial Close  ...  \\\n0  2018-03-09        174.517639       1.668465           1509.390015  ...   \n1  2018-03-09        185.229996       2.473931           1775.319946  ...   \n2  2018-03-09        125.826385       0.536342           1854.290039  ...   \n3  2018-03-09        149.752518       0.762002           1631.380005  ...   \n4  2018-03-09         42.629364       2.127613           2021.939941  ...   \n5  2018-03-09        331.440002       2.048846           1921.839966  ...   \n6  2018-03-09         35.349998      -0.028312           2020.579956  ...   \n7  2018-03-09         84.700142       0.240119           1685.390015  ...   \n\n   SP Start Year Close  Share YTD  SP 500 YTD  Cum Invst  Cum Ticker Returns  \\\n0          2673.610107   0.067859     0.04225    8175.00        21814.704895   \n1          2673.610107   0.049700     0.04225   16173.00        49599.204254   \n2          2673.610107  -0.036238     0.04225   24363.00        62181.842804   \n3          2673.610107  -0.080672     0.04225   32862.00        77157.094574   \n4          2673.610107   0.430533     0.04225   41040.00       102734.712982   \n5          2673.610107   0.726610     0.04225   49193.25       127592.713165   \n6          2673.610107   0.472303     0.04225   57378.75       135546.462822   \n7          2673.610107  -0.096213     0.04225   65916.25       146133.980560   \n\n   Cum SP Returns  Cum Ticker ROI Mult  Closing High Adj Close  \\\n0    15092.328747             2.668465              174.517639   \n1    27646.115152             3.066791              193.089996   \n2    39953.795385             2.552306              138.425430   \n3    54470.988768             2.347912              168.798950   \n4    65741.635117             2.503282               42.629364   \n5    77563.432360             2.593704              331.440002   \n6    88852.007814             2.362311               52.869999   \n7   102967.637877             2.216964              103.966515   \n\n   Closing High Adj Close Date  Pct off High  \n0                   2018-03-09      0.000000  \n1                   2018-02-01     -0.040706  \n2                   2018-01-22     -0.091017  \n3                   2018-01-26     -0.112835  \n4                   2018-03-09      0.000000  \n5                   2018-03-09      0.000000  \n6                   2015-04-07     -0.331379  \n7                   2018-01-29     -0.185313  \n\n[8 rows x 30 columns]",
      "text/html": "<div>\n<style scoped>\n    .dataframe tbody tr th:only-of-type {\n        vertical-align: middle;\n    }\n\n    .dataframe tbody tr th {\n        vertical-align: top;\n    }\n\n    .dataframe thead th {\n        text-align: right;\n    }\n</style>\n<table border=\"1\" class=\"dataframe\">\n  <thead>\n    <tr style=\"text-align: right;\">\n      <th></th>\n      <th>Ticker</th>\n      <th>Acquisition Date</th>\n      <th>Quantity</th>\n      <th>Unit Cost</th>\n      <th>Cost Basis</th>\n      <th>Start of Year</th>\n      <th>Latest Date</th>\n      <th>Ticker Adj Close</th>\n      <th>ticker return</th>\n      <th>SP 500 Initial Close</th>\n      <th>...</th>\n      <th>SP Start Year Close</th>\n      <th>Share YTD</th>\n      <th>SP 500 YTD</th>\n      <th>Cum Invst</th>\n      <th>Cum Ticker Returns</th>\n      <th>Cum SP Returns</th>\n      <th>Cum Ticker ROI Mult</th>\n      <th>Closing High Adj Close</th>\n      <th>Closing High Adj Close Date</th>\n      <th>Pct off High</th>\n    </tr>\n  </thead>\n  <tbody>\n    <tr>\n      <th>0</th>\n      <td>AAPL</td>\n      <td>2013-02-07</td>\n      <td>125</td>\n      <td>65.40</td>\n      <td>8175.00</td>\n      <td>2017-12-29</td>\n      <td>2018-03-09</td>\n      <td>174.517639</td>\n      <td>1.668465</td>\n      <td>1509.390015</td>\n      <td>...</td>\n      <td>2673.610107</td>\n      <td>0.067859</td>\n      <td>0.04225</td>\n      <td>8175.00</td>\n      <td>21814.704895</td>\n      <td>15092.328747</td>\n      <td>2.668465</td>\n      <td>174.517639</td>\n      <td>2018-03-09</td>\n      <td>0.000000</td>\n    </tr>\n    <tr>\n      <th>1</th>\n      <td>FB</td>\n      <td>2013-12-13</td>\n      <td>150</td>\n      <td>53.32</td>\n      <td>7998.00</td>\n      <td>2017-12-29</td>\n      <td>2018-03-09</td>\n      <td>185.229996</td>\n      <td>2.473931</td>\n      <td>1775.319946</td>\n      <td>...</td>\n      <td>2673.610107</td>\n      <td>0.049700</td>\n      <td>0.04225</td>\n      <td>16173.00</td>\n      <td>49599.204254</td>\n      <td>27646.115152</td>\n      <td>3.066791</td>\n      <td>193.089996</td>\n      <td>2018-02-01</td>\n      <td>-0.040706</td>\n    </tr>\n    <tr>\n      <th>2</th>\n      <td>JNJ</td>\n      <td>2014-02-27</td>\n      <td>100</td>\n      <td>81.90</td>\n      <td>8190.00</td>\n      <td>2017-12-29</td>\n      <td>2018-03-09</td>\n      <td>125.826385</td>\n      <td>0.536342</td>\n      <td>1854.290039</td>\n      <td>...</td>\n      <td>2673.610107</td>\n      <td>-0.036238</td>\n      <td>0.04225</td>\n      <td>24363.00</td>\n      <td>62181.842804</td>\n      <td>39953.795385</td>\n      <td>2.552306</td>\n      <td>138.425430</td>\n      <td>2018-01-22</td>\n      <td>-0.091017</td>\n    </tr>\n    <tr>\n      <th>3</th>\n      <td>MCD</td>\n      <td>2013-06-04</td>\n      <td>100</td>\n      <td>84.99</td>\n      <td>8499.00</td>\n      <td>2017-12-29</td>\n      <td>2018-03-09</td>\n      <td>149.752518</td>\n      <td>0.762002</td>\n      <td>1631.380005</td>\n      <td>...</td>\n      <td>2673.610107</td>\n      <td>-0.080672</td>\n      <td>0.04225</td>\n      <td>32862.00</td>\n      <td>77157.094574</td>\n      <td>54470.988768</td>\n      <td>2.347912</td>\n      <td>168.798950</td>\n      <td>2018-01-26</td>\n      <td>-0.112835</td>\n    </tr>\n    <tr>\n      <th>4</th>\n      <td>MTCH</td>\n      <td>2015-12-14</td>\n      <td>600</td>\n      <td>13.63</td>\n      <td>8178.00</td>\n      <td>2017-12-29</td>\n      <td>2018-03-09</td>\n      <td>42.629364</td>\n      <td>2.127613</td>\n      <td>2021.939941</td>\n      <td>...</td>\n      <td>2673.610107</td>\n      <td>0.430533</td>\n      <td>0.04225</td>\n      <td>41040.00</td>\n      <td>102734.712982</td>\n      <td>65741.635117</td>\n      <td>2.503282</td>\n      <td>42.629364</td>\n      <td>2018-03-09</td>\n      <td>0.000000</td>\n    </tr>\n    <tr>\n      <th>5</th>\n      <td>NFLX</td>\n      <td>2016-01-14</td>\n      <td>75</td>\n      <td>108.71</td>\n      <td>8153.25</td>\n      <td>2017-12-29</td>\n      <td>2018-03-09</td>\n      <td>331.440002</td>\n      <td>2.048846</td>\n      <td>1921.839966</td>\n      <td>...</td>\n      <td>2673.610107</td>\n      <td>0.726610</td>\n      <td>0.04225</td>\n      <td>49193.25</td>\n      <td>127592.713165</td>\n      <td>77563.432360</td>\n      <td>2.593704</td>\n      <td>331.440002</td>\n      <td>2018-03-09</td>\n      <td>0.000000</td>\n    </tr>\n    <tr>\n      <th>6</th>\n      <td>TWTR</td>\n      <td>2015-01-05</td>\n      <td>225</td>\n      <td>36.38</td>\n      <td>8185.50</td>\n      <td>2017-12-29</td>\n      <td>2018-03-09</td>\n      <td>35.349998</td>\n      <td>-0.028312</td>\n      <td>2020.579956</td>\n      <td>...</td>\n      <td>2673.610107</td>\n      <td>0.472303</td>\n      <td>0.04225</td>\n      <td>57378.75</td>\n      <td>135546.462822</td>\n      <td>88852.007814</td>\n      <td>2.362311</td>\n      <td>52.869999</td>\n      <td>2015-04-07</td>\n      <td>-0.331379</td>\n    </tr>\n    <tr>\n      <th>7</th>\n      <td>WMT</td>\n      <td>2013-08-14</td>\n      <td>125</td>\n      <td>68.30</td>\n      <td>8537.50</td>\n      <td>2017-12-29</td>\n      <td>2018-03-09</td>\n      <td>84.700142</td>\n      <td>0.240119</td>\n      <td>1685.390015</td>\n      <td>...</td>\n      <td>2673.610107</td>\n      <td>-0.096213</td>\n      <td>0.04225</td>\n      <td>65916.25</td>\n      <td>146133.980560</td>\n      <td>102967.637877</td>\n      <td>2.216964</td>\n      <td>103.966515</td>\n      <td>2018-01-29</td>\n      <td>-0.185313</td>\n    </tr>\n  </tbody>\n</table>\n<p>8 rows × 30 columns</p>\n</div>"
     },
     "metadata": {},
     "execution_count": 78
    }
   ],
   "source": [
    "\n",
    "# Merge the Adj Close pivot table with the master dataframe to have the closing high since you have owned the stock.\n",
    "\n",
    "merged_portfolio_sp_latest_YTD_sp_closing_high = pd.merge(merged_portfolio_sp_latest_YTD_sp, adj_close_pivot_merged\n",
    "                                             , on=['Ticker', 'Acquisition Date'])\n",
    "\n",
    "# Renaming so that it's clear that the new columns are two year closing high and two year closing high date.\n",
    "merged_portfolio_sp_latest_YTD_sp_closing_high.rename(columns={'Adj Close': 'Closing High Adj Close', 'Date': 'Closing High Adj Close Date'}, inplace=True)\n",
    "\n",
    "merged_portfolio_sp_latest_YTD_sp_closing_high['Pct off High'] = merged_portfolio_sp_latest_YTD_sp_closing_high['Ticker Adj Close'] / merged_portfolio_sp_latest_YTD_sp_closing_high['Closing High Adj Close'] - 1 \n",
    "\n",
    "merged_portfolio_sp_latest_YTD_sp_closing_high"
   ]
  },
  {
   "cell_type": "code",
   "execution_count": 79,
   "metadata": {},
   "outputs": [
    {
     "output_type": "display_data",
     "data": {
      "application/vnd.plotly.v1+json": {
       "config": {
        "linkText": "Export to plot.ly",
        "plotlyServerURL": "https://plot.ly",
        "showLink": false
       },
       "data": [
        {
         "name": "Ticker YTD",
         "type": "bar",
         "x": [
          "AAPL",
          "FB",
          "JNJ",
          "MCD",
          "MTCH",
          "NFLX",
          "TWTR",
          "WMT"
         ],
         "y": [
          0.06785905388514757,
          0.04969958449504408,
          -0.03623831128251598,
          -0.08067193829543384,
          0.4305334620020358,
          0.7266096626858631,
          0.47230312941014785,
          -0.09621327308640437
         ]
        },
        {
         "name": "SP500 YTD",
         "type": "scatter",
         "x": [
          "AAPL",
          "FB",
          "JNJ",
          "MCD",
          "MTCH",
          "NFLX",
          "TWTR",
          "WMT"
         ],
         "y": [
          0.04224997527647201,
          0.04224997527647201,
          0.04224997527647201,
          0.04224997527647201,
          0.04224997527647201,
          0.04224997527647201,
          0.04224997527647201,
          0.04224997527647201
         ]
        }
       ],
       "layout": {
        "barmode": "group",
        "legend": {
         "x": 0.8,
         "y": 1
        },
        "template": {
         "data": {
          "bar": [
           {
            "error_x": {
             "color": "#2a3f5f"
            },
            "error_y": {
             "color": "#2a3f5f"
            },
            "marker": {
             "line": {
              "color": "#E5ECF6",
              "width": 0.5
             }
            },
            "type": "bar"
           }
          ],
          "barpolar": [
           {
            "marker": {
             "line": {
              "color": "#E5ECF6",
              "width": 0.5
             }
            },
            "type": "barpolar"
           }
          ],
          "carpet": [
           {
            "aaxis": {
             "endlinecolor": "#2a3f5f",
             "gridcolor": "white",
             "linecolor": "white",
             "minorgridcolor": "white",
             "startlinecolor": "#2a3f5f"
            },
            "baxis": {
             "endlinecolor": "#2a3f5f",
             "gridcolor": "white",
             "linecolor": "white",
             "minorgridcolor": "white",
             "startlinecolor": "#2a3f5f"
            },
            "type": "carpet"
           }
          ],
          "choropleth": [
           {
            "colorbar": {
             "outlinewidth": 0,
             "ticks": ""
            },
            "type": "choropleth"
           }
          ],
          "contour": [
           {
            "colorbar": {
             "outlinewidth": 0,
             "ticks": ""
            },
            "colorscale": [
             [
              0,
              "#0d0887"
             ],
             [
              0.1111111111111111,
              "#46039f"
             ],
             [
              0.2222222222222222,
              "#7201a8"
             ],
             [
              0.3333333333333333,
              "#9c179e"
             ],
             [
              0.4444444444444444,
              "#bd3786"
             ],
             [
              0.5555555555555556,
              "#d8576b"
             ],
             [
              0.6666666666666666,
              "#ed7953"
             ],
             [
              0.7777777777777778,
              "#fb9f3a"
             ],
             [
              0.8888888888888888,
              "#fdca26"
             ],
             [
              1,
              "#f0f921"
             ]
            ],
            "type": "contour"
           }
          ],
          "contourcarpet": [
           {
            "colorbar": {
             "outlinewidth": 0,
             "ticks": ""
            },
            "type": "contourcarpet"
           }
          ],
          "heatmap": [
           {
            "colorbar": {
             "outlinewidth": 0,
             "ticks": ""
            },
            "colorscale": [
             [
              0,
              "#0d0887"
             ],
             [
              0.1111111111111111,
              "#46039f"
             ],
             [
              0.2222222222222222,
              "#7201a8"
             ],
             [
              0.3333333333333333,
              "#9c179e"
             ],
             [
              0.4444444444444444,
              "#bd3786"
             ],
             [
              0.5555555555555556,
              "#d8576b"
             ],
             [
              0.6666666666666666,
              "#ed7953"
             ],
             [
              0.7777777777777778,
              "#fb9f3a"
             ],
             [
              0.8888888888888888,
              "#fdca26"
             ],
             [
              1,
              "#f0f921"
             ]
            ],
            "type": "heatmap"
           }
          ],
          "heatmapgl": [
           {
            "colorbar": {
             "outlinewidth": 0,
             "ticks": ""
            },
            "colorscale": [
             [
              0,
              "#0d0887"
             ],
             [
              0.1111111111111111,
              "#46039f"
             ],
             [
              0.2222222222222222,
              "#7201a8"
             ],
             [
              0.3333333333333333,
              "#9c179e"
             ],
             [
              0.4444444444444444,
              "#bd3786"
             ],
             [
              0.5555555555555556,
              "#d8576b"
             ],
             [
              0.6666666666666666,
              "#ed7953"
             ],
             [
              0.7777777777777778,
              "#fb9f3a"
             ],
             [
              0.8888888888888888,
              "#fdca26"
             ],
             [
              1,
              "#f0f921"
             ]
            ],
            "type": "heatmapgl"
           }
          ],
          "histogram": [
           {
            "marker": {
             "colorbar": {
              "outlinewidth": 0,
              "ticks": ""
             }
            },
            "type": "histogram"
           }
          ],
          "histogram2d": [
           {
            "colorbar": {
             "outlinewidth": 0,
             "ticks": ""
            },
            "colorscale": [
             [
              0,
              "#0d0887"
             ],
             [
              0.1111111111111111,
              "#46039f"
             ],
             [
              0.2222222222222222,
              "#7201a8"
             ],
             [
              0.3333333333333333,
              "#9c179e"
             ],
             [
              0.4444444444444444,
              "#bd3786"
             ],
             [
              0.5555555555555556,
              "#d8576b"
             ],
             [
              0.6666666666666666,
              "#ed7953"
             ],
             [
              0.7777777777777778,
              "#fb9f3a"
             ],
             [
              0.8888888888888888,
              "#fdca26"
             ],
             [
              1,
              "#f0f921"
             ]
            ],
            "type": "histogram2d"
           }
          ],
          "histogram2dcontour": [
           {
            "colorbar": {
             "outlinewidth": 0,
             "ticks": ""
            },
            "colorscale": [
             [
              0,
              "#0d0887"
             ],
             [
              0.1111111111111111,
              "#46039f"
             ],
             [
              0.2222222222222222,
              "#7201a8"
             ],
             [
              0.3333333333333333,
              "#9c179e"
             ],
             [
              0.4444444444444444,
              "#bd3786"
             ],
             [
              0.5555555555555556,
              "#d8576b"
             ],
             [
              0.6666666666666666,
              "#ed7953"
             ],
             [
              0.7777777777777778,
              "#fb9f3a"
             ],
             [
              0.8888888888888888,
              "#fdca26"
             ],
             [
              1,
              "#f0f921"
             ]
            ],
            "type": "histogram2dcontour"
           }
          ],
          "mesh3d": [
           {
            "colorbar": {
             "outlinewidth": 0,
             "ticks": ""
            },
            "type": "mesh3d"
           }
          ],
          "parcoords": [
           {
            "line": {
             "colorbar": {
              "outlinewidth": 0,
              "ticks": ""
             }
            },
            "type": "parcoords"
           }
          ],
          "pie": [
           {
            "automargin": true,
            "type": "pie"
           }
          ],
          "scatter": [
           {
            "marker": {
             "colorbar": {
              "outlinewidth": 0,
              "ticks": ""
             }
            },
            "type": "scatter"
           }
          ],
          "scatter3d": [
           {
            "line": {
             "colorbar": {
              "outlinewidth": 0,
              "ticks": ""
             }
            },
            "marker": {
             "colorbar": {
              "outlinewidth": 0,
              "ticks": ""
             }
            },
            "type": "scatter3d"
           }
          ],
          "scattercarpet": [
           {
            "marker": {
             "colorbar": {
              "outlinewidth": 0,
              "ticks": ""
             }
            },
            "type": "scattercarpet"
           }
          ],
          "scattergeo": [
           {
            "marker": {
             "colorbar": {
              "outlinewidth": 0,
              "ticks": ""
             }
            },
            "type": "scattergeo"
           }
          ],
          "scattergl": [
           {
            "marker": {
             "colorbar": {
              "outlinewidth": 0,
              "ticks": ""
             }
            },
            "type": "scattergl"
           }
          ],
          "scattermapbox": [
           {
            "marker": {
             "colorbar": {
              "outlinewidth": 0,
              "ticks": ""
             }
            },
            "type": "scattermapbox"
           }
          ],
          "scatterpolar": [
           {
            "marker": {
             "colorbar": {
              "outlinewidth": 0,
              "ticks": ""
             }
            },
            "type": "scatterpolar"
           }
          ],
          "scatterpolargl": [
           {
            "marker": {
             "colorbar": {
              "outlinewidth": 0,
              "ticks": ""
             }
            },
            "type": "scatterpolargl"
           }
          ],
          "scatterternary": [
           {
            "marker": {
             "colorbar": {
              "outlinewidth": 0,
              "ticks": ""
             }
            },
            "type": "scatterternary"
           }
          ],
          "surface": [
           {
            "colorbar": {
             "outlinewidth": 0,
             "ticks": ""
            },
            "colorscale": [
             [
              0,
              "#0d0887"
             ],
             [
              0.1111111111111111,
              "#46039f"
             ],
             [
              0.2222222222222222,
              "#7201a8"
             ],
             [
              0.3333333333333333,
              "#9c179e"
             ],
             [
              0.4444444444444444,
              "#bd3786"
             ],
             [
              0.5555555555555556,
              "#d8576b"
             ],
             [
              0.6666666666666666,
              "#ed7953"
             ],
             [
              0.7777777777777778,
              "#fb9f3a"
             ],
             [
              0.8888888888888888,
              "#fdca26"
             ],
             [
              1,
              "#f0f921"
             ]
            ],
            "type": "surface"
           }
          ],
          "table": [
           {
            "cells": {
             "fill": {
              "color": "#EBF0F8"
             },
             "line": {
              "color": "white"
             }
            },
            "header": {
             "fill": {
              "color": "#C8D4E3"
             },
             "line": {
              "color": "white"
             }
            },
            "type": "table"
           }
          ]
         },
         "layout": {
          "annotationdefaults": {
           "arrowcolor": "#2a3f5f",
           "arrowhead": 0,
           "arrowwidth": 1
          },
          "coloraxis": {
           "colorbar": {
            "outlinewidth": 0,
            "ticks": ""
           }
          },
          "colorscale": {
           "diverging": [
            [
             0,
             "#8e0152"
            ],
            [
             0.1,
             "#c51b7d"
            ],
            [
             0.2,
             "#de77ae"
            ],
            [
             0.3,
             "#f1b6da"
            ],
            [
             0.4,
             "#fde0ef"
            ],
            [
             0.5,
             "#f7f7f7"
            ],
            [
             0.6,
             "#e6f5d0"
            ],
            [
             0.7,
             "#b8e186"
            ],
            [
             0.8,
             "#7fbc41"
            ],
            [
             0.9,
             "#4d9221"
            ],
            [
             1,
             "#276419"
            ]
           ],
           "sequential": [
            [
             0,
             "#0d0887"
            ],
            [
             0.1111111111111111,
             "#46039f"
            ],
            [
             0.2222222222222222,
             "#7201a8"
            ],
            [
             0.3333333333333333,
             "#9c179e"
            ],
            [
             0.4444444444444444,
             "#bd3786"
            ],
            [
             0.5555555555555556,
             "#d8576b"
            ],
            [
             0.6666666666666666,
             "#ed7953"
            ],
            [
             0.7777777777777778,
             "#fb9f3a"
            ],
            [
             0.8888888888888888,
             "#fdca26"
            ],
            [
             1,
             "#f0f921"
            ]
           ],
           "sequentialminus": [
            [
             0,
             "#0d0887"
            ],
            [
             0.1111111111111111,
             "#46039f"
            ],
            [
             0.2222222222222222,
             "#7201a8"
            ],
            [
             0.3333333333333333,
             "#9c179e"
            ],
            [
             0.4444444444444444,
             "#bd3786"
            ],
            [
             0.5555555555555556,
             "#d8576b"
            ],
            [
             0.6666666666666666,
             "#ed7953"
            ],
            [
             0.7777777777777778,
             "#fb9f3a"
            ],
            [
             0.8888888888888888,
             "#fdca26"
            ],
            [
             1,
             "#f0f921"
            ]
           ]
          },
          "colorway": [
           "#636efa",
           "#EF553B",
           "#00cc96",
           "#ab63fa",
           "#FFA15A",
           "#19d3f3",
           "#FF6692",
           "#B6E880",
           "#FF97FF",
           "#FECB52"
          ],
          "font": {
           "color": "#2a3f5f"
          },
          "geo": {
           "bgcolor": "white",
           "lakecolor": "white",
           "landcolor": "#E5ECF6",
           "showlakes": true,
           "showland": true,
           "subunitcolor": "white"
          },
          "hoverlabel": {
           "align": "left"
          },
          "hovermode": "closest",
          "mapbox": {
           "style": "light"
          },
          "paper_bgcolor": "white",
          "plot_bgcolor": "#E5ECF6",
          "polar": {
           "angularaxis": {
            "gridcolor": "white",
            "linecolor": "white",
            "ticks": ""
           },
           "bgcolor": "#E5ECF6",
           "radialaxis": {
            "gridcolor": "white",
            "linecolor": "white",
            "ticks": ""
           }
          },
          "scene": {
           "xaxis": {
            "backgroundcolor": "#E5ECF6",
            "gridcolor": "white",
            "gridwidth": 2,
            "linecolor": "white",
            "showbackground": true,
            "ticks": "",
            "zerolinecolor": "white"
           },
           "yaxis": {
            "backgroundcolor": "#E5ECF6",
            "gridcolor": "white",
            "gridwidth": 2,
            "linecolor": "white",
            "showbackground": true,
            "ticks": "",
            "zerolinecolor": "white"
           },
           "zaxis": {
            "backgroundcolor": "#E5ECF6",
            "gridcolor": "white",
            "gridwidth": 2,
            "linecolor": "white",
            "showbackground": true,
            "ticks": "",
            "zerolinecolor": "white"
           }
          },
          "shapedefaults": {
           "line": {
            "color": "#2a3f5f"
           }
          },
          "ternary": {
           "aaxis": {
            "gridcolor": "white",
            "linecolor": "white",
            "ticks": ""
           },
           "baxis": {
            "gridcolor": "white",
            "linecolor": "white",
            "ticks": ""
           },
           "bgcolor": "#E5ECF6",
           "caxis": {
            "gridcolor": "white",
            "linecolor": "white",
            "ticks": ""
           }
          },
          "title": {
           "x": 0.05
          },
          "xaxis": {
           "automargin": true,
           "gridcolor": "white",
           "linecolor": "white",
           "ticks": "",
           "title": {
            "standoff": 15
           },
           "zerolinecolor": "white",
           "zerolinewidth": 2
          },
          "yaxis": {
           "automargin": true,
           "gridcolor": "white",
           "linecolor": "white",
           "ticks": "",
           "title": {
            "standoff": 15
           },
           "zerolinecolor": "white",
           "zerolinewidth": 2
          }
         }
        },
        "title": {
         "text": "YTD Return vs S&P 500 YTD"
        },
        "xaxis": {
         "title": {
          "text": "Ticker"
         }
        },
        "yaxis": {
         "tickformat": ".2%",
         "title": {
          "text": "Returns"
         }
        }
       }
      },
      "text/html": "<div>\n        \n        \n            <div id=\"d6916722-2acd-4fe5-bc5d-06f18b85b033\" class=\"plotly-graph-div\" style=\"height:525px; width:100%;\"></div>\n            <script type=\"text/javascript\">\n                require([\"plotly\"], function(Plotly) {\n                    window.PLOTLYENV=window.PLOTLYENV || {};\n                    \n                if (document.getElementById(\"d6916722-2acd-4fe5-bc5d-06f18b85b033\")) {\n                    Plotly.newPlot(\n                        'd6916722-2acd-4fe5-bc5d-06f18b85b033',\n                        [{\"name\": \"Ticker YTD\", \"type\": \"bar\", \"x\": [\"AAPL\", \"FB\", \"JNJ\", \"MCD\", \"MTCH\", \"NFLX\", \"TWTR\", \"WMT\"], \"y\": [0.06785905388514757, 0.04969958449504408, -0.03623831128251598, -0.08067193829543384, 0.4305334620020358, 0.7266096626858631, 0.47230312941014785, -0.09621327308640437]}, {\"name\": \"SP500 YTD\", \"type\": \"scatter\", \"x\": [\"AAPL\", \"FB\", \"JNJ\", \"MCD\", \"MTCH\", \"NFLX\", \"TWTR\", \"WMT\"], \"y\": [0.04224997527647201, 0.04224997527647201, 0.04224997527647201, 0.04224997527647201, 0.04224997527647201, 0.04224997527647201, 0.04224997527647201, 0.04224997527647201]}],\n                        {\"barmode\": \"group\", \"legend\": {\"x\": 0.8, \"y\": 1}, \"template\": {\"data\": {\"bar\": [{\"error_x\": {\"color\": \"#2a3f5f\"}, \"error_y\": {\"color\": \"#2a3f5f\"}, \"marker\": {\"line\": {\"color\": \"#E5ECF6\", \"width\": 0.5}}, \"type\": \"bar\"}], \"barpolar\": [{\"marker\": {\"line\": {\"color\": \"#E5ECF6\", \"width\": 0.5}}, \"type\": \"barpolar\"}], \"carpet\": [{\"aaxis\": {\"endlinecolor\": \"#2a3f5f\", \"gridcolor\": \"white\", \"linecolor\": \"white\", \"minorgridcolor\": \"white\", \"startlinecolor\": \"#2a3f5f\"}, \"baxis\": {\"endlinecolor\": \"#2a3f5f\", \"gridcolor\": \"white\", \"linecolor\": \"white\", \"minorgridcolor\": \"white\", \"startlinecolor\": \"#2a3f5f\"}, \"type\": \"carpet\"}], \"choropleth\": [{\"colorbar\": {\"outlinewidth\": 0, \"ticks\": \"\"}, \"type\": \"choropleth\"}], \"contour\": [{\"colorbar\": {\"outlinewidth\": 0, \"ticks\": \"\"}, \"colorscale\": [[0.0, \"#0d0887\"], [0.1111111111111111, \"#46039f\"], [0.2222222222222222, \"#7201a8\"], [0.3333333333333333, \"#9c179e\"], [0.4444444444444444, \"#bd3786\"], [0.5555555555555556, \"#d8576b\"], [0.6666666666666666, \"#ed7953\"], [0.7777777777777778, \"#fb9f3a\"], [0.8888888888888888, \"#fdca26\"], [1.0, \"#f0f921\"]], \"type\": \"contour\"}], \"contourcarpet\": [{\"colorbar\": {\"outlinewidth\": 0, \"ticks\": \"\"}, \"type\": \"contourcarpet\"}], \"heatmap\": [{\"colorbar\": {\"outlinewidth\": 0, \"ticks\": \"\"}, \"colorscale\": [[0.0, \"#0d0887\"], [0.1111111111111111, \"#46039f\"], [0.2222222222222222, \"#7201a8\"], [0.3333333333333333, \"#9c179e\"], [0.4444444444444444, \"#bd3786\"], [0.5555555555555556, \"#d8576b\"], [0.6666666666666666, \"#ed7953\"], [0.7777777777777778, \"#fb9f3a\"], [0.8888888888888888, \"#fdca26\"], [1.0, \"#f0f921\"]], \"type\": \"heatmap\"}], \"heatmapgl\": [{\"colorbar\": {\"outlinewidth\": 0, \"ticks\": \"\"}, \"colorscale\": [[0.0, \"#0d0887\"], [0.1111111111111111, \"#46039f\"], [0.2222222222222222, \"#7201a8\"], [0.3333333333333333, \"#9c179e\"], [0.4444444444444444, \"#bd3786\"], [0.5555555555555556, \"#d8576b\"], [0.6666666666666666, \"#ed7953\"], [0.7777777777777778, \"#fb9f3a\"], [0.8888888888888888, \"#fdca26\"], [1.0, \"#f0f921\"]], \"type\": \"heatmapgl\"}], \"histogram\": [{\"marker\": {\"colorbar\": {\"outlinewidth\": 0, \"ticks\": \"\"}}, \"type\": \"histogram\"}], \"histogram2d\": [{\"colorbar\": {\"outlinewidth\": 0, \"ticks\": \"\"}, \"colorscale\": [[0.0, \"#0d0887\"], [0.1111111111111111, \"#46039f\"], [0.2222222222222222, \"#7201a8\"], [0.3333333333333333, \"#9c179e\"], [0.4444444444444444, \"#bd3786\"], [0.5555555555555556, \"#d8576b\"], [0.6666666666666666, \"#ed7953\"], [0.7777777777777778, \"#fb9f3a\"], [0.8888888888888888, \"#fdca26\"], [1.0, \"#f0f921\"]], \"type\": \"histogram2d\"}], \"histogram2dcontour\": [{\"colorbar\": {\"outlinewidth\": 0, \"ticks\": \"\"}, \"colorscale\": [[0.0, \"#0d0887\"], [0.1111111111111111, \"#46039f\"], [0.2222222222222222, \"#7201a8\"], [0.3333333333333333, \"#9c179e\"], [0.4444444444444444, \"#bd3786\"], [0.5555555555555556, \"#d8576b\"], [0.6666666666666666, \"#ed7953\"], [0.7777777777777778, \"#fb9f3a\"], [0.8888888888888888, \"#fdca26\"], [1.0, \"#f0f921\"]], \"type\": \"histogram2dcontour\"}], \"mesh3d\": [{\"colorbar\": {\"outlinewidth\": 0, \"ticks\": \"\"}, \"type\": \"mesh3d\"}], \"parcoords\": [{\"line\": {\"colorbar\": {\"outlinewidth\": 0, \"ticks\": \"\"}}, \"type\": \"parcoords\"}], \"pie\": [{\"automargin\": true, \"type\": \"pie\"}], \"scatter\": [{\"marker\": {\"colorbar\": {\"outlinewidth\": 0, \"ticks\": \"\"}}, \"type\": \"scatter\"}], \"scatter3d\": [{\"line\": {\"colorbar\": {\"outlinewidth\": 0, \"ticks\": \"\"}}, \"marker\": {\"colorbar\": {\"outlinewidth\": 0, \"ticks\": \"\"}}, \"type\": \"scatter3d\"}], \"scattercarpet\": [{\"marker\": {\"colorbar\": {\"outlinewidth\": 0, \"ticks\": \"\"}}, \"type\": \"scattercarpet\"}], \"scattergeo\": [{\"marker\": {\"colorbar\": {\"outlinewidth\": 0, \"ticks\": \"\"}}, \"type\": \"scattergeo\"}], \"scattergl\": [{\"marker\": {\"colorbar\": {\"outlinewidth\": 0, \"ticks\": \"\"}}, \"type\": \"scattergl\"}], \"scattermapbox\": [{\"marker\": {\"colorbar\": {\"outlinewidth\": 0, \"ticks\": \"\"}}, \"type\": \"scattermapbox\"}], \"scatterpolar\": [{\"marker\": {\"colorbar\": {\"outlinewidth\": 0, \"ticks\": \"\"}}, \"type\": \"scatterpolar\"}], \"scatterpolargl\": [{\"marker\": {\"colorbar\": {\"outlinewidth\": 0, \"ticks\": \"\"}}, \"type\": \"scatterpolargl\"}], \"scatterternary\": [{\"marker\": {\"colorbar\": {\"outlinewidth\": 0, \"ticks\": \"\"}}, \"type\": \"scatterternary\"}], \"surface\": [{\"colorbar\": {\"outlinewidth\": 0, \"ticks\": \"\"}, \"colorscale\": [[0.0, \"#0d0887\"], [0.1111111111111111, \"#46039f\"], [0.2222222222222222, \"#7201a8\"], [0.3333333333333333, \"#9c179e\"], [0.4444444444444444, \"#bd3786\"], [0.5555555555555556, \"#d8576b\"], [0.6666666666666666, \"#ed7953\"], [0.7777777777777778, \"#fb9f3a\"], [0.8888888888888888, \"#fdca26\"], [1.0, \"#f0f921\"]], \"type\": \"surface\"}], \"table\": [{\"cells\": {\"fill\": {\"color\": \"#EBF0F8\"}, \"line\": {\"color\": \"white\"}}, \"header\": {\"fill\": {\"color\": \"#C8D4E3\"}, \"line\": {\"color\": \"white\"}}, \"type\": \"table\"}]}, \"layout\": {\"annotationdefaults\": {\"arrowcolor\": \"#2a3f5f\", \"arrowhead\": 0, \"arrowwidth\": 1}, \"coloraxis\": {\"colorbar\": {\"outlinewidth\": 0, \"ticks\": \"\"}}, \"colorscale\": {\"diverging\": [[0, \"#8e0152\"], [0.1, \"#c51b7d\"], [0.2, \"#de77ae\"], [0.3, \"#f1b6da\"], [0.4, \"#fde0ef\"], [0.5, \"#f7f7f7\"], [0.6, \"#e6f5d0\"], [0.7, \"#b8e186\"], [0.8, \"#7fbc41\"], [0.9, \"#4d9221\"], [1, \"#276419\"]], \"sequential\": [[0.0, \"#0d0887\"], [0.1111111111111111, \"#46039f\"], [0.2222222222222222, \"#7201a8\"], [0.3333333333333333, \"#9c179e\"], [0.4444444444444444, \"#bd3786\"], [0.5555555555555556, \"#d8576b\"], [0.6666666666666666, \"#ed7953\"], [0.7777777777777778, \"#fb9f3a\"], [0.8888888888888888, \"#fdca26\"], [1.0, \"#f0f921\"]], \"sequentialminus\": [[0.0, \"#0d0887\"], [0.1111111111111111, \"#46039f\"], [0.2222222222222222, \"#7201a8\"], [0.3333333333333333, \"#9c179e\"], [0.4444444444444444, \"#bd3786\"], [0.5555555555555556, \"#d8576b\"], [0.6666666666666666, \"#ed7953\"], [0.7777777777777778, \"#fb9f3a\"], [0.8888888888888888, \"#fdca26\"], [1.0, \"#f0f921\"]]}, \"colorway\": [\"#636efa\", \"#EF553B\", \"#00cc96\", \"#ab63fa\", \"#FFA15A\", \"#19d3f3\", \"#FF6692\", \"#B6E880\", \"#FF97FF\", \"#FECB52\"], \"font\": {\"color\": \"#2a3f5f\"}, \"geo\": {\"bgcolor\": \"white\", \"lakecolor\": \"white\", \"landcolor\": \"#E5ECF6\", \"showlakes\": true, \"showland\": true, \"subunitcolor\": \"white\"}, \"hoverlabel\": {\"align\": \"left\"}, \"hovermode\": \"closest\", \"mapbox\": {\"style\": \"light\"}, \"paper_bgcolor\": \"white\", \"plot_bgcolor\": \"#E5ECF6\", \"polar\": {\"angularaxis\": {\"gridcolor\": \"white\", \"linecolor\": \"white\", \"ticks\": \"\"}, \"bgcolor\": \"#E5ECF6\", \"radialaxis\": {\"gridcolor\": \"white\", \"linecolor\": \"white\", \"ticks\": \"\"}}, \"scene\": {\"xaxis\": {\"backgroundcolor\": \"#E5ECF6\", \"gridcolor\": \"white\", \"gridwidth\": 2, \"linecolor\": \"white\", \"showbackground\": true, \"ticks\": \"\", \"zerolinecolor\": \"white\"}, \"yaxis\": {\"backgroundcolor\": \"#E5ECF6\", \"gridcolor\": \"white\", \"gridwidth\": 2, \"linecolor\": \"white\", \"showbackground\": true, \"ticks\": \"\", \"zerolinecolor\": \"white\"}, \"zaxis\": {\"backgroundcolor\": \"#E5ECF6\", \"gridcolor\": \"white\", \"gridwidth\": 2, \"linecolor\": \"white\", \"showbackground\": true, \"ticks\": \"\", \"zerolinecolor\": \"white\"}}, \"shapedefaults\": {\"line\": {\"color\": \"#2a3f5f\"}}, \"ternary\": {\"aaxis\": {\"gridcolor\": \"white\", \"linecolor\": \"white\", \"ticks\": \"\"}, \"baxis\": {\"gridcolor\": \"white\", \"linecolor\": \"white\", \"ticks\": \"\"}, \"bgcolor\": \"#E5ECF6\", \"caxis\": {\"gridcolor\": \"white\", \"linecolor\": \"white\", \"ticks\": \"\"}}, \"title\": {\"x\": 0.05}, \"xaxis\": {\"automargin\": true, \"gridcolor\": \"white\", \"linecolor\": \"white\", \"ticks\": \"\", \"title\": {\"standoff\": 15}, \"zerolinecolor\": \"white\", \"zerolinewidth\": 2}, \"yaxis\": {\"automargin\": true, \"gridcolor\": \"white\", \"linecolor\": \"white\", \"ticks\": \"\", \"title\": {\"standoff\": 15}, \"zerolinecolor\": \"white\", \"zerolinewidth\": 2}}}, \"title\": {\"text\": \"YTD Return vs S&P 500 YTD\"}, \"xaxis\": {\"title\": {\"text\": \"Ticker\"}}, \"yaxis\": {\"tickformat\": \".2%\", \"title\": {\"text\": \"Returns\"}}},\n                        {\"responsive\": true}\n                    ).then(function(){\n                            \nvar gd = document.getElementById('d6916722-2acd-4fe5-bc5d-06f18b85b033');\nvar x = new MutationObserver(function (mutations, observer) {{\n        var display = window.getComputedStyle(gd).display;\n        if (!display || display === 'none') {{\n            console.log([gd, 'removed!']);\n            Plotly.purge(gd);\n            observer.disconnect();\n        }}\n}});\n\n// Listen for the removal of the full notebook cells\nvar notebookContainer = gd.closest('#notebook-container');\nif (notebookContainer) {{\n    x.observe(notebookContainer, {childList: true});\n}}\n\n// Listen for the clearing of the current output cell\nvar outputEl = gd.closest('.output');\nif (outputEl) {{\n    x.observe(outputEl, {childList: true});\n}}\n\n                        })\n                };\n                });\n            </script>\n        </div>"
     },
     "metadata": {}
    }
   ],
   "source": [
    "\n",
    "trace1 = go.Bar(\n",
    "    x = merged_portfolio_sp_latest_YTD_sp['Ticker'][0:10],\n",
    "    y = merged_portfolio_sp_latest_YTD_sp['Share YTD'][0:10],\n",
    "    name = 'Ticker YTD')\n",
    "\n",
    "trace2 = go.Scatter(\n",
    "    x = merged_portfolio_sp_latest_YTD_sp['Ticker'][0:10],\n",
    "    y = merged_portfolio_sp_latest_YTD_sp['SP 500 YTD'][0:10],\n",
    "    name = 'SP500 YTD')\n",
    "    \n",
    "data = [trace1, trace2]\n",
    "\n",
    "layout = go.Layout(title = 'YTD Return vs S&P 500 YTD'\n",
    "    , barmode = 'group'\n",
    "    , yaxis=dict(title='Returns', tickformat=\".2%\")\n",
    "    , xaxis=dict(title='Ticker')\n",
    "    , legend=dict(x=.8,y=1)\n",
    "    )\n",
    "\n",
    "fig = go.Figure(data=data, layout=layout)\n",
    "iplot(fig)"
   ]
  },
  {
   "cell_type": "code",
   "execution_count": 80,
   "metadata": {},
   "outputs": [
    {
     "output_type": "display_data",
     "data": {
      "application/vnd.plotly.v1+json": {
       "config": {
        "linkText": "Export to plot.ly",
        "plotlyServerURL": "https://plot.ly",
        "showLink": false
       },
       "data": [
        {
         "name": "Pct off High",
         "type": "bar",
         "x": [
          "AAPL",
          "FB",
          "JNJ",
          "MCD",
          "MTCH",
          "NFLX",
          "TWTR",
          "WMT"
         ],
         "y": [
          0,
          -0.040706410272012494,
          -0.09101683681022465,
          -0.11283501747539959,
          0,
          0,
          -0.33137886914534687,
          -0.1853132497239508
         ]
        }
       ],
       "layout": {
        "barmode": "group",
        "legend": {
         "x": 0.8,
         "y": 1
        },
        "template": {
         "data": {
          "bar": [
           {
            "error_x": {
             "color": "#2a3f5f"
            },
            "error_y": {
             "color": "#2a3f5f"
            },
            "marker": {
             "line": {
              "color": "#E5ECF6",
              "width": 0.5
             }
            },
            "type": "bar"
           }
          ],
          "barpolar": [
           {
            "marker": {
             "line": {
              "color": "#E5ECF6",
              "width": 0.5
             }
            },
            "type": "barpolar"
           }
          ],
          "carpet": [
           {
            "aaxis": {
             "endlinecolor": "#2a3f5f",
             "gridcolor": "white",
             "linecolor": "white",
             "minorgridcolor": "white",
             "startlinecolor": "#2a3f5f"
            },
            "baxis": {
             "endlinecolor": "#2a3f5f",
             "gridcolor": "white",
             "linecolor": "white",
             "minorgridcolor": "white",
             "startlinecolor": "#2a3f5f"
            },
            "type": "carpet"
           }
          ],
          "choropleth": [
           {
            "colorbar": {
             "outlinewidth": 0,
             "ticks": ""
            },
            "type": "choropleth"
           }
          ],
          "contour": [
           {
            "colorbar": {
             "outlinewidth": 0,
             "ticks": ""
            },
            "colorscale": [
             [
              0,
              "#0d0887"
             ],
             [
              0.1111111111111111,
              "#46039f"
             ],
             [
              0.2222222222222222,
              "#7201a8"
             ],
             [
              0.3333333333333333,
              "#9c179e"
             ],
             [
              0.4444444444444444,
              "#bd3786"
             ],
             [
              0.5555555555555556,
              "#d8576b"
             ],
             [
              0.6666666666666666,
              "#ed7953"
             ],
             [
              0.7777777777777778,
              "#fb9f3a"
             ],
             [
              0.8888888888888888,
              "#fdca26"
             ],
             [
              1,
              "#f0f921"
             ]
            ],
            "type": "contour"
           }
          ],
          "contourcarpet": [
           {
            "colorbar": {
             "outlinewidth": 0,
             "ticks": ""
            },
            "type": "contourcarpet"
           }
          ],
          "heatmap": [
           {
            "colorbar": {
             "outlinewidth": 0,
             "ticks": ""
            },
            "colorscale": [
             [
              0,
              "#0d0887"
             ],
             [
              0.1111111111111111,
              "#46039f"
             ],
             [
              0.2222222222222222,
              "#7201a8"
             ],
             [
              0.3333333333333333,
              "#9c179e"
             ],
             [
              0.4444444444444444,
              "#bd3786"
             ],
             [
              0.5555555555555556,
              "#d8576b"
             ],
             [
              0.6666666666666666,
              "#ed7953"
             ],
             [
              0.7777777777777778,
              "#fb9f3a"
             ],
             [
              0.8888888888888888,
              "#fdca26"
             ],
             [
              1,
              "#f0f921"
             ]
            ],
            "type": "heatmap"
           }
          ],
          "heatmapgl": [
           {
            "colorbar": {
             "outlinewidth": 0,
             "ticks": ""
            },
            "colorscale": [
             [
              0,
              "#0d0887"
             ],
             [
              0.1111111111111111,
              "#46039f"
             ],
             [
              0.2222222222222222,
              "#7201a8"
             ],
             [
              0.3333333333333333,
              "#9c179e"
             ],
             [
              0.4444444444444444,
              "#bd3786"
             ],
             [
              0.5555555555555556,
              "#d8576b"
             ],
             [
              0.6666666666666666,
              "#ed7953"
             ],
             [
              0.7777777777777778,
              "#fb9f3a"
             ],
             [
              0.8888888888888888,
              "#fdca26"
             ],
             [
              1,
              "#f0f921"
             ]
            ],
            "type": "heatmapgl"
           }
          ],
          "histogram": [
           {
            "marker": {
             "colorbar": {
              "outlinewidth": 0,
              "ticks": ""
             }
            },
            "type": "histogram"
           }
          ],
          "histogram2d": [
           {
            "colorbar": {
             "outlinewidth": 0,
             "ticks": ""
            },
            "colorscale": [
             [
              0,
              "#0d0887"
             ],
             [
              0.1111111111111111,
              "#46039f"
             ],
             [
              0.2222222222222222,
              "#7201a8"
             ],
             [
              0.3333333333333333,
              "#9c179e"
             ],
             [
              0.4444444444444444,
              "#bd3786"
             ],
             [
              0.5555555555555556,
              "#d8576b"
             ],
             [
              0.6666666666666666,
              "#ed7953"
             ],
             [
              0.7777777777777778,
              "#fb9f3a"
             ],
             [
              0.8888888888888888,
              "#fdca26"
             ],
             [
              1,
              "#f0f921"
             ]
            ],
            "type": "histogram2d"
           }
          ],
          "histogram2dcontour": [
           {
            "colorbar": {
             "outlinewidth": 0,
             "ticks": ""
            },
            "colorscale": [
             [
              0,
              "#0d0887"
             ],
             [
              0.1111111111111111,
              "#46039f"
             ],
             [
              0.2222222222222222,
              "#7201a8"
             ],
             [
              0.3333333333333333,
              "#9c179e"
             ],
             [
              0.4444444444444444,
              "#bd3786"
             ],
             [
              0.5555555555555556,
              "#d8576b"
             ],
             [
              0.6666666666666666,
              "#ed7953"
             ],
             [
              0.7777777777777778,
              "#fb9f3a"
             ],
             [
              0.8888888888888888,
              "#fdca26"
             ],
             [
              1,
              "#f0f921"
             ]
            ],
            "type": "histogram2dcontour"
           }
          ],
          "mesh3d": [
           {
            "colorbar": {
             "outlinewidth": 0,
             "ticks": ""
            },
            "type": "mesh3d"
           }
          ],
          "parcoords": [
           {
            "line": {
             "colorbar": {
              "outlinewidth": 0,
              "ticks": ""
             }
            },
            "type": "parcoords"
           }
          ],
          "pie": [
           {
            "automargin": true,
            "type": "pie"
           }
          ],
          "scatter": [
           {
            "marker": {
             "colorbar": {
              "outlinewidth": 0,
              "ticks": ""
             }
            },
            "type": "scatter"
           }
          ],
          "scatter3d": [
           {
            "line": {
             "colorbar": {
              "outlinewidth": 0,
              "ticks": ""
             }
            },
            "marker": {
             "colorbar": {
              "outlinewidth": 0,
              "ticks": ""
             }
            },
            "type": "scatter3d"
           }
          ],
          "scattercarpet": [
           {
            "marker": {
             "colorbar": {
              "outlinewidth": 0,
              "ticks": ""
             }
            },
            "type": "scattercarpet"
           }
          ],
          "scattergeo": [
           {
            "marker": {
             "colorbar": {
              "outlinewidth": 0,
              "ticks": ""
             }
            },
            "type": "scattergeo"
           }
          ],
          "scattergl": [
           {
            "marker": {
             "colorbar": {
              "outlinewidth": 0,
              "ticks": ""
             }
            },
            "type": "scattergl"
           }
          ],
          "scattermapbox": [
           {
            "marker": {
             "colorbar": {
              "outlinewidth": 0,
              "ticks": ""
             }
            },
            "type": "scattermapbox"
           }
          ],
          "scatterpolar": [
           {
            "marker": {
             "colorbar": {
              "outlinewidth": 0,
              "ticks": ""
             }
            },
            "type": "scatterpolar"
           }
          ],
          "scatterpolargl": [
           {
            "marker": {
             "colorbar": {
              "outlinewidth": 0,
              "ticks": ""
             }
            },
            "type": "scatterpolargl"
           }
          ],
          "scatterternary": [
           {
            "marker": {
             "colorbar": {
              "outlinewidth": 0,
              "ticks": ""
             }
            },
            "type": "scatterternary"
           }
          ],
          "surface": [
           {
            "colorbar": {
             "outlinewidth": 0,
             "ticks": ""
            },
            "colorscale": [
             [
              0,
              "#0d0887"
             ],
             [
              0.1111111111111111,
              "#46039f"
             ],
             [
              0.2222222222222222,
              "#7201a8"
             ],
             [
              0.3333333333333333,
              "#9c179e"
             ],
             [
              0.4444444444444444,
              "#bd3786"
             ],
             [
              0.5555555555555556,
              "#d8576b"
             ],
             [
              0.6666666666666666,
              "#ed7953"
             ],
             [
              0.7777777777777778,
              "#fb9f3a"
             ],
             [
              0.8888888888888888,
              "#fdca26"
             ],
             [
              1,
              "#f0f921"
             ]
            ],
            "type": "surface"
           }
          ],
          "table": [
           {
            "cells": {
             "fill": {
              "color": "#EBF0F8"
             },
             "line": {
              "color": "white"
             }
            },
            "header": {
             "fill": {
              "color": "#C8D4E3"
             },
             "line": {
              "color": "white"
             }
            },
            "type": "table"
           }
          ]
         },
         "layout": {
          "annotationdefaults": {
           "arrowcolor": "#2a3f5f",
           "arrowhead": 0,
           "arrowwidth": 1
          },
          "coloraxis": {
           "colorbar": {
            "outlinewidth": 0,
            "ticks": ""
           }
          },
          "colorscale": {
           "diverging": [
            [
             0,
             "#8e0152"
            ],
            [
             0.1,
             "#c51b7d"
            ],
            [
             0.2,
             "#de77ae"
            ],
            [
             0.3,
             "#f1b6da"
            ],
            [
             0.4,
             "#fde0ef"
            ],
            [
             0.5,
             "#f7f7f7"
            ],
            [
             0.6,
             "#e6f5d0"
            ],
            [
             0.7,
             "#b8e186"
            ],
            [
             0.8,
             "#7fbc41"
            ],
            [
             0.9,
             "#4d9221"
            ],
            [
             1,
             "#276419"
            ]
           ],
           "sequential": [
            [
             0,
             "#0d0887"
            ],
            [
             0.1111111111111111,
             "#46039f"
            ],
            [
             0.2222222222222222,
             "#7201a8"
            ],
            [
             0.3333333333333333,
             "#9c179e"
            ],
            [
             0.4444444444444444,
             "#bd3786"
            ],
            [
             0.5555555555555556,
             "#d8576b"
            ],
            [
             0.6666666666666666,
             "#ed7953"
            ],
            [
             0.7777777777777778,
             "#fb9f3a"
            ],
            [
             0.8888888888888888,
             "#fdca26"
            ],
            [
             1,
             "#f0f921"
            ]
           ],
           "sequentialminus": [
            [
             0,
             "#0d0887"
            ],
            [
             0.1111111111111111,
             "#46039f"
            ],
            [
             0.2222222222222222,
             "#7201a8"
            ],
            [
             0.3333333333333333,
             "#9c179e"
            ],
            [
             0.4444444444444444,
             "#bd3786"
            ],
            [
             0.5555555555555556,
             "#d8576b"
            ],
            [
             0.6666666666666666,
             "#ed7953"
            ],
            [
             0.7777777777777778,
             "#fb9f3a"
            ],
            [
             0.8888888888888888,
             "#fdca26"
            ],
            [
             1,
             "#f0f921"
            ]
           ]
          },
          "colorway": [
           "#636efa",
           "#EF553B",
           "#00cc96",
           "#ab63fa",
           "#FFA15A",
           "#19d3f3",
           "#FF6692",
           "#B6E880",
           "#FF97FF",
           "#FECB52"
          ],
          "font": {
           "color": "#2a3f5f"
          },
          "geo": {
           "bgcolor": "white",
           "lakecolor": "white",
           "landcolor": "#E5ECF6",
           "showlakes": true,
           "showland": true,
           "subunitcolor": "white"
          },
          "hoverlabel": {
           "align": "left"
          },
          "hovermode": "closest",
          "mapbox": {
           "style": "light"
          },
          "paper_bgcolor": "white",
          "plot_bgcolor": "#E5ECF6",
          "polar": {
           "angularaxis": {
            "gridcolor": "white",
            "linecolor": "white",
            "ticks": ""
           },
           "bgcolor": "#E5ECF6",
           "radialaxis": {
            "gridcolor": "white",
            "linecolor": "white",
            "ticks": ""
           }
          },
          "scene": {
           "xaxis": {
            "backgroundcolor": "#E5ECF6",
            "gridcolor": "white",
            "gridwidth": 2,
            "linecolor": "white",
            "showbackground": true,
            "ticks": "",
            "zerolinecolor": "white"
           },
           "yaxis": {
            "backgroundcolor": "#E5ECF6",
            "gridcolor": "white",
            "gridwidth": 2,
            "linecolor": "white",
            "showbackground": true,
            "ticks": "",
            "zerolinecolor": "white"
           },
           "zaxis": {
            "backgroundcolor": "#E5ECF6",
            "gridcolor": "white",
            "gridwidth": 2,
            "linecolor": "white",
            "showbackground": true,
            "ticks": "",
            "zerolinecolor": "white"
           }
          },
          "shapedefaults": {
           "line": {
            "color": "#2a3f5f"
           }
          },
          "ternary": {
           "aaxis": {
            "gridcolor": "white",
            "linecolor": "white",
            "ticks": ""
           },
           "baxis": {
            "gridcolor": "white",
            "linecolor": "white",
            "ticks": ""
           },
           "bgcolor": "#E5ECF6",
           "caxis": {
            "gridcolor": "white",
            "linecolor": "white",
            "ticks": ""
           }
          },
          "title": {
           "x": 0.05
          },
          "xaxis": {
           "automargin": true,
           "gridcolor": "white",
           "linecolor": "white",
           "ticks": "",
           "title": {
            "standoff": 15
           },
           "zerolinecolor": "white",
           "zerolinewidth": 2
          },
          "yaxis": {
           "automargin": true,
           "gridcolor": "white",
           "linecolor": "white",
           "ticks": "",
           "title": {
            "standoff": 15
           },
           "zerolinecolor": "white",
           "zerolinewidth": 2
          }
         }
        },
        "title": {
         "text": "Adj Close % off of High"
        },
        "xaxis": {
         "title": {
          "text": "Ticker"
         }
        },
        "yaxis": {
         "tickformat": ".2%",
         "title": {
          "text": "% Below Adj Close High"
         }
        }
       }
      },
      "text/html": "<div>\n        \n        \n            <div id=\"0e8722fa-e2b8-46e7-8866-8b6ed572f868\" class=\"plotly-graph-div\" style=\"height:525px; width:100%;\"></div>\n            <script type=\"text/javascript\">\n                require([\"plotly\"], function(Plotly) {\n                    window.PLOTLYENV=window.PLOTLYENV || {};\n                    \n                if (document.getElementById(\"0e8722fa-e2b8-46e7-8866-8b6ed572f868\")) {\n                    Plotly.newPlot(\n                        '0e8722fa-e2b8-46e7-8866-8b6ed572f868',\n                        [{\"name\": \"Pct off High\", \"type\": \"bar\", \"x\": [\"AAPL\", \"FB\", \"JNJ\", \"MCD\", \"MTCH\", \"NFLX\", \"TWTR\", \"WMT\"], \"y\": [0.0, -0.040706410272012494, -0.09101683681022465, -0.11283501747539959, 0.0, 0.0, -0.33137886914534687, -0.1853132497239508]}],\n                        {\"barmode\": \"group\", \"legend\": {\"x\": 0.8, \"y\": 1}, \"template\": {\"data\": {\"bar\": [{\"error_x\": {\"color\": \"#2a3f5f\"}, \"error_y\": {\"color\": \"#2a3f5f\"}, \"marker\": {\"line\": {\"color\": \"#E5ECF6\", \"width\": 0.5}}, \"type\": \"bar\"}], \"barpolar\": [{\"marker\": {\"line\": {\"color\": \"#E5ECF6\", \"width\": 0.5}}, \"type\": \"barpolar\"}], \"carpet\": [{\"aaxis\": {\"endlinecolor\": \"#2a3f5f\", \"gridcolor\": \"white\", \"linecolor\": \"white\", \"minorgridcolor\": \"white\", \"startlinecolor\": \"#2a3f5f\"}, \"baxis\": {\"endlinecolor\": \"#2a3f5f\", \"gridcolor\": \"white\", \"linecolor\": \"white\", \"minorgridcolor\": \"white\", \"startlinecolor\": \"#2a3f5f\"}, \"type\": \"carpet\"}], \"choropleth\": [{\"colorbar\": {\"outlinewidth\": 0, \"ticks\": \"\"}, \"type\": \"choropleth\"}], \"contour\": [{\"colorbar\": {\"outlinewidth\": 0, \"ticks\": \"\"}, \"colorscale\": [[0.0, \"#0d0887\"], [0.1111111111111111, \"#46039f\"], [0.2222222222222222, \"#7201a8\"], [0.3333333333333333, \"#9c179e\"], [0.4444444444444444, \"#bd3786\"], [0.5555555555555556, \"#d8576b\"], [0.6666666666666666, \"#ed7953\"], [0.7777777777777778, \"#fb9f3a\"], [0.8888888888888888, \"#fdca26\"], [1.0, \"#f0f921\"]], \"type\": \"contour\"}], \"contourcarpet\": [{\"colorbar\": {\"outlinewidth\": 0, \"ticks\": \"\"}, \"type\": \"contourcarpet\"}], \"heatmap\": [{\"colorbar\": {\"outlinewidth\": 0, \"ticks\": \"\"}, \"colorscale\": [[0.0, \"#0d0887\"], [0.1111111111111111, \"#46039f\"], [0.2222222222222222, \"#7201a8\"], [0.3333333333333333, \"#9c179e\"], [0.4444444444444444, \"#bd3786\"], [0.5555555555555556, \"#d8576b\"], [0.6666666666666666, \"#ed7953\"], [0.7777777777777778, \"#fb9f3a\"], [0.8888888888888888, \"#fdca26\"], [1.0, \"#f0f921\"]], \"type\": \"heatmap\"}], \"heatmapgl\": [{\"colorbar\": {\"outlinewidth\": 0, \"ticks\": \"\"}, \"colorscale\": [[0.0, \"#0d0887\"], [0.1111111111111111, \"#46039f\"], [0.2222222222222222, \"#7201a8\"], [0.3333333333333333, \"#9c179e\"], [0.4444444444444444, \"#bd3786\"], [0.5555555555555556, \"#d8576b\"], [0.6666666666666666, \"#ed7953\"], [0.7777777777777778, \"#fb9f3a\"], [0.8888888888888888, \"#fdca26\"], [1.0, \"#f0f921\"]], \"type\": \"heatmapgl\"}], \"histogram\": [{\"marker\": {\"colorbar\": {\"outlinewidth\": 0, \"ticks\": \"\"}}, \"type\": \"histogram\"}], \"histogram2d\": [{\"colorbar\": {\"outlinewidth\": 0, \"ticks\": \"\"}, \"colorscale\": [[0.0, \"#0d0887\"], [0.1111111111111111, \"#46039f\"], [0.2222222222222222, \"#7201a8\"], [0.3333333333333333, \"#9c179e\"], [0.4444444444444444, \"#bd3786\"], [0.5555555555555556, \"#d8576b\"], [0.6666666666666666, \"#ed7953\"], [0.7777777777777778, \"#fb9f3a\"], [0.8888888888888888, \"#fdca26\"], [1.0, \"#f0f921\"]], \"type\": \"histogram2d\"}], \"histogram2dcontour\": [{\"colorbar\": {\"outlinewidth\": 0, \"ticks\": \"\"}, \"colorscale\": [[0.0, \"#0d0887\"], [0.1111111111111111, \"#46039f\"], [0.2222222222222222, \"#7201a8\"], [0.3333333333333333, \"#9c179e\"], [0.4444444444444444, \"#bd3786\"], [0.5555555555555556, \"#d8576b\"], [0.6666666666666666, \"#ed7953\"], [0.7777777777777778, \"#fb9f3a\"], [0.8888888888888888, \"#fdca26\"], [1.0, \"#f0f921\"]], \"type\": \"histogram2dcontour\"}], \"mesh3d\": [{\"colorbar\": {\"outlinewidth\": 0, \"ticks\": \"\"}, \"type\": \"mesh3d\"}], \"parcoords\": [{\"line\": {\"colorbar\": {\"outlinewidth\": 0, \"ticks\": \"\"}}, \"type\": \"parcoords\"}], \"pie\": [{\"automargin\": true, \"type\": \"pie\"}], \"scatter\": [{\"marker\": {\"colorbar\": {\"outlinewidth\": 0, \"ticks\": \"\"}}, \"type\": \"scatter\"}], \"scatter3d\": [{\"line\": {\"colorbar\": {\"outlinewidth\": 0, \"ticks\": \"\"}}, \"marker\": {\"colorbar\": {\"outlinewidth\": 0, \"ticks\": \"\"}}, \"type\": \"scatter3d\"}], \"scattercarpet\": [{\"marker\": {\"colorbar\": {\"outlinewidth\": 0, \"ticks\": \"\"}}, \"type\": \"scattercarpet\"}], \"scattergeo\": [{\"marker\": {\"colorbar\": {\"outlinewidth\": 0, \"ticks\": \"\"}}, \"type\": \"scattergeo\"}], \"scattergl\": [{\"marker\": {\"colorbar\": {\"outlinewidth\": 0, \"ticks\": \"\"}}, \"type\": \"scattergl\"}], \"scattermapbox\": [{\"marker\": {\"colorbar\": {\"outlinewidth\": 0, \"ticks\": \"\"}}, \"type\": \"scattermapbox\"}], \"scatterpolar\": [{\"marker\": {\"colorbar\": {\"outlinewidth\": 0, \"ticks\": \"\"}}, \"type\": \"scatterpolar\"}], \"scatterpolargl\": [{\"marker\": {\"colorbar\": {\"outlinewidth\": 0, \"ticks\": \"\"}}, \"type\": \"scatterpolargl\"}], \"scatterternary\": [{\"marker\": {\"colorbar\": {\"outlinewidth\": 0, \"ticks\": \"\"}}, \"type\": \"scatterternary\"}], \"surface\": [{\"colorbar\": {\"outlinewidth\": 0, \"ticks\": \"\"}, \"colorscale\": [[0.0, \"#0d0887\"], [0.1111111111111111, \"#46039f\"], [0.2222222222222222, \"#7201a8\"], [0.3333333333333333, \"#9c179e\"], [0.4444444444444444, \"#bd3786\"], [0.5555555555555556, \"#d8576b\"], [0.6666666666666666, \"#ed7953\"], [0.7777777777777778, \"#fb9f3a\"], [0.8888888888888888, \"#fdca26\"], [1.0, \"#f0f921\"]], \"type\": \"surface\"}], \"table\": [{\"cells\": {\"fill\": {\"color\": \"#EBF0F8\"}, \"line\": {\"color\": \"white\"}}, \"header\": {\"fill\": {\"color\": \"#C8D4E3\"}, \"line\": {\"color\": \"white\"}}, \"type\": \"table\"}]}, \"layout\": {\"annotationdefaults\": {\"arrowcolor\": \"#2a3f5f\", \"arrowhead\": 0, \"arrowwidth\": 1}, \"coloraxis\": {\"colorbar\": {\"outlinewidth\": 0, \"ticks\": \"\"}}, \"colorscale\": {\"diverging\": [[0, \"#8e0152\"], [0.1, \"#c51b7d\"], [0.2, \"#de77ae\"], [0.3, \"#f1b6da\"], [0.4, \"#fde0ef\"], [0.5, \"#f7f7f7\"], [0.6, \"#e6f5d0\"], [0.7, \"#b8e186\"], [0.8, \"#7fbc41\"], [0.9, \"#4d9221\"], [1, \"#276419\"]], \"sequential\": [[0.0, \"#0d0887\"], [0.1111111111111111, \"#46039f\"], [0.2222222222222222, \"#7201a8\"], [0.3333333333333333, \"#9c179e\"], [0.4444444444444444, \"#bd3786\"], [0.5555555555555556, \"#d8576b\"], [0.6666666666666666, \"#ed7953\"], [0.7777777777777778, \"#fb9f3a\"], [0.8888888888888888, \"#fdca26\"], [1.0, \"#f0f921\"]], \"sequentialminus\": [[0.0, \"#0d0887\"], [0.1111111111111111, \"#46039f\"], [0.2222222222222222, \"#7201a8\"], [0.3333333333333333, \"#9c179e\"], [0.4444444444444444, \"#bd3786\"], [0.5555555555555556, \"#d8576b\"], [0.6666666666666666, \"#ed7953\"], [0.7777777777777778, \"#fb9f3a\"], [0.8888888888888888, \"#fdca26\"], [1.0, \"#f0f921\"]]}, \"colorway\": [\"#636efa\", \"#EF553B\", \"#00cc96\", \"#ab63fa\", \"#FFA15A\", \"#19d3f3\", \"#FF6692\", \"#B6E880\", \"#FF97FF\", \"#FECB52\"], \"font\": {\"color\": \"#2a3f5f\"}, \"geo\": {\"bgcolor\": \"white\", \"lakecolor\": \"white\", \"landcolor\": \"#E5ECF6\", \"showlakes\": true, \"showland\": true, \"subunitcolor\": \"white\"}, \"hoverlabel\": {\"align\": \"left\"}, \"hovermode\": \"closest\", \"mapbox\": {\"style\": \"light\"}, \"paper_bgcolor\": \"white\", \"plot_bgcolor\": \"#E5ECF6\", \"polar\": {\"angularaxis\": {\"gridcolor\": \"white\", \"linecolor\": \"white\", \"ticks\": \"\"}, \"bgcolor\": \"#E5ECF6\", \"radialaxis\": {\"gridcolor\": \"white\", \"linecolor\": \"white\", \"ticks\": \"\"}}, \"scene\": {\"xaxis\": {\"backgroundcolor\": \"#E5ECF6\", \"gridcolor\": \"white\", \"gridwidth\": 2, \"linecolor\": \"white\", \"showbackground\": true, \"ticks\": \"\", \"zerolinecolor\": \"white\"}, \"yaxis\": {\"backgroundcolor\": \"#E5ECF6\", \"gridcolor\": \"white\", \"gridwidth\": 2, \"linecolor\": \"white\", \"showbackground\": true, \"ticks\": \"\", \"zerolinecolor\": \"white\"}, \"zaxis\": {\"backgroundcolor\": \"#E5ECF6\", \"gridcolor\": \"white\", \"gridwidth\": 2, \"linecolor\": \"white\", \"showbackground\": true, \"ticks\": \"\", \"zerolinecolor\": \"white\"}}, \"shapedefaults\": {\"line\": {\"color\": \"#2a3f5f\"}}, \"ternary\": {\"aaxis\": {\"gridcolor\": \"white\", \"linecolor\": \"white\", \"ticks\": \"\"}, \"baxis\": {\"gridcolor\": \"white\", \"linecolor\": \"white\", \"ticks\": \"\"}, \"bgcolor\": \"#E5ECF6\", \"caxis\": {\"gridcolor\": \"white\", \"linecolor\": \"white\", \"ticks\": \"\"}}, \"title\": {\"x\": 0.05}, \"xaxis\": {\"automargin\": true, \"gridcolor\": \"white\", \"linecolor\": \"white\", \"ticks\": \"\", \"title\": {\"standoff\": 15}, \"zerolinecolor\": \"white\", \"zerolinewidth\": 2}, \"yaxis\": {\"automargin\": true, \"gridcolor\": \"white\", \"linecolor\": \"white\", \"ticks\": \"\", \"title\": {\"standoff\": 15}, \"zerolinecolor\": \"white\", \"zerolinewidth\": 2}}}, \"title\": {\"text\": \"Adj Close % off of High\"}, \"xaxis\": {\"title\": {\"text\": \"Ticker\"}}, \"yaxis\": {\"tickformat\": \".2%\", \"title\": {\"text\": \"% Below Adj Close High\"}}},\n                        {\"responsive\": true}\n                    ).then(function(){\n                            \nvar gd = document.getElementById('0e8722fa-e2b8-46e7-8866-8b6ed572f868');\nvar x = new MutationObserver(function (mutations, observer) {{\n        var display = window.getComputedStyle(gd).display;\n        if (!display || display === 'none') {{\n            console.log([gd, 'removed!']);\n            Plotly.purge(gd);\n            observer.disconnect();\n        }}\n}});\n\n// Listen for the removal of the full notebook cells\nvar notebookContainer = gd.closest('#notebook-container');\nif (notebookContainer) {{\n    x.observe(notebookContainer, {childList: true});\n}}\n\n// Listen for the clearing of the current output cell\nvar outputEl = gd.closest('.output');\nif (outputEl) {{\n    x.observe(outputEl, {childList: true});\n}}\n\n                        })\n                };\n                });\n            </script>\n        </div>"
     },
     "metadata": {}
    }
   ],
   "source": [
    "trace1 = go.Bar(\n",
    "    x = merged_portfolio_sp_latest_YTD_sp_closing_high['Ticker'][0:10],\n",
    "    y = merged_portfolio_sp_latest_YTD_sp_closing_high['Pct off High'][0:10],\n",
    "    name = 'Pct off High')\n",
    "    \n",
    "data = [trace1]\n",
    "\n",
    "layout = go.Layout(title = 'Adj Close % off of High'\n",
    "    , barmode = 'group'\n",
    "    , yaxis=dict(title='% Below Adj Close High', tickformat=\".2%\")\n",
    "    , xaxis=dict(title='Ticker')\n",
    "    , legend=dict(x=.8,y=1)\n",
    "    )\n",
    "\n",
    "fig = go.Figure(data=data, layout=layout)\n",
    "iplot(fig)"
   ]
  },
  {
   "cell_type": "code",
   "execution_count": 81,
   "metadata": {},
   "outputs": [
    {
     "output_type": "display_data",
     "data": {
      "application/vnd.plotly.v1+json": {
       "config": {
        "linkText": "Export to plot.ly",
        "plotlyServerURL": "https://plot.ly",
        "showLink": false
       },
       "data": [
        {
         "name": "Ticker Total Return",
         "type": "bar",
         "x": [
          "AAPL",
          "FB",
          "JNJ",
          "MCD",
          "MTCH",
          "NFLX",
          "TWTR",
          "WMT"
         ],
         "y": [
          1.6684654305834288,
          2.4739309026170115,
          0.5363417032728555,
          0.7620016201929087,
          2.127612913695662,
          2.0488455748450582,
          -0.028312301426028252,
          0.240119208004953
         ]
        },
        {
         "name": "SP500 Total Return",
         "type": "scatter",
         "x": [
          "AAPL",
          "FB",
          "JNJ",
          "MCD",
          "MTCH",
          "NFLX",
          "TWTR",
          "WMT"
         ],
         "y": [
          0.8461564216776765,
          0.5696157045855992,
          0.5027692592083497,
          0.70810605745995,
          0.3781665870952271,
          0.44994906855835093,
          0.37909418531515704,
          0.6533680893681082
         ]
        }
       ],
       "layout": {
        "barmode": "group",
        "legend": {
         "x": 0.8,
         "y": 1
        },
        "template": {
         "data": {
          "bar": [
           {
            "error_x": {
             "color": "#2a3f5f"
            },
            "error_y": {
             "color": "#2a3f5f"
            },
            "marker": {
             "line": {
              "color": "#E5ECF6",
              "width": 0.5
             }
            },
            "type": "bar"
           }
          ],
          "barpolar": [
           {
            "marker": {
             "line": {
              "color": "#E5ECF6",
              "width": 0.5
             }
            },
            "type": "barpolar"
           }
          ],
          "carpet": [
           {
            "aaxis": {
             "endlinecolor": "#2a3f5f",
             "gridcolor": "white",
             "linecolor": "white",
             "minorgridcolor": "white",
             "startlinecolor": "#2a3f5f"
            },
            "baxis": {
             "endlinecolor": "#2a3f5f",
             "gridcolor": "white",
             "linecolor": "white",
             "minorgridcolor": "white",
             "startlinecolor": "#2a3f5f"
            },
            "type": "carpet"
           }
          ],
          "choropleth": [
           {
            "colorbar": {
             "outlinewidth": 0,
             "ticks": ""
            },
            "type": "choropleth"
           }
          ],
          "contour": [
           {
            "colorbar": {
             "outlinewidth": 0,
             "ticks": ""
            },
            "colorscale": [
             [
              0,
              "#0d0887"
             ],
             [
              0.1111111111111111,
              "#46039f"
             ],
             [
              0.2222222222222222,
              "#7201a8"
             ],
             [
              0.3333333333333333,
              "#9c179e"
             ],
             [
              0.4444444444444444,
              "#bd3786"
             ],
             [
              0.5555555555555556,
              "#d8576b"
             ],
             [
              0.6666666666666666,
              "#ed7953"
             ],
             [
              0.7777777777777778,
              "#fb9f3a"
             ],
             [
              0.8888888888888888,
              "#fdca26"
             ],
             [
              1,
              "#f0f921"
             ]
            ],
            "type": "contour"
           }
          ],
          "contourcarpet": [
           {
            "colorbar": {
             "outlinewidth": 0,
             "ticks": ""
            },
            "type": "contourcarpet"
           }
          ],
          "heatmap": [
           {
            "colorbar": {
             "outlinewidth": 0,
             "ticks": ""
            },
            "colorscale": [
             [
              0,
              "#0d0887"
             ],
             [
              0.1111111111111111,
              "#46039f"
             ],
             [
              0.2222222222222222,
              "#7201a8"
             ],
             [
              0.3333333333333333,
              "#9c179e"
             ],
             [
              0.4444444444444444,
              "#bd3786"
             ],
             [
              0.5555555555555556,
              "#d8576b"
             ],
             [
              0.6666666666666666,
              "#ed7953"
             ],
             [
              0.7777777777777778,
              "#fb9f3a"
             ],
             [
              0.8888888888888888,
              "#fdca26"
             ],
             [
              1,
              "#f0f921"
             ]
            ],
            "type": "heatmap"
           }
          ],
          "heatmapgl": [
           {
            "colorbar": {
             "outlinewidth": 0,
             "ticks": ""
            },
            "colorscale": [
             [
              0,
              "#0d0887"
             ],
             [
              0.1111111111111111,
              "#46039f"
             ],
             [
              0.2222222222222222,
              "#7201a8"
             ],
             [
              0.3333333333333333,
              "#9c179e"
             ],
             [
              0.4444444444444444,
              "#bd3786"
             ],
             [
              0.5555555555555556,
              "#d8576b"
             ],
             [
              0.6666666666666666,
              "#ed7953"
             ],
             [
              0.7777777777777778,
              "#fb9f3a"
             ],
             [
              0.8888888888888888,
              "#fdca26"
             ],
             [
              1,
              "#f0f921"
             ]
            ],
            "type": "heatmapgl"
           }
          ],
          "histogram": [
           {
            "marker": {
             "colorbar": {
              "outlinewidth": 0,
              "ticks": ""
             }
            },
            "type": "histogram"
           }
          ],
          "histogram2d": [
           {
            "colorbar": {
             "outlinewidth": 0,
             "ticks": ""
            },
            "colorscale": [
             [
              0,
              "#0d0887"
             ],
             [
              0.1111111111111111,
              "#46039f"
             ],
             [
              0.2222222222222222,
              "#7201a8"
             ],
             [
              0.3333333333333333,
              "#9c179e"
             ],
             [
              0.4444444444444444,
              "#bd3786"
             ],
             [
              0.5555555555555556,
              "#d8576b"
             ],
             [
              0.6666666666666666,
              "#ed7953"
             ],
             [
              0.7777777777777778,
              "#fb9f3a"
             ],
             [
              0.8888888888888888,
              "#fdca26"
             ],
             [
              1,
              "#f0f921"
             ]
            ],
            "type": "histogram2d"
           }
          ],
          "histogram2dcontour": [
           {
            "colorbar": {
             "outlinewidth": 0,
             "ticks": ""
            },
            "colorscale": [
             [
              0,
              "#0d0887"
             ],
             [
              0.1111111111111111,
              "#46039f"
             ],
             [
              0.2222222222222222,
              "#7201a8"
             ],
             [
              0.3333333333333333,
              "#9c179e"
             ],
             [
              0.4444444444444444,
              "#bd3786"
             ],
             [
              0.5555555555555556,
              "#d8576b"
             ],
             [
              0.6666666666666666,
              "#ed7953"
             ],
             [
              0.7777777777777778,
              "#fb9f3a"
             ],
             [
              0.8888888888888888,
              "#fdca26"
             ],
             [
              1,
              "#f0f921"
             ]
            ],
            "type": "histogram2dcontour"
           }
          ],
          "mesh3d": [
           {
            "colorbar": {
             "outlinewidth": 0,
             "ticks": ""
            },
            "type": "mesh3d"
           }
          ],
          "parcoords": [
           {
            "line": {
             "colorbar": {
              "outlinewidth": 0,
              "ticks": ""
             }
            },
            "type": "parcoords"
           }
          ],
          "pie": [
           {
            "automargin": true,
            "type": "pie"
           }
          ],
          "scatter": [
           {
            "marker": {
             "colorbar": {
              "outlinewidth": 0,
              "ticks": ""
             }
            },
            "type": "scatter"
           }
          ],
          "scatter3d": [
           {
            "line": {
             "colorbar": {
              "outlinewidth": 0,
              "ticks": ""
             }
            },
            "marker": {
             "colorbar": {
              "outlinewidth": 0,
              "ticks": ""
             }
            },
            "type": "scatter3d"
           }
          ],
          "scattercarpet": [
           {
            "marker": {
             "colorbar": {
              "outlinewidth": 0,
              "ticks": ""
             }
            },
            "type": "scattercarpet"
           }
          ],
          "scattergeo": [
           {
            "marker": {
             "colorbar": {
              "outlinewidth": 0,
              "ticks": ""
             }
            },
            "type": "scattergeo"
           }
          ],
          "scattergl": [
           {
            "marker": {
             "colorbar": {
              "outlinewidth": 0,
              "ticks": ""
             }
            },
            "type": "scattergl"
           }
          ],
          "scattermapbox": [
           {
            "marker": {
             "colorbar": {
              "outlinewidth": 0,
              "ticks": ""
             }
            },
            "type": "scattermapbox"
           }
          ],
          "scatterpolar": [
           {
            "marker": {
             "colorbar": {
              "outlinewidth": 0,
              "ticks": ""
             }
            },
            "type": "scatterpolar"
           }
          ],
          "scatterpolargl": [
           {
            "marker": {
             "colorbar": {
              "outlinewidth": 0,
              "ticks": ""
             }
            },
            "type": "scatterpolargl"
           }
          ],
          "scatterternary": [
           {
            "marker": {
             "colorbar": {
              "outlinewidth": 0,
              "ticks": ""
             }
            },
            "type": "scatterternary"
           }
          ],
          "surface": [
           {
            "colorbar": {
             "outlinewidth": 0,
             "ticks": ""
            },
            "colorscale": [
             [
              0,
              "#0d0887"
             ],
             [
              0.1111111111111111,
              "#46039f"
             ],
             [
              0.2222222222222222,
              "#7201a8"
             ],
             [
              0.3333333333333333,
              "#9c179e"
             ],
             [
              0.4444444444444444,
              "#bd3786"
             ],
             [
              0.5555555555555556,
              "#d8576b"
             ],
             [
              0.6666666666666666,
              "#ed7953"
             ],
             [
              0.7777777777777778,
              "#fb9f3a"
             ],
             [
              0.8888888888888888,
              "#fdca26"
             ],
             [
              1,
              "#f0f921"
             ]
            ],
            "type": "surface"
           }
          ],
          "table": [
           {
            "cells": {
             "fill": {
              "color": "#EBF0F8"
             },
             "line": {
              "color": "white"
             }
            },
            "header": {
             "fill": {
              "color": "#C8D4E3"
             },
             "line": {
              "color": "white"
             }
            },
            "type": "table"
           }
          ]
         },
         "layout": {
          "annotationdefaults": {
           "arrowcolor": "#2a3f5f",
           "arrowhead": 0,
           "arrowwidth": 1
          },
          "coloraxis": {
           "colorbar": {
            "outlinewidth": 0,
            "ticks": ""
           }
          },
          "colorscale": {
           "diverging": [
            [
             0,
             "#8e0152"
            ],
            [
             0.1,
             "#c51b7d"
            ],
            [
             0.2,
             "#de77ae"
            ],
            [
             0.3,
             "#f1b6da"
            ],
            [
             0.4,
             "#fde0ef"
            ],
            [
             0.5,
             "#f7f7f7"
            ],
            [
             0.6,
             "#e6f5d0"
            ],
            [
             0.7,
             "#b8e186"
            ],
            [
             0.8,
             "#7fbc41"
            ],
            [
             0.9,
             "#4d9221"
            ],
            [
             1,
             "#276419"
            ]
           ],
           "sequential": [
            [
             0,
             "#0d0887"
            ],
            [
             0.1111111111111111,
             "#46039f"
            ],
            [
             0.2222222222222222,
             "#7201a8"
            ],
            [
             0.3333333333333333,
             "#9c179e"
            ],
            [
             0.4444444444444444,
             "#bd3786"
            ],
            [
             0.5555555555555556,
             "#d8576b"
            ],
            [
             0.6666666666666666,
             "#ed7953"
            ],
            [
             0.7777777777777778,
             "#fb9f3a"
            ],
            [
             0.8888888888888888,
             "#fdca26"
            ],
            [
             1,
             "#f0f921"
            ]
           ],
           "sequentialminus": [
            [
             0,
             "#0d0887"
            ],
            [
             0.1111111111111111,
             "#46039f"
            ],
            [
             0.2222222222222222,
             "#7201a8"
            ],
            [
             0.3333333333333333,
             "#9c179e"
            ],
            [
             0.4444444444444444,
             "#bd3786"
            ],
            [
             0.5555555555555556,
             "#d8576b"
            ],
            [
             0.6666666666666666,
             "#ed7953"
            ],
            [
             0.7777777777777778,
             "#fb9f3a"
            ],
            [
             0.8888888888888888,
             "#fdca26"
            ],
            [
             1,
             "#f0f921"
            ]
           ]
          },
          "colorway": [
           "#636efa",
           "#EF553B",
           "#00cc96",
           "#ab63fa",
           "#FFA15A",
           "#19d3f3",
           "#FF6692",
           "#B6E880",
           "#FF97FF",
           "#FECB52"
          ],
          "font": {
           "color": "#2a3f5f"
          },
          "geo": {
           "bgcolor": "white",
           "lakecolor": "white",
           "landcolor": "#E5ECF6",
           "showlakes": true,
           "showland": true,
           "subunitcolor": "white"
          },
          "hoverlabel": {
           "align": "left"
          },
          "hovermode": "closest",
          "mapbox": {
           "style": "light"
          },
          "paper_bgcolor": "white",
          "plot_bgcolor": "#E5ECF6",
          "polar": {
           "angularaxis": {
            "gridcolor": "white",
            "linecolor": "white",
            "ticks": ""
           },
           "bgcolor": "#E5ECF6",
           "radialaxis": {
            "gridcolor": "white",
            "linecolor": "white",
            "ticks": ""
           }
          },
          "scene": {
           "xaxis": {
            "backgroundcolor": "#E5ECF6",
            "gridcolor": "white",
            "gridwidth": 2,
            "linecolor": "white",
            "showbackground": true,
            "ticks": "",
            "zerolinecolor": "white"
           },
           "yaxis": {
            "backgroundcolor": "#E5ECF6",
            "gridcolor": "white",
            "gridwidth": 2,
            "linecolor": "white",
            "showbackground": true,
            "ticks": "",
            "zerolinecolor": "white"
           },
           "zaxis": {
            "backgroundcolor": "#E5ECF6",
            "gridcolor": "white",
            "gridwidth": 2,
            "linecolor": "white",
            "showbackground": true,
            "ticks": "",
            "zerolinecolor": "white"
           }
          },
          "shapedefaults": {
           "line": {
            "color": "#2a3f5f"
           }
          },
          "ternary": {
           "aaxis": {
            "gridcolor": "white",
            "linecolor": "white",
            "ticks": ""
           },
           "baxis": {
            "gridcolor": "white",
            "linecolor": "white",
            "ticks": ""
           },
           "bgcolor": "#E5ECF6",
           "caxis": {
            "gridcolor": "white",
            "linecolor": "white",
            "ticks": ""
           }
          },
          "title": {
           "x": 0.05
          },
          "xaxis": {
           "automargin": true,
           "gridcolor": "white",
           "linecolor": "white",
           "ticks": "",
           "title": {
            "standoff": 15
           },
           "zerolinecolor": "white",
           "zerolinewidth": 2
          },
          "yaxis": {
           "automargin": true,
           "gridcolor": "white",
           "linecolor": "white",
           "ticks": "",
           "title": {
            "standoff": 15
           },
           "zerolinecolor": "white",
           "zerolinewidth": 2
          }
         }
        },
        "title": {
         "text": "Total Return vs S&P 500"
        },
        "xaxis": {
         "tickformat": ".2%",
         "title": {
          "text": "Ticker"
         }
        },
        "yaxis": {
         "tickformat": ".2%",
         "title": {
          "text": "Returns"
         }
        }
       }
      },
      "text/html": "<div>\n        \n        \n            <div id=\"80a9a86a-74eb-44e6-b884-22b0523c2e78\" class=\"plotly-graph-div\" style=\"height:525px; width:100%;\"></div>\n            <script type=\"text/javascript\">\n                require([\"plotly\"], function(Plotly) {\n                    window.PLOTLYENV=window.PLOTLYENV || {};\n                    \n                if (document.getElementById(\"80a9a86a-74eb-44e6-b884-22b0523c2e78\")) {\n                    Plotly.newPlot(\n                        '80a9a86a-74eb-44e6-b884-22b0523c2e78',\n                        [{\"name\": \"Ticker Total Return\", \"type\": \"bar\", \"x\": [\"AAPL\", \"FB\", \"JNJ\", \"MCD\", \"MTCH\", \"NFLX\", \"TWTR\", \"WMT\"], \"y\": [1.6684654305834288, 2.4739309026170115, 0.5363417032728555, 0.7620016201929087, 2.127612913695662, 2.0488455748450582, -0.028312301426028252, 0.240119208004953]}, {\"name\": \"SP500 Total Return\", \"type\": \"scatter\", \"x\": [\"AAPL\", \"FB\", \"JNJ\", \"MCD\", \"MTCH\", \"NFLX\", \"TWTR\", \"WMT\"], \"y\": [0.8461564216776765, 0.5696157045855992, 0.5027692592083497, 0.70810605745995, 0.3781665870952271, 0.44994906855835093, 0.37909418531515704, 0.6533680893681082]}],\n                        {\"barmode\": \"group\", \"legend\": {\"x\": 0.8, \"y\": 1}, \"template\": {\"data\": {\"bar\": [{\"error_x\": {\"color\": \"#2a3f5f\"}, \"error_y\": {\"color\": \"#2a3f5f\"}, \"marker\": {\"line\": {\"color\": \"#E5ECF6\", \"width\": 0.5}}, \"type\": \"bar\"}], \"barpolar\": [{\"marker\": {\"line\": {\"color\": \"#E5ECF6\", \"width\": 0.5}}, \"type\": \"barpolar\"}], \"carpet\": [{\"aaxis\": {\"endlinecolor\": \"#2a3f5f\", \"gridcolor\": \"white\", \"linecolor\": \"white\", \"minorgridcolor\": \"white\", \"startlinecolor\": \"#2a3f5f\"}, \"baxis\": {\"endlinecolor\": \"#2a3f5f\", \"gridcolor\": \"white\", \"linecolor\": \"white\", \"minorgridcolor\": \"white\", \"startlinecolor\": \"#2a3f5f\"}, \"type\": \"carpet\"}], \"choropleth\": [{\"colorbar\": {\"outlinewidth\": 0, \"ticks\": \"\"}, \"type\": \"choropleth\"}], \"contour\": [{\"colorbar\": {\"outlinewidth\": 0, \"ticks\": \"\"}, \"colorscale\": [[0.0, \"#0d0887\"], [0.1111111111111111, \"#46039f\"], [0.2222222222222222, \"#7201a8\"], [0.3333333333333333, \"#9c179e\"], [0.4444444444444444, \"#bd3786\"], [0.5555555555555556, \"#d8576b\"], [0.6666666666666666, \"#ed7953\"], [0.7777777777777778, \"#fb9f3a\"], [0.8888888888888888, \"#fdca26\"], [1.0, \"#f0f921\"]], \"type\": \"contour\"}], \"contourcarpet\": [{\"colorbar\": {\"outlinewidth\": 0, \"ticks\": \"\"}, \"type\": \"contourcarpet\"}], \"heatmap\": [{\"colorbar\": {\"outlinewidth\": 0, \"ticks\": \"\"}, \"colorscale\": [[0.0, \"#0d0887\"], [0.1111111111111111, \"#46039f\"], [0.2222222222222222, \"#7201a8\"], [0.3333333333333333, \"#9c179e\"], [0.4444444444444444, \"#bd3786\"], [0.5555555555555556, \"#d8576b\"], [0.6666666666666666, \"#ed7953\"], [0.7777777777777778, \"#fb9f3a\"], [0.8888888888888888, \"#fdca26\"], [1.0, \"#f0f921\"]], \"type\": \"heatmap\"}], \"heatmapgl\": [{\"colorbar\": {\"outlinewidth\": 0, \"ticks\": \"\"}, \"colorscale\": [[0.0, \"#0d0887\"], [0.1111111111111111, \"#46039f\"], [0.2222222222222222, \"#7201a8\"], [0.3333333333333333, \"#9c179e\"], [0.4444444444444444, \"#bd3786\"], [0.5555555555555556, \"#d8576b\"], [0.6666666666666666, \"#ed7953\"], [0.7777777777777778, \"#fb9f3a\"], [0.8888888888888888, \"#fdca26\"], [1.0, \"#f0f921\"]], \"type\": \"heatmapgl\"}], \"histogram\": [{\"marker\": {\"colorbar\": {\"outlinewidth\": 0, \"ticks\": \"\"}}, \"type\": \"histogram\"}], \"histogram2d\": [{\"colorbar\": {\"outlinewidth\": 0, \"ticks\": \"\"}, \"colorscale\": [[0.0, \"#0d0887\"], [0.1111111111111111, \"#46039f\"], [0.2222222222222222, \"#7201a8\"], [0.3333333333333333, \"#9c179e\"], [0.4444444444444444, \"#bd3786\"], [0.5555555555555556, \"#d8576b\"], [0.6666666666666666, \"#ed7953\"], [0.7777777777777778, \"#fb9f3a\"], [0.8888888888888888, \"#fdca26\"], [1.0, \"#f0f921\"]], \"type\": \"histogram2d\"}], \"histogram2dcontour\": [{\"colorbar\": {\"outlinewidth\": 0, \"ticks\": \"\"}, \"colorscale\": [[0.0, \"#0d0887\"], [0.1111111111111111, \"#46039f\"], [0.2222222222222222, \"#7201a8\"], [0.3333333333333333, \"#9c179e\"], [0.4444444444444444, \"#bd3786\"], [0.5555555555555556, \"#d8576b\"], [0.6666666666666666, \"#ed7953\"], [0.7777777777777778, \"#fb9f3a\"], [0.8888888888888888, \"#fdca26\"], [1.0, \"#f0f921\"]], \"type\": \"histogram2dcontour\"}], \"mesh3d\": [{\"colorbar\": {\"outlinewidth\": 0, \"ticks\": \"\"}, \"type\": \"mesh3d\"}], \"parcoords\": [{\"line\": {\"colorbar\": {\"outlinewidth\": 0, \"ticks\": \"\"}}, \"type\": \"parcoords\"}], \"pie\": [{\"automargin\": true, \"type\": \"pie\"}], \"scatter\": [{\"marker\": {\"colorbar\": {\"outlinewidth\": 0, \"ticks\": \"\"}}, \"type\": \"scatter\"}], \"scatter3d\": [{\"line\": {\"colorbar\": {\"outlinewidth\": 0, \"ticks\": \"\"}}, \"marker\": {\"colorbar\": {\"outlinewidth\": 0, \"ticks\": \"\"}}, \"type\": \"scatter3d\"}], \"scattercarpet\": [{\"marker\": {\"colorbar\": {\"outlinewidth\": 0, \"ticks\": \"\"}}, \"type\": \"scattercarpet\"}], \"scattergeo\": [{\"marker\": {\"colorbar\": {\"outlinewidth\": 0, \"ticks\": \"\"}}, \"type\": \"scattergeo\"}], \"scattergl\": [{\"marker\": {\"colorbar\": {\"outlinewidth\": 0, \"ticks\": \"\"}}, \"type\": \"scattergl\"}], \"scattermapbox\": [{\"marker\": {\"colorbar\": {\"outlinewidth\": 0, \"ticks\": \"\"}}, \"type\": \"scattermapbox\"}], \"scatterpolar\": [{\"marker\": {\"colorbar\": {\"outlinewidth\": 0, \"ticks\": \"\"}}, \"type\": \"scatterpolar\"}], \"scatterpolargl\": [{\"marker\": {\"colorbar\": {\"outlinewidth\": 0, \"ticks\": \"\"}}, \"type\": \"scatterpolargl\"}], \"scatterternary\": [{\"marker\": {\"colorbar\": {\"outlinewidth\": 0, \"ticks\": \"\"}}, \"type\": \"scatterternary\"}], \"surface\": [{\"colorbar\": {\"outlinewidth\": 0, \"ticks\": \"\"}, \"colorscale\": [[0.0, \"#0d0887\"], [0.1111111111111111, \"#46039f\"], [0.2222222222222222, \"#7201a8\"], [0.3333333333333333, \"#9c179e\"], [0.4444444444444444, \"#bd3786\"], [0.5555555555555556, \"#d8576b\"], [0.6666666666666666, \"#ed7953\"], [0.7777777777777778, \"#fb9f3a\"], [0.8888888888888888, \"#fdca26\"], [1.0, \"#f0f921\"]], \"type\": \"surface\"}], \"table\": [{\"cells\": {\"fill\": {\"color\": \"#EBF0F8\"}, \"line\": {\"color\": \"white\"}}, \"header\": {\"fill\": {\"color\": \"#C8D4E3\"}, \"line\": {\"color\": \"white\"}}, \"type\": \"table\"}]}, \"layout\": {\"annotationdefaults\": {\"arrowcolor\": \"#2a3f5f\", \"arrowhead\": 0, \"arrowwidth\": 1}, \"coloraxis\": {\"colorbar\": {\"outlinewidth\": 0, \"ticks\": \"\"}}, \"colorscale\": {\"diverging\": [[0, \"#8e0152\"], [0.1, \"#c51b7d\"], [0.2, \"#de77ae\"], [0.3, \"#f1b6da\"], [0.4, \"#fde0ef\"], [0.5, \"#f7f7f7\"], [0.6, \"#e6f5d0\"], [0.7, \"#b8e186\"], [0.8, \"#7fbc41\"], [0.9, \"#4d9221\"], [1, \"#276419\"]], \"sequential\": [[0.0, \"#0d0887\"], [0.1111111111111111, \"#46039f\"], [0.2222222222222222, \"#7201a8\"], [0.3333333333333333, \"#9c179e\"], [0.4444444444444444, \"#bd3786\"], [0.5555555555555556, \"#d8576b\"], [0.6666666666666666, \"#ed7953\"], [0.7777777777777778, \"#fb9f3a\"], [0.8888888888888888, \"#fdca26\"], [1.0, \"#f0f921\"]], \"sequentialminus\": [[0.0, \"#0d0887\"], [0.1111111111111111, \"#46039f\"], [0.2222222222222222, \"#7201a8\"], [0.3333333333333333, \"#9c179e\"], [0.4444444444444444, \"#bd3786\"], [0.5555555555555556, \"#d8576b\"], [0.6666666666666666, \"#ed7953\"], [0.7777777777777778, \"#fb9f3a\"], [0.8888888888888888, \"#fdca26\"], [1.0, \"#f0f921\"]]}, \"colorway\": [\"#636efa\", \"#EF553B\", \"#00cc96\", \"#ab63fa\", \"#FFA15A\", \"#19d3f3\", \"#FF6692\", \"#B6E880\", \"#FF97FF\", \"#FECB52\"], \"font\": {\"color\": \"#2a3f5f\"}, \"geo\": {\"bgcolor\": \"white\", \"lakecolor\": \"white\", \"landcolor\": \"#E5ECF6\", \"showlakes\": true, \"showland\": true, \"subunitcolor\": \"white\"}, \"hoverlabel\": {\"align\": \"left\"}, \"hovermode\": \"closest\", \"mapbox\": {\"style\": \"light\"}, \"paper_bgcolor\": \"white\", \"plot_bgcolor\": \"#E5ECF6\", \"polar\": {\"angularaxis\": {\"gridcolor\": \"white\", \"linecolor\": \"white\", \"ticks\": \"\"}, \"bgcolor\": \"#E5ECF6\", \"radialaxis\": {\"gridcolor\": \"white\", \"linecolor\": \"white\", \"ticks\": \"\"}}, \"scene\": {\"xaxis\": {\"backgroundcolor\": \"#E5ECF6\", \"gridcolor\": \"white\", \"gridwidth\": 2, \"linecolor\": \"white\", \"showbackground\": true, \"ticks\": \"\", \"zerolinecolor\": \"white\"}, \"yaxis\": {\"backgroundcolor\": \"#E5ECF6\", \"gridcolor\": \"white\", \"gridwidth\": 2, \"linecolor\": \"white\", \"showbackground\": true, \"ticks\": \"\", \"zerolinecolor\": \"white\"}, \"zaxis\": {\"backgroundcolor\": \"#E5ECF6\", \"gridcolor\": \"white\", \"gridwidth\": 2, \"linecolor\": \"white\", \"showbackground\": true, \"ticks\": \"\", \"zerolinecolor\": \"white\"}}, \"shapedefaults\": {\"line\": {\"color\": \"#2a3f5f\"}}, \"ternary\": {\"aaxis\": {\"gridcolor\": \"white\", \"linecolor\": \"white\", \"ticks\": \"\"}, \"baxis\": {\"gridcolor\": \"white\", \"linecolor\": \"white\", \"ticks\": \"\"}, \"bgcolor\": \"#E5ECF6\", \"caxis\": {\"gridcolor\": \"white\", \"linecolor\": \"white\", \"ticks\": \"\"}}, \"title\": {\"x\": 0.05}, \"xaxis\": {\"automargin\": true, \"gridcolor\": \"white\", \"linecolor\": \"white\", \"ticks\": \"\", \"title\": {\"standoff\": 15}, \"zerolinecolor\": \"white\", \"zerolinewidth\": 2}, \"yaxis\": {\"automargin\": true, \"gridcolor\": \"white\", \"linecolor\": \"white\", \"ticks\": \"\", \"title\": {\"standoff\": 15}, \"zerolinecolor\": \"white\", \"zerolinewidth\": 2}}}, \"title\": {\"text\": \"Total Return vs S&P 500\"}, \"xaxis\": {\"tickformat\": \".2%\", \"title\": {\"text\": \"Ticker\"}}, \"yaxis\": {\"tickformat\": \".2%\", \"title\": {\"text\": \"Returns\"}}},\n                        {\"responsive\": true}\n                    ).then(function(){\n                            \nvar gd = document.getElementById('80a9a86a-74eb-44e6-b884-22b0523c2e78');\nvar x = new MutationObserver(function (mutations, observer) {{\n        var display = window.getComputedStyle(gd).display;\n        if (!display || display === 'none') {{\n            console.log([gd, 'removed!']);\n            Plotly.purge(gd);\n            observer.disconnect();\n        }}\n}});\n\n// Listen for the removal of the full notebook cells\nvar notebookContainer = gd.closest('#notebook-container');\nif (notebookContainer) {{\n    x.observe(notebookContainer, {childList: true});\n}}\n\n// Listen for the clearing of the current output cell\nvar outputEl = gd.closest('.output');\nif (outputEl) {{\n    x.observe(outputEl, {childList: true});\n}}\n\n                        })\n                };\n                });\n            </script>\n        </div>"
     },
     "metadata": {}
    }
   ],
   "source": [
    "trace1 = go.Bar(\n",
    "    x = merged_portfolio_sp_latest_YTD_sp_closing_high['Ticker'][0:10],\n",
    "    y = merged_portfolio_sp_latest_YTD_sp_closing_high['ticker return'][0:10],\n",
    "    name = 'Ticker Total Return')\n",
    "\n",
    "trace2 = go.Scatter(\n",
    "    x = merged_portfolio_sp_latest_YTD_sp_closing_high['Ticker'][0:10],\n",
    "    y = merged_portfolio_sp_latest_YTD_sp_closing_high['SP Return'][0:10],\n",
    "    name = 'SP500 Total Return')\n",
    "    \n",
    "data = [trace1, trace2]\n",
    "\n",
    "layout = go.Layout(title = 'Total Return vs S&P 500'\n",
    "    , barmode = 'group'\n",
    "    , yaxis=dict(title='Returns', tickformat=\".2%\")\n",
    "    , xaxis=dict(title='Ticker', tickformat=\".2%\")\n",
    "    , legend=dict(x=.8,y=1)\n",
    "    )\n",
    "\n",
    "fig = go.Figure(data=data, layout=layout)\n",
    "iplot(fig)"
   ]
  },
  {
   "cell_type": "code",
   "execution_count": 82,
   "metadata": {},
   "outputs": [
    {
     "output_type": "display_data",
     "data": {
      "application/vnd.plotly.v1+json": {
       "config": {
        "linkText": "Export to plot.ly",
        "plotlyServerURL": "https://plot.ly",
        "showLink": false
       },
       "data": [
        {
         "name": "Ticker Total Return ($)",
         "type": "bar",
         "x": [
          "AAPL",
          "FB",
          "JNJ",
          "MCD",
          "MTCH",
          "NFLX",
          "TWTR",
          "WMT"
         ],
         "y": [
          13639.704895019531,
          19786.49935913086,
          4392.638549804687,
          6476.251770019531,
          17399.618408203125,
          16704.75018310547,
          -231.75034332275482,
          2050.017738342285
         ]
        },
        {
         "name": "SP 500 Total Return ($)",
         "type": "bar",
         "x": [
          "AAPL",
          "FB",
          "JNJ",
          "MCD",
          "MTCH",
          "NFLX",
          "TWTR",
          "WMT"
         ],
         "y": [
          6917.328747215005,
          4555.786405275623,
          4117.680232916385,
          6018.193382352116,
          3092.6463492647663,
          3668.5472432233737,
          3103.075453897217,
          5578.1300629802245
         ]
        },
        {
         "name": "Ticker Total Return %",
         "type": "scatter",
         "x": [
          "AAPL",
          "FB",
          "JNJ",
          "MCD",
          "MTCH",
          "NFLX",
          "TWTR",
          "WMT"
         ],
         "y": [
          1.6684654305834288,
          2.4739309026170115,
          0.5363417032728555,
          0.7620016201929087,
          2.127612913695662,
          2.0488455748450582,
          -0.028312301426028252,
          0.240119208004953
         ],
         "yaxis": "y2"
        }
       ],
       "layout": {
        "barmode": "group",
        "legend": {
         "x": 0.75,
         "y": 1
        },
        "template": {
         "data": {
          "bar": [
           {
            "error_x": {
             "color": "#2a3f5f"
            },
            "error_y": {
             "color": "#2a3f5f"
            },
            "marker": {
             "line": {
              "color": "#E5ECF6",
              "width": 0.5
             }
            },
            "type": "bar"
           }
          ],
          "barpolar": [
           {
            "marker": {
             "line": {
              "color": "#E5ECF6",
              "width": 0.5
             }
            },
            "type": "barpolar"
           }
          ],
          "carpet": [
           {
            "aaxis": {
             "endlinecolor": "#2a3f5f",
             "gridcolor": "white",
             "linecolor": "white",
             "minorgridcolor": "white",
             "startlinecolor": "#2a3f5f"
            },
            "baxis": {
             "endlinecolor": "#2a3f5f",
             "gridcolor": "white",
             "linecolor": "white",
             "minorgridcolor": "white",
             "startlinecolor": "#2a3f5f"
            },
            "type": "carpet"
           }
          ],
          "choropleth": [
           {
            "colorbar": {
             "outlinewidth": 0,
             "ticks": ""
            },
            "type": "choropleth"
           }
          ],
          "contour": [
           {
            "colorbar": {
             "outlinewidth": 0,
             "ticks": ""
            },
            "colorscale": [
             [
              0,
              "#0d0887"
             ],
             [
              0.1111111111111111,
              "#46039f"
             ],
             [
              0.2222222222222222,
              "#7201a8"
             ],
             [
              0.3333333333333333,
              "#9c179e"
             ],
             [
              0.4444444444444444,
              "#bd3786"
             ],
             [
              0.5555555555555556,
              "#d8576b"
             ],
             [
              0.6666666666666666,
              "#ed7953"
             ],
             [
              0.7777777777777778,
              "#fb9f3a"
             ],
             [
              0.8888888888888888,
              "#fdca26"
             ],
             [
              1,
              "#f0f921"
             ]
            ],
            "type": "contour"
           }
          ],
          "contourcarpet": [
           {
            "colorbar": {
             "outlinewidth": 0,
             "ticks": ""
            },
            "type": "contourcarpet"
           }
          ],
          "heatmap": [
           {
            "colorbar": {
             "outlinewidth": 0,
             "ticks": ""
            },
            "colorscale": [
             [
              0,
              "#0d0887"
             ],
             [
              0.1111111111111111,
              "#46039f"
             ],
             [
              0.2222222222222222,
              "#7201a8"
             ],
             [
              0.3333333333333333,
              "#9c179e"
             ],
             [
              0.4444444444444444,
              "#bd3786"
             ],
             [
              0.5555555555555556,
              "#d8576b"
             ],
             [
              0.6666666666666666,
              "#ed7953"
             ],
             [
              0.7777777777777778,
              "#fb9f3a"
             ],
             [
              0.8888888888888888,
              "#fdca26"
             ],
             [
              1,
              "#f0f921"
             ]
            ],
            "type": "heatmap"
           }
          ],
          "heatmapgl": [
           {
            "colorbar": {
             "outlinewidth": 0,
             "ticks": ""
            },
            "colorscale": [
             [
              0,
              "#0d0887"
             ],
             [
              0.1111111111111111,
              "#46039f"
             ],
             [
              0.2222222222222222,
              "#7201a8"
             ],
             [
              0.3333333333333333,
              "#9c179e"
             ],
             [
              0.4444444444444444,
              "#bd3786"
             ],
             [
              0.5555555555555556,
              "#d8576b"
             ],
             [
              0.6666666666666666,
              "#ed7953"
             ],
             [
              0.7777777777777778,
              "#fb9f3a"
             ],
             [
              0.8888888888888888,
              "#fdca26"
             ],
             [
              1,
              "#f0f921"
             ]
            ],
            "type": "heatmapgl"
           }
          ],
          "histogram": [
           {
            "marker": {
             "colorbar": {
              "outlinewidth": 0,
              "ticks": ""
             }
            },
            "type": "histogram"
           }
          ],
          "histogram2d": [
           {
            "colorbar": {
             "outlinewidth": 0,
             "ticks": ""
            },
            "colorscale": [
             [
              0,
              "#0d0887"
             ],
             [
              0.1111111111111111,
              "#46039f"
             ],
             [
              0.2222222222222222,
              "#7201a8"
             ],
             [
              0.3333333333333333,
              "#9c179e"
             ],
             [
              0.4444444444444444,
              "#bd3786"
             ],
             [
              0.5555555555555556,
              "#d8576b"
             ],
             [
              0.6666666666666666,
              "#ed7953"
             ],
             [
              0.7777777777777778,
              "#fb9f3a"
             ],
             [
              0.8888888888888888,
              "#fdca26"
             ],
             [
              1,
              "#f0f921"
             ]
            ],
            "type": "histogram2d"
           }
          ],
          "histogram2dcontour": [
           {
            "colorbar": {
             "outlinewidth": 0,
             "ticks": ""
            },
            "colorscale": [
             [
              0,
              "#0d0887"
             ],
             [
              0.1111111111111111,
              "#46039f"
             ],
             [
              0.2222222222222222,
              "#7201a8"
             ],
             [
              0.3333333333333333,
              "#9c179e"
             ],
             [
              0.4444444444444444,
              "#bd3786"
             ],
             [
              0.5555555555555556,
              "#d8576b"
             ],
             [
              0.6666666666666666,
              "#ed7953"
             ],
             [
              0.7777777777777778,
              "#fb9f3a"
             ],
             [
              0.8888888888888888,
              "#fdca26"
             ],
             [
              1,
              "#f0f921"
             ]
            ],
            "type": "histogram2dcontour"
           }
          ],
          "mesh3d": [
           {
            "colorbar": {
             "outlinewidth": 0,
             "ticks": ""
            },
            "type": "mesh3d"
           }
          ],
          "parcoords": [
           {
            "line": {
             "colorbar": {
              "outlinewidth": 0,
              "ticks": ""
             }
            },
            "type": "parcoords"
           }
          ],
          "pie": [
           {
            "automargin": true,
            "type": "pie"
           }
          ],
          "scatter": [
           {
            "marker": {
             "colorbar": {
              "outlinewidth": 0,
              "ticks": ""
             }
            },
            "type": "scatter"
           }
          ],
          "scatter3d": [
           {
            "line": {
             "colorbar": {
              "outlinewidth": 0,
              "ticks": ""
             }
            },
            "marker": {
             "colorbar": {
              "outlinewidth": 0,
              "ticks": ""
             }
            },
            "type": "scatter3d"
           }
          ],
          "scattercarpet": [
           {
            "marker": {
             "colorbar": {
              "outlinewidth": 0,
              "ticks": ""
             }
            },
            "type": "scattercarpet"
           }
          ],
          "scattergeo": [
           {
            "marker": {
             "colorbar": {
              "outlinewidth": 0,
              "ticks": ""
             }
            },
            "type": "scattergeo"
           }
          ],
          "scattergl": [
           {
            "marker": {
             "colorbar": {
              "outlinewidth": 0,
              "ticks": ""
             }
            },
            "type": "scattergl"
           }
          ],
          "scattermapbox": [
           {
            "marker": {
             "colorbar": {
              "outlinewidth": 0,
              "ticks": ""
             }
            },
            "type": "scattermapbox"
           }
          ],
          "scatterpolar": [
           {
            "marker": {
             "colorbar": {
              "outlinewidth": 0,
              "ticks": ""
             }
            },
            "type": "scatterpolar"
           }
          ],
          "scatterpolargl": [
           {
            "marker": {
             "colorbar": {
              "outlinewidth": 0,
              "ticks": ""
             }
            },
            "type": "scatterpolargl"
           }
          ],
          "scatterternary": [
           {
            "marker": {
             "colorbar": {
              "outlinewidth": 0,
              "ticks": ""
             }
            },
            "type": "scatterternary"
           }
          ],
          "surface": [
           {
            "colorbar": {
             "outlinewidth": 0,
             "ticks": ""
            },
            "colorscale": [
             [
              0,
              "#0d0887"
             ],
             [
              0.1111111111111111,
              "#46039f"
             ],
             [
              0.2222222222222222,
              "#7201a8"
             ],
             [
              0.3333333333333333,
              "#9c179e"
             ],
             [
              0.4444444444444444,
              "#bd3786"
             ],
             [
              0.5555555555555556,
              "#d8576b"
             ],
             [
              0.6666666666666666,
              "#ed7953"
             ],
             [
              0.7777777777777778,
              "#fb9f3a"
             ],
             [
              0.8888888888888888,
              "#fdca26"
             ],
             [
              1,
              "#f0f921"
             ]
            ],
            "type": "surface"
           }
          ],
          "table": [
           {
            "cells": {
             "fill": {
              "color": "#EBF0F8"
             },
             "line": {
              "color": "white"
             }
            },
            "header": {
             "fill": {
              "color": "#C8D4E3"
             },
             "line": {
              "color": "white"
             }
            },
            "type": "table"
           }
          ]
         },
         "layout": {
          "annotationdefaults": {
           "arrowcolor": "#2a3f5f",
           "arrowhead": 0,
           "arrowwidth": 1
          },
          "coloraxis": {
           "colorbar": {
            "outlinewidth": 0,
            "ticks": ""
           }
          },
          "colorscale": {
           "diverging": [
            [
             0,
             "#8e0152"
            ],
            [
             0.1,
             "#c51b7d"
            ],
            [
             0.2,
             "#de77ae"
            ],
            [
             0.3,
             "#f1b6da"
            ],
            [
             0.4,
             "#fde0ef"
            ],
            [
             0.5,
             "#f7f7f7"
            ],
            [
             0.6,
             "#e6f5d0"
            ],
            [
             0.7,
             "#b8e186"
            ],
            [
             0.8,
             "#7fbc41"
            ],
            [
             0.9,
             "#4d9221"
            ],
            [
             1,
             "#276419"
            ]
           ],
           "sequential": [
            [
             0,
             "#0d0887"
            ],
            [
             0.1111111111111111,
             "#46039f"
            ],
            [
             0.2222222222222222,
             "#7201a8"
            ],
            [
             0.3333333333333333,
             "#9c179e"
            ],
            [
             0.4444444444444444,
             "#bd3786"
            ],
            [
             0.5555555555555556,
             "#d8576b"
            ],
            [
             0.6666666666666666,
             "#ed7953"
            ],
            [
             0.7777777777777778,
             "#fb9f3a"
            ],
            [
             0.8888888888888888,
             "#fdca26"
            ],
            [
             1,
             "#f0f921"
            ]
           ],
           "sequentialminus": [
            [
             0,
             "#0d0887"
            ],
            [
             0.1111111111111111,
             "#46039f"
            ],
            [
             0.2222222222222222,
             "#7201a8"
            ],
            [
             0.3333333333333333,
             "#9c179e"
            ],
            [
             0.4444444444444444,
             "#bd3786"
            ],
            [
             0.5555555555555556,
             "#d8576b"
            ],
            [
             0.6666666666666666,
             "#ed7953"
            ],
            [
             0.7777777777777778,
             "#fb9f3a"
            ],
            [
             0.8888888888888888,
             "#fdca26"
            ],
            [
             1,
             "#f0f921"
            ]
           ]
          },
          "colorway": [
           "#636efa",
           "#EF553B",
           "#00cc96",
           "#ab63fa",
           "#FFA15A",
           "#19d3f3",
           "#FF6692",
           "#B6E880",
           "#FF97FF",
           "#FECB52"
          ],
          "font": {
           "color": "#2a3f5f"
          },
          "geo": {
           "bgcolor": "white",
           "lakecolor": "white",
           "landcolor": "#E5ECF6",
           "showlakes": true,
           "showland": true,
           "subunitcolor": "white"
          },
          "hoverlabel": {
           "align": "left"
          },
          "hovermode": "closest",
          "mapbox": {
           "style": "light"
          },
          "paper_bgcolor": "white",
          "plot_bgcolor": "#E5ECF6",
          "polar": {
           "angularaxis": {
            "gridcolor": "white",
            "linecolor": "white",
            "ticks": ""
           },
           "bgcolor": "#E5ECF6",
           "radialaxis": {
            "gridcolor": "white",
            "linecolor": "white",
            "ticks": ""
           }
          },
          "scene": {
           "xaxis": {
            "backgroundcolor": "#E5ECF6",
            "gridcolor": "white",
            "gridwidth": 2,
            "linecolor": "white",
            "showbackground": true,
            "ticks": "",
            "zerolinecolor": "white"
           },
           "yaxis": {
            "backgroundcolor": "#E5ECF6",
            "gridcolor": "white",
            "gridwidth": 2,
            "linecolor": "white",
            "showbackground": true,
            "ticks": "",
            "zerolinecolor": "white"
           },
           "zaxis": {
            "backgroundcolor": "#E5ECF6",
            "gridcolor": "white",
            "gridwidth": 2,
            "linecolor": "white",
            "showbackground": true,
            "ticks": "",
            "zerolinecolor": "white"
           }
          },
          "shapedefaults": {
           "line": {
            "color": "#2a3f5f"
           }
          },
          "ternary": {
           "aaxis": {
            "gridcolor": "white",
            "linecolor": "white",
            "ticks": ""
           },
           "baxis": {
            "gridcolor": "white",
            "linecolor": "white",
            "ticks": ""
           },
           "bgcolor": "#E5ECF6",
           "caxis": {
            "gridcolor": "white",
            "linecolor": "white",
            "ticks": ""
           }
          },
          "title": {
           "x": 0.05
          },
          "xaxis": {
           "automargin": true,
           "gridcolor": "white",
           "linecolor": "white",
           "ticks": "",
           "title": {
            "standoff": 15
           },
           "zerolinecolor": "white",
           "zerolinewidth": 2
          },
          "yaxis": {
           "automargin": true,
           "gridcolor": "white",
           "linecolor": "white",
           "ticks": "",
           "title": {
            "standoff": 15
           },
           "zerolinecolor": "white",
           "zerolinewidth": 2
          }
         }
        },
        "title": {
         "text": "Gain / (Loss) Total Return vs S&P 500"
        },
        "xaxis": {
         "title": {
          "text": "Ticker"
         }
        },
        "yaxis": {
         "title": {
          "text": "Gain / (Loss) ($)"
         }
        },
        "yaxis2": {
         "overlaying": "y",
         "side": "right",
         "tickformat": ".2%",
         "title": {
          "text": "Ticker Return"
         }
        }
       }
      },
      "text/html": "<div>\n        \n        \n            <div id=\"c980ce6d-df07-4d11-853b-29d23c227721\" class=\"plotly-graph-div\" style=\"height:525px; width:100%;\"></div>\n            <script type=\"text/javascript\">\n                require([\"plotly\"], function(Plotly) {\n                    window.PLOTLYENV=window.PLOTLYENV || {};\n                    \n                if (document.getElementById(\"c980ce6d-df07-4d11-853b-29d23c227721\")) {\n                    Plotly.newPlot(\n                        'c980ce6d-df07-4d11-853b-29d23c227721',\n                        [{\"name\": \"Ticker Total Return ($)\", \"type\": \"bar\", \"x\": [\"AAPL\", \"FB\", \"JNJ\", \"MCD\", \"MTCH\", \"NFLX\", \"TWTR\", \"WMT\"], \"y\": [13639.704895019531, 19786.49935913086, 4392.638549804687, 6476.251770019531, 17399.618408203125, 16704.75018310547, -231.75034332275482, 2050.017738342285]}, {\"name\": \"SP 500 Total Return ($)\", \"type\": \"bar\", \"x\": [\"AAPL\", \"FB\", \"JNJ\", \"MCD\", \"MTCH\", \"NFLX\", \"TWTR\", \"WMT\"], \"y\": [6917.328747215005, 4555.786405275623, 4117.680232916385, 6018.193382352116, 3092.6463492647663, 3668.5472432233737, 3103.075453897217, 5578.1300629802245]}, {\"name\": \"Ticker Total Return %\", \"type\": \"scatter\", \"x\": [\"AAPL\", \"FB\", \"JNJ\", \"MCD\", \"MTCH\", \"NFLX\", \"TWTR\", \"WMT\"], \"y\": [1.6684654305834288, 2.4739309026170115, 0.5363417032728555, 0.7620016201929087, 2.127612913695662, 2.0488455748450582, -0.028312301426028252, 0.240119208004953], \"yaxis\": \"y2\"}],\n                        {\"barmode\": \"group\", \"legend\": {\"x\": 0.75, \"y\": 1}, \"template\": {\"data\": {\"bar\": [{\"error_x\": {\"color\": \"#2a3f5f\"}, \"error_y\": {\"color\": \"#2a3f5f\"}, \"marker\": {\"line\": {\"color\": \"#E5ECF6\", \"width\": 0.5}}, \"type\": \"bar\"}], \"barpolar\": [{\"marker\": {\"line\": {\"color\": \"#E5ECF6\", \"width\": 0.5}}, \"type\": \"barpolar\"}], \"carpet\": [{\"aaxis\": {\"endlinecolor\": \"#2a3f5f\", \"gridcolor\": \"white\", \"linecolor\": \"white\", \"minorgridcolor\": \"white\", \"startlinecolor\": \"#2a3f5f\"}, \"baxis\": {\"endlinecolor\": \"#2a3f5f\", \"gridcolor\": \"white\", \"linecolor\": \"white\", \"minorgridcolor\": \"white\", \"startlinecolor\": \"#2a3f5f\"}, \"type\": \"carpet\"}], \"choropleth\": [{\"colorbar\": {\"outlinewidth\": 0, \"ticks\": \"\"}, \"type\": \"choropleth\"}], \"contour\": [{\"colorbar\": {\"outlinewidth\": 0, \"ticks\": \"\"}, \"colorscale\": [[0.0, \"#0d0887\"], [0.1111111111111111, \"#46039f\"], [0.2222222222222222, \"#7201a8\"], [0.3333333333333333, \"#9c179e\"], [0.4444444444444444, \"#bd3786\"], [0.5555555555555556, \"#d8576b\"], [0.6666666666666666, \"#ed7953\"], [0.7777777777777778, \"#fb9f3a\"], [0.8888888888888888, \"#fdca26\"], [1.0, \"#f0f921\"]], \"type\": \"contour\"}], \"contourcarpet\": [{\"colorbar\": {\"outlinewidth\": 0, \"ticks\": \"\"}, \"type\": \"contourcarpet\"}], \"heatmap\": [{\"colorbar\": {\"outlinewidth\": 0, \"ticks\": \"\"}, \"colorscale\": [[0.0, \"#0d0887\"], [0.1111111111111111, \"#46039f\"], [0.2222222222222222, \"#7201a8\"], [0.3333333333333333, \"#9c179e\"], [0.4444444444444444, \"#bd3786\"], [0.5555555555555556, \"#d8576b\"], [0.6666666666666666, \"#ed7953\"], [0.7777777777777778, \"#fb9f3a\"], [0.8888888888888888, \"#fdca26\"], [1.0, \"#f0f921\"]], \"type\": \"heatmap\"}], \"heatmapgl\": [{\"colorbar\": {\"outlinewidth\": 0, \"ticks\": \"\"}, \"colorscale\": [[0.0, \"#0d0887\"], [0.1111111111111111, \"#46039f\"], [0.2222222222222222, \"#7201a8\"], [0.3333333333333333, \"#9c179e\"], [0.4444444444444444, \"#bd3786\"], [0.5555555555555556, \"#d8576b\"], [0.6666666666666666, \"#ed7953\"], [0.7777777777777778, \"#fb9f3a\"], [0.8888888888888888, \"#fdca26\"], [1.0, \"#f0f921\"]], \"type\": \"heatmapgl\"}], \"histogram\": [{\"marker\": {\"colorbar\": {\"outlinewidth\": 0, \"ticks\": \"\"}}, \"type\": \"histogram\"}], \"histogram2d\": [{\"colorbar\": {\"outlinewidth\": 0, \"ticks\": \"\"}, \"colorscale\": [[0.0, \"#0d0887\"], [0.1111111111111111, \"#46039f\"], [0.2222222222222222, \"#7201a8\"], [0.3333333333333333, \"#9c179e\"], [0.4444444444444444, \"#bd3786\"], [0.5555555555555556, \"#d8576b\"], [0.6666666666666666, \"#ed7953\"], [0.7777777777777778, \"#fb9f3a\"], [0.8888888888888888, \"#fdca26\"], [1.0, \"#f0f921\"]], \"type\": \"histogram2d\"}], \"histogram2dcontour\": [{\"colorbar\": {\"outlinewidth\": 0, \"ticks\": \"\"}, \"colorscale\": [[0.0, \"#0d0887\"], [0.1111111111111111, \"#46039f\"], [0.2222222222222222, \"#7201a8\"], [0.3333333333333333, \"#9c179e\"], [0.4444444444444444, \"#bd3786\"], [0.5555555555555556, \"#d8576b\"], [0.6666666666666666, \"#ed7953\"], [0.7777777777777778, \"#fb9f3a\"], [0.8888888888888888, \"#fdca26\"], [1.0, \"#f0f921\"]], \"type\": \"histogram2dcontour\"}], \"mesh3d\": [{\"colorbar\": {\"outlinewidth\": 0, \"ticks\": \"\"}, \"type\": \"mesh3d\"}], \"parcoords\": [{\"line\": {\"colorbar\": {\"outlinewidth\": 0, \"ticks\": \"\"}}, \"type\": \"parcoords\"}], \"pie\": [{\"automargin\": true, \"type\": \"pie\"}], \"scatter\": [{\"marker\": {\"colorbar\": {\"outlinewidth\": 0, \"ticks\": \"\"}}, \"type\": \"scatter\"}], \"scatter3d\": [{\"line\": {\"colorbar\": {\"outlinewidth\": 0, \"ticks\": \"\"}}, \"marker\": {\"colorbar\": {\"outlinewidth\": 0, \"ticks\": \"\"}}, \"type\": \"scatter3d\"}], \"scattercarpet\": [{\"marker\": {\"colorbar\": {\"outlinewidth\": 0, \"ticks\": \"\"}}, \"type\": \"scattercarpet\"}], \"scattergeo\": [{\"marker\": {\"colorbar\": {\"outlinewidth\": 0, \"ticks\": \"\"}}, \"type\": \"scattergeo\"}], \"scattergl\": [{\"marker\": {\"colorbar\": {\"outlinewidth\": 0, \"ticks\": \"\"}}, \"type\": \"scattergl\"}], \"scattermapbox\": [{\"marker\": {\"colorbar\": {\"outlinewidth\": 0, \"ticks\": \"\"}}, \"type\": \"scattermapbox\"}], \"scatterpolar\": [{\"marker\": {\"colorbar\": {\"outlinewidth\": 0, \"ticks\": \"\"}}, \"type\": \"scatterpolar\"}], \"scatterpolargl\": [{\"marker\": {\"colorbar\": {\"outlinewidth\": 0, \"ticks\": \"\"}}, \"type\": \"scatterpolargl\"}], \"scatterternary\": [{\"marker\": {\"colorbar\": {\"outlinewidth\": 0, \"ticks\": \"\"}}, \"type\": \"scatterternary\"}], \"surface\": [{\"colorbar\": {\"outlinewidth\": 0, \"ticks\": \"\"}, \"colorscale\": [[0.0, \"#0d0887\"], [0.1111111111111111, \"#46039f\"], [0.2222222222222222, \"#7201a8\"], [0.3333333333333333, \"#9c179e\"], [0.4444444444444444, \"#bd3786\"], [0.5555555555555556, \"#d8576b\"], [0.6666666666666666, \"#ed7953\"], [0.7777777777777778, \"#fb9f3a\"], [0.8888888888888888, \"#fdca26\"], [1.0, \"#f0f921\"]], \"type\": \"surface\"}], \"table\": [{\"cells\": {\"fill\": {\"color\": \"#EBF0F8\"}, \"line\": {\"color\": \"white\"}}, \"header\": {\"fill\": {\"color\": \"#C8D4E3\"}, \"line\": {\"color\": \"white\"}}, \"type\": \"table\"}]}, \"layout\": {\"annotationdefaults\": {\"arrowcolor\": \"#2a3f5f\", \"arrowhead\": 0, \"arrowwidth\": 1}, \"coloraxis\": {\"colorbar\": {\"outlinewidth\": 0, \"ticks\": \"\"}}, \"colorscale\": {\"diverging\": [[0, \"#8e0152\"], [0.1, \"#c51b7d\"], [0.2, \"#de77ae\"], [0.3, \"#f1b6da\"], [0.4, \"#fde0ef\"], [0.5, \"#f7f7f7\"], [0.6, \"#e6f5d0\"], [0.7, \"#b8e186\"], [0.8, \"#7fbc41\"], [0.9, \"#4d9221\"], [1, \"#276419\"]], \"sequential\": [[0.0, \"#0d0887\"], [0.1111111111111111, \"#46039f\"], [0.2222222222222222, \"#7201a8\"], [0.3333333333333333, \"#9c179e\"], [0.4444444444444444, \"#bd3786\"], [0.5555555555555556, \"#d8576b\"], [0.6666666666666666, \"#ed7953\"], [0.7777777777777778, \"#fb9f3a\"], [0.8888888888888888, \"#fdca26\"], [1.0, \"#f0f921\"]], \"sequentialminus\": [[0.0, \"#0d0887\"], [0.1111111111111111, \"#46039f\"], [0.2222222222222222, \"#7201a8\"], [0.3333333333333333, \"#9c179e\"], [0.4444444444444444, \"#bd3786\"], [0.5555555555555556, \"#d8576b\"], [0.6666666666666666, \"#ed7953\"], [0.7777777777777778, \"#fb9f3a\"], [0.8888888888888888, \"#fdca26\"], [1.0, \"#f0f921\"]]}, \"colorway\": [\"#636efa\", \"#EF553B\", \"#00cc96\", \"#ab63fa\", \"#FFA15A\", \"#19d3f3\", \"#FF6692\", \"#B6E880\", \"#FF97FF\", \"#FECB52\"], \"font\": {\"color\": \"#2a3f5f\"}, \"geo\": {\"bgcolor\": \"white\", \"lakecolor\": \"white\", \"landcolor\": \"#E5ECF6\", \"showlakes\": true, \"showland\": true, \"subunitcolor\": \"white\"}, \"hoverlabel\": {\"align\": \"left\"}, \"hovermode\": \"closest\", \"mapbox\": {\"style\": \"light\"}, \"paper_bgcolor\": \"white\", \"plot_bgcolor\": \"#E5ECF6\", \"polar\": {\"angularaxis\": {\"gridcolor\": \"white\", \"linecolor\": \"white\", \"ticks\": \"\"}, \"bgcolor\": \"#E5ECF6\", \"radialaxis\": {\"gridcolor\": \"white\", \"linecolor\": \"white\", \"ticks\": \"\"}}, \"scene\": {\"xaxis\": {\"backgroundcolor\": \"#E5ECF6\", \"gridcolor\": \"white\", \"gridwidth\": 2, \"linecolor\": \"white\", \"showbackground\": true, \"ticks\": \"\", \"zerolinecolor\": \"white\"}, \"yaxis\": {\"backgroundcolor\": \"#E5ECF6\", \"gridcolor\": \"white\", \"gridwidth\": 2, \"linecolor\": \"white\", \"showbackground\": true, \"ticks\": \"\", \"zerolinecolor\": \"white\"}, \"zaxis\": {\"backgroundcolor\": \"#E5ECF6\", \"gridcolor\": \"white\", \"gridwidth\": 2, \"linecolor\": \"white\", \"showbackground\": true, \"ticks\": \"\", \"zerolinecolor\": \"white\"}}, \"shapedefaults\": {\"line\": {\"color\": \"#2a3f5f\"}}, \"ternary\": {\"aaxis\": {\"gridcolor\": \"white\", \"linecolor\": \"white\", \"ticks\": \"\"}, \"baxis\": {\"gridcolor\": \"white\", \"linecolor\": \"white\", \"ticks\": \"\"}, \"bgcolor\": \"#E5ECF6\", \"caxis\": {\"gridcolor\": \"white\", \"linecolor\": \"white\", \"ticks\": \"\"}}, \"title\": {\"x\": 0.05}, \"xaxis\": {\"automargin\": true, \"gridcolor\": \"white\", \"linecolor\": \"white\", \"ticks\": \"\", \"title\": {\"standoff\": 15}, \"zerolinecolor\": \"white\", \"zerolinewidth\": 2}, \"yaxis\": {\"automargin\": true, \"gridcolor\": \"white\", \"linecolor\": \"white\", \"ticks\": \"\", \"title\": {\"standoff\": 15}, \"zerolinecolor\": \"white\", \"zerolinewidth\": 2}}}, \"title\": {\"text\": \"Gain / (Loss) Total Return vs S&P 500\"}, \"xaxis\": {\"title\": {\"text\": \"Ticker\"}}, \"yaxis\": {\"title\": {\"text\": \"Gain / (Loss) ($)\"}}, \"yaxis2\": {\"overlaying\": \"y\", \"side\": \"right\", \"tickformat\": \".2%\", \"title\": {\"text\": \"Ticker Return\"}}},\n                        {\"responsive\": true}\n                    ).then(function(){\n                            \nvar gd = document.getElementById('c980ce6d-df07-4d11-853b-29d23c227721');\nvar x = new MutationObserver(function (mutations, observer) {{\n        var display = window.getComputedStyle(gd).display;\n        if (!display || display === 'none') {{\n            console.log([gd, 'removed!']);\n            Plotly.purge(gd);\n            observer.disconnect();\n        }}\n}});\n\n// Listen for the removal of the full notebook cells\nvar notebookContainer = gd.closest('#notebook-container');\nif (notebookContainer) {{\n    x.observe(notebookContainer, {childList: true});\n}}\n\n// Listen for the clearing of the current output cell\nvar outputEl = gd.closest('.output');\nif (outputEl) {{\n    x.observe(outputEl, {childList: true});\n}}\n\n                        })\n                };\n                });\n            </script>\n        </div>"
     },
     "metadata": {}
    }
   ],
   "source": [
    "\n",
    "trace1 = go.Bar(\n",
    "    x = merged_portfolio_sp_latest_YTD_sp_closing_high['Ticker'][0:10],\n",
    "    y = merged_portfolio_sp_latest_YTD_sp_closing_high['Stock Gain / (Loss)'][0:10],\n",
    "    name = 'Ticker Total Return ($)')\n",
    "\n",
    "trace2 = go.Bar(\n",
    "    x = merged_portfolio_sp_latest_YTD_sp_closing_high['Ticker'][0:10],\n",
    "    y = merged_portfolio_sp_latest_YTD_sp_closing_high['SP 500 Gain / (Loss)'][0:10],\n",
    "    name = 'SP 500 Total Return ($)')\n",
    "\n",
    "trace3 = go.Scatter(\n",
    "    x = merged_portfolio_sp_latest_YTD_sp_closing_high['Ticker'][0:10],\n",
    "    y = merged_portfolio_sp_latest_YTD_sp_closing_high['ticker return'][0:10],\n",
    "    name = 'Ticker Total Return %',\n",
    "    yaxis='y2')\n",
    "\n",
    "data = [trace1, trace2, trace3]\n",
    "\n",
    "layout = go.Layout(title = 'Gain / (Loss) Total Return vs S&P 500'\n",
    "    , barmode = 'group'\n",
    "    , yaxis=dict(title='Gain / (Loss) ($)')\n",
    "    , yaxis2=dict(title='Ticker Return', overlaying='y', side='right', tickformat=\".2%\")\n",
    "    , xaxis=dict(title='Ticker')\n",
    "    , legend=dict(x=.75,y=1)\n",
    "    )\n",
    "\n",
    "fig = go.Figure(data=data, layout=layout)\n",
    "iplot(fig)"
   ]
  },
  {
   "cell_type": "code",
   "execution_count": 83,
   "metadata": {},
   "outputs": [
    {
     "output_type": "display_data",
     "data": {
      "application/vnd.plotly.v1+json": {
       "config": {
        "linkText": "Export to plot.ly",
        "plotlyServerURL": "https://plot.ly",
        "showLink": false
       },
       "data": [
        {
         "name": "Cum Invst",
         "type": "bar",
         "x": [
          "AAPL",
          "FB",
          "JNJ",
          "MCD",
          "MTCH",
          "NFLX",
          "TWTR",
          "WMT"
         ],
         "y": [
          8175.000000000001,
          16173,
          24363,
          32862,
          41040,
          49193.25,
          57378.75,
          65916.25
         ]
        },
        {
         "name": "Cum SP500 Returns",
         "type": "bar",
         "x": [
          "AAPL",
          "FB",
          "JNJ",
          "MCD",
          "MTCH",
          "NFLX",
          "TWTR",
          "WMT"
         ],
         "y": [
          15092.328747215006,
          27646.11515249063,
          39953.795385407015,
          54470.98876775913,
          65741.63511702389,
          77563.43236024727,
          88852.00781414448,
          102967.63787712471
         ]
        },
        {
         "name": "Cum Ticker Returns",
         "type": "bar",
         "x": [
          "AAPL",
          "FB",
          "JNJ",
          "MCD",
          "MTCH",
          "NFLX",
          "TWTR",
          "WMT"
         ],
         "y": [
          21814.70489501953,
          49599.20425415039,
          62181.84280395508,
          77157.09457397461,
          102734.71298217773,
          127592.7131652832,
          135546.46282196045,
          146133.98056030273
         ]
        },
        {
         "name": "Cum ROI Mult",
         "type": "scatter",
         "x": [
          "AAPL",
          "FB",
          "JNJ",
          "MCD",
          "MTCH",
          "NFLX",
          "TWTR",
          "WMT"
         ],
         "y": [
          2.6684654305834288,
          3.0667905926018912,
          2.5523064813017724,
          2.3479123173870917,
          2.503282480072557,
          2.5937036720542594,
          2.362311183529799,
          2.216964414090649
         ],
         "yaxis": "y2"
        }
       ],
       "layout": {
        "barmode": "group",
        "legend": {
         "x": 0.4,
         "y": 1
        },
        "template": {
         "data": {
          "bar": [
           {
            "error_x": {
             "color": "#2a3f5f"
            },
            "error_y": {
             "color": "#2a3f5f"
            },
            "marker": {
             "line": {
              "color": "#E5ECF6",
              "width": 0.5
             }
            },
            "type": "bar"
           }
          ],
          "barpolar": [
           {
            "marker": {
             "line": {
              "color": "#E5ECF6",
              "width": 0.5
             }
            },
            "type": "barpolar"
           }
          ],
          "carpet": [
           {
            "aaxis": {
             "endlinecolor": "#2a3f5f",
             "gridcolor": "white",
             "linecolor": "white",
             "minorgridcolor": "white",
             "startlinecolor": "#2a3f5f"
            },
            "baxis": {
             "endlinecolor": "#2a3f5f",
             "gridcolor": "white",
             "linecolor": "white",
             "minorgridcolor": "white",
             "startlinecolor": "#2a3f5f"
            },
            "type": "carpet"
           }
          ],
          "choropleth": [
           {
            "colorbar": {
             "outlinewidth": 0,
             "ticks": ""
            },
            "type": "choropleth"
           }
          ],
          "contour": [
           {
            "colorbar": {
             "outlinewidth": 0,
             "ticks": ""
            },
            "colorscale": [
             [
              0,
              "#0d0887"
             ],
             [
              0.1111111111111111,
              "#46039f"
             ],
             [
              0.2222222222222222,
              "#7201a8"
             ],
             [
              0.3333333333333333,
              "#9c179e"
             ],
             [
              0.4444444444444444,
              "#bd3786"
             ],
             [
              0.5555555555555556,
              "#d8576b"
             ],
             [
              0.6666666666666666,
              "#ed7953"
             ],
             [
              0.7777777777777778,
              "#fb9f3a"
             ],
             [
              0.8888888888888888,
              "#fdca26"
             ],
             [
              1,
              "#f0f921"
             ]
            ],
            "type": "contour"
           }
          ],
          "contourcarpet": [
           {
            "colorbar": {
             "outlinewidth": 0,
             "ticks": ""
            },
            "type": "contourcarpet"
           }
          ],
          "heatmap": [
           {
            "colorbar": {
             "outlinewidth": 0,
             "ticks": ""
            },
            "colorscale": [
             [
              0,
              "#0d0887"
             ],
             [
              0.1111111111111111,
              "#46039f"
             ],
             [
              0.2222222222222222,
              "#7201a8"
             ],
             [
              0.3333333333333333,
              "#9c179e"
             ],
             [
              0.4444444444444444,
              "#bd3786"
             ],
             [
              0.5555555555555556,
              "#d8576b"
             ],
             [
              0.6666666666666666,
              "#ed7953"
             ],
             [
              0.7777777777777778,
              "#fb9f3a"
             ],
             [
              0.8888888888888888,
              "#fdca26"
             ],
             [
              1,
              "#f0f921"
             ]
            ],
            "type": "heatmap"
           }
          ],
          "heatmapgl": [
           {
            "colorbar": {
             "outlinewidth": 0,
             "ticks": ""
            },
            "colorscale": [
             [
              0,
              "#0d0887"
             ],
             [
              0.1111111111111111,
              "#46039f"
             ],
             [
              0.2222222222222222,
              "#7201a8"
             ],
             [
              0.3333333333333333,
              "#9c179e"
             ],
             [
              0.4444444444444444,
              "#bd3786"
             ],
             [
              0.5555555555555556,
              "#d8576b"
             ],
             [
              0.6666666666666666,
              "#ed7953"
             ],
             [
              0.7777777777777778,
              "#fb9f3a"
             ],
             [
              0.8888888888888888,
              "#fdca26"
             ],
             [
              1,
              "#f0f921"
             ]
            ],
            "type": "heatmapgl"
           }
          ],
          "histogram": [
           {
            "marker": {
             "colorbar": {
              "outlinewidth": 0,
              "ticks": ""
             }
            },
            "type": "histogram"
           }
          ],
          "histogram2d": [
           {
            "colorbar": {
             "outlinewidth": 0,
             "ticks": ""
            },
            "colorscale": [
             [
              0,
              "#0d0887"
             ],
             [
              0.1111111111111111,
              "#46039f"
             ],
             [
              0.2222222222222222,
              "#7201a8"
             ],
             [
              0.3333333333333333,
              "#9c179e"
             ],
             [
              0.4444444444444444,
              "#bd3786"
             ],
             [
              0.5555555555555556,
              "#d8576b"
             ],
             [
              0.6666666666666666,
              "#ed7953"
             ],
             [
              0.7777777777777778,
              "#fb9f3a"
             ],
             [
              0.8888888888888888,
              "#fdca26"
             ],
             [
              1,
              "#f0f921"
             ]
            ],
            "type": "histogram2d"
           }
          ],
          "histogram2dcontour": [
           {
            "colorbar": {
             "outlinewidth": 0,
             "ticks": ""
            },
            "colorscale": [
             [
              0,
              "#0d0887"
             ],
             [
              0.1111111111111111,
              "#46039f"
             ],
             [
              0.2222222222222222,
              "#7201a8"
             ],
             [
              0.3333333333333333,
              "#9c179e"
             ],
             [
              0.4444444444444444,
              "#bd3786"
             ],
             [
              0.5555555555555556,
              "#d8576b"
             ],
             [
              0.6666666666666666,
              "#ed7953"
             ],
             [
              0.7777777777777778,
              "#fb9f3a"
             ],
             [
              0.8888888888888888,
              "#fdca26"
             ],
             [
              1,
              "#f0f921"
             ]
            ],
            "type": "histogram2dcontour"
           }
          ],
          "mesh3d": [
           {
            "colorbar": {
             "outlinewidth": 0,
             "ticks": ""
            },
            "type": "mesh3d"
           }
          ],
          "parcoords": [
           {
            "line": {
             "colorbar": {
              "outlinewidth": 0,
              "ticks": ""
             }
            },
            "type": "parcoords"
           }
          ],
          "pie": [
           {
            "automargin": true,
            "type": "pie"
           }
          ],
          "scatter": [
           {
            "marker": {
             "colorbar": {
              "outlinewidth": 0,
              "ticks": ""
             }
            },
            "type": "scatter"
           }
          ],
          "scatter3d": [
           {
            "line": {
             "colorbar": {
              "outlinewidth": 0,
              "ticks": ""
             }
            },
            "marker": {
             "colorbar": {
              "outlinewidth": 0,
              "ticks": ""
             }
            },
            "type": "scatter3d"
           }
          ],
          "scattercarpet": [
           {
            "marker": {
             "colorbar": {
              "outlinewidth": 0,
              "ticks": ""
             }
            },
            "type": "scattercarpet"
           }
          ],
          "scattergeo": [
           {
            "marker": {
             "colorbar": {
              "outlinewidth": 0,
              "ticks": ""
             }
            },
            "type": "scattergeo"
           }
          ],
          "scattergl": [
           {
            "marker": {
             "colorbar": {
              "outlinewidth": 0,
              "ticks": ""
             }
            },
            "type": "scattergl"
           }
          ],
          "scattermapbox": [
           {
            "marker": {
             "colorbar": {
              "outlinewidth": 0,
              "ticks": ""
             }
            },
            "type": "scattermapbox"
           }
          ],
          "scatterpolar": [
           {
            "marker": {
             "colorbar": {
              "outlinewidth": 0,
              "ticks": ""
             }
            },
            "type": "scatterpolar"
           }
          ],
          "scatterpolargl": [
           {
            "marker": {
             "colorbar": {
              "outlinewidth": 0,
              "ticks": ""
             }
            },
            "type": "scatterpolargl"
           }
          ],
          "scatterternary": [
           {
            "marker": {
             "colorbar": {
              "outlinewidth": 0,
              "ticks": ""
             }
            },
            "type": "scatterternary"
           }
          ],
          "surface": [
           {
            "colorbar": {
             "outlinewidth": 0,
             "ticks": ""
            },
            "colorscale": [
             [
              0,
              "#0d0887"
             ],
             [
              0.1111111111111111,
              "#46039f"
             ],
             [
              0.2222222222222222,
              "#7201a8"
             ],
             [
              0.3333333333333333,
              "#9c179e"
             ],
             [
              0.4444444444444444,
              "#bd3786"
             ],
             [
              0.5555555555555556,
              "#d8576b"
             ],
             [
              0.6666666666666666,
              "#ed7953"
             ],
             [
              0.7777777777777778,
              "#fb9f3a"
             ],
             [
              0.8888888888888888,
              "#fdca26"
             ],
             [
              1,
              "#f0f921"
             ]
            ],
            "type": "surface"
           }
          ],
          "table": [
           {
            "cells": {
             "fill": {
              "color": "#EBF0F8"
             },
             "line": {
              "color": "white"
             }
            },
            "header": {
             "fill": {
              "color": "#C8D4E3"
             },
             "line": {
              "color": "white"
             }
            },
            "type": "table"
           }
          ]
         },
         "layout": {
          "annotationdefaults": {
           "arrowcolor": "#2a3f5f",
           "arrowhead": 0,
           "arrowwidth": 1
          },
          "coloraxis": {
           "colorbar": {
            "outlinewidth": 0,
            "ticks": ""
           }
          },
          "colorscale": {
           "diverging": [
            [
             0,
             "#8e0152"
            ],
            [
             0.1,
             "#c51b7d"
            ],
            [
             0.2,
             "#de77ae"
            ],
            [
             0.3,
             "#f1b6da"
            ],
            [
             0.4,
             "#fde0ef"
            ],
            [
             0.5,
             "#f7f7f7"
            ],
            [
             0.6,
             "#e6f5d0"
            ],
            [
             0.7,
             "#b8e186"
            ],
            [
             0.8,
             "#7fbc41"
            ],
            [
             0.9,
             "#4d9221"
            ],
            [
             1,
             "#276419"
            ]
           ],
           "sequential": [
            [
             0,
             "#0d0887"
            ],
            [
             0.1111111111111111,
             "#46039f"
            ],
            [
             0.2222222222222222,
             "#7201a8"
            ],
            [
             0.3333333333333333,
             "#9c179e"
            ],
            [
             0.4444444444444444,
             "#bd3786"
            ],
            [
             0.5555555555555556,
             "#d8576b"
            ],
            [
             0.6666666666666666,
             "#ed7953"
            ],
            [
             0.7777777777777778,
             "#fb9f3a"
            ],
            [
             0.8888888888888888,
             "#fdca26"
            ],
            [
             1,
             "#f0f921"
            ]
           ],
           "sequentialminus": [
            [
             0,
             "#0d0887"
            ],
            [
             0.1111111111111111,
             "#46039f"
            ],
            [
             0.2222222222222222,
             "#7201a8"
            ],
            [
             0.3333333333333333,
             "#9c179e"
            ],
            [
             0.4444444444444444,
             "#bd3786"
            ],
            [
             0.5555555555555556,
             "#d8576b"
            ],
            [
             0.6666666666666666,
             "#ed7953"
            ],
            [
             0.7777777777777778,
             "#fb9f3a"
            ],
            [
             0.8888888888888888,
             "#fdca26"
            ],
            [
             1,
             "#f0f921"
            ]
           ]
          },
          "colorway": [
           "#636efa",
           "#EF553B",
           "#00cc96",
           "#ab63fa",
           "#FFA15A",
           "#19d3f3",
           "#FF6692",
           "#B6E880",
           "#FF97FF",
           "#FECB52"
          ],
          "font": {
           "color": "#2a3f5f"
          },
          "geo": {
           "bgcolor": "white",
           "lakecolor": "white",
           "landcolor": "#E5ECF6",
           "showlakes": true,
           "showland": true,
           "subunitcolor": "white"
          },
          "hoverlabel": {
           "align": "left"
          },
          "hovermode": "closest",
          "mapbox": {
           "style": "light"
          },
          "paper_bgcolor": "white",
          "plot_bgcolor": "#E5ECF6",
          "polar": {
           "angularaxis": {
            "gridcolor": "white",
            "linecolor": "white",
            "ticks": ""
           },
           "bgcolor": "#E5ECF6",
           "radialaxis": {
            "gridcolor": "white",
            "linecolor": "white",
            "ticks": ""
           }
          },
          "scene": {
           "xaxis": {
            "backgroundcolor": "#E5ECF6",
            "gridcolor": "white",
            "gridwidth": 2,
            "linecolor": "white",
            "showbackground": true,
            "ticks": "",
            "zerolinecolor": "white"
           },
           "yaxis": {
            "backgroundcolor": "#E5ECF6",
            "gridcolor": "white",
            "gridwidth": 2,
            "linecolor": "white",
            "showbackground": true,
            "ticks": "",
            "zerolinecolor": "white"
           },
           "zaxis": {
            "backgroundcolor": "#E5ECF6",
            "gridcolor": "white",
            "gridwidth": 2,
            "linecolor": "white",
            "showbackground": true,
            "ticks": "",
            "zerolinecolor": "white"
           }
          },
          "shapedefaults": {
           "line": {
            "color": "#2a3f5f"
           }
          },
          "ternary": {
           "aaxis": {
            "gridcolor": "white",
            "linecolor": "white",
            "ticks": ""
           },
           "baxis": {
            "gridcolor": "white",
            "linecolor": "white",
            "ticks": ""
           },
           "bgcolor": "#E5ECF6",
           "caxis": {
            "gridcolor": "white",
            "linecolor": "white",
            "ticks": ""
           }
          },
          "title": {
           "x": 0.05
          },
          "xaxis": {
           "automargin": true,
           "gridcolor": "white",
           "linecolor": "white",
           "ticks": "",
           "title": {
            "standoff": 15
           },
           "zerolinecolor": "white",
           "zerolinewidth": 2
          },
          "yaxis": {
           "automargin": true,
           "gridcolor": "white",
           "linecolor": "white",
           "ticks": "",
           "title": {
            "standoff": 15
           },
           "zerolinecolor": "white",
           "zerolinewidth": 2
          }
         }
        },
        "title": {
         "text": "Total Cumulative Investments Over Time"
        },
        "xaxis": {
         "title": {
          "text": "Ticker"
         }
        },
        "yaxis": {
         "title": {
          "text": "Returns"
         }
        },
        "yaxis2": {
         "overlaying": "y",
         "side": "right",
         "title": {
          "text": "Cum ROI Mult"
         }
        }
       }
      },
      "text/html": "<div>\n        \n        \n            <div id=\"fa704e1c-2a11-4eb1-90bd-9e6597802f49\" class=\"plotly-graph-div\" style=\"height:525px; width:100%;\"></div>\n            <script type=\"text/javascript\">\n                require([\"plotly\"], function(Plotly) {\n                    window.PLOTLYENV=window.PLOTLYENV || {};\n                    \n                if (document.getElementById(\"fa704e1c-2a11-4eb1-90bd-9e6597802f49\")) {\n                    Plotly.newPlot(\n                        'fa704e1c-2a11-4eb1-90bd-9e6597802f49',\n                        [{\"name\": \"Cum Invst\", \"type\": \"bar\", \"x\": [\"AAPL\", \"FB\", \"JNJ\", \"MCD\", \"MTCH\", \"NFLX\", \"TWTR\", \"WMT\"], \"y\": [8175.000000000001, 16173.0, 24363.0, 32862.0, 41040.0, 49193.25, 57378.75, 65916.25]}, {\"name\": \"Cum SP500 Returns\", \"type\": \"bar\", \"x\": [\"AAPL\", \"FB\", \"JNJ\", \"MCD\", \"MTCH\", \"NFLX\", \"TWTR\", \"WMT\"], \"y\": [15092.328747215006, 27646.11515249063, 39953.795385407015, 54470.98876775913, 65741.63511702389, 77563.43236024727, 88852.00781414448, 102967.63787712471]}, {\"name\": \"Cum Ticker Returns\", \"type\": \"bar\", \"x\": [\"AAPL\", \"FB\", \"JNJ\", \"MCD\", \"MTCH\", \"NFLX\", \"TWTR\", \"WMT\"], \"y\": [21814.70489501953, 49599.20425415039, 62181.84280395508, 77157.09457397461, 102734.71298217773, 127592.7131652832, 135546.46282196045, 146133.98056030273]}, {\"name\": \"Cum ROI Mult\", \"type\": \"scatter\", \"x\": [\"AAPL\", \"FB\", \"JNJ\", \"MCD\", \"MTCH\", \"NFLX\", \"TWTR\", \"WMT\"], \"y\": [2.6684654305834288, 3.0667905926018912, 2.5523064813017724, 2.3479123173870917, 2.503282480072557, 2.5937036720542594, 2.362311183529799, 2.216964414090649], \"yaxis\": \"y2\"}],\n                        {\"barmode\": \"group\", \"legend\": {\"x\": 0.4, \"y\": 1}, \"template\": {\"data\": {\"bar\": [{\"error_x\": {\"color\": \"#2a3f5f\"}, \"error_y\": {\"color\": \"#2a3f5f\"}, \"marker\": {\"line\": {\"color\": \"#E5ECF6\", \"width\": 0.5}}, \"type\": \"bar\"}], \"barpolar\": [{\"marker\": {\"line\": {\"color\": \"#E5ECF6\", \"width\": 0.5}}, \"type\": \"barpolar\"}], \"carpet\": [{\"aaxis\": {\"endlinecolor\": \"#2a3f5f\", \"gridcolor\": \"white\", \"linecolor\": \"white\", \"minorgridcolor\": \"white\", \"startlinecolor\": \"#2a3f5f\"}, \"baxis\": {\"endlinecolor\": \"#2a3f5f\", \"gridcolor\": \"white\", \"linecolor\": \"white\", \"minorgridcolor\": \"white\", \"startlinecolor\": \"#2a3f5f\"}, \"type\": \"carpet\"}], \"choropleth\": [{\"colorbar\": {\"outlinewidth\": 0, \"ticks\": \"\"}, \"type\": \"choropleth\"}], \"contour\": [{\"colorbar\": {\"outlinewidth\": 0, \"ticks\": \"\"}, \"colorscale\": [[0.0, \"#0d0887\"], [0.1111111111111111, \"#46039f\"], [0.2222222222222222, \"#7201a8\"], [0.3333333333333333, \"#9c179e\"], [0.4444444444444444, \"#bd3786\"], [0.5555555555555556, \"#d8576b\"], [0.6666666666666666, \"#ed7953\"], [0.7777777777777778, \"#fb9f3a\"], [0.8888888888888888, \"#fdca26\"], [1.0, \"#f0f921\"]], \"type\": \"contour\"}], \"contourcarpet\": [{\"colorbar\": {\"outlinewidth\": 0, \"ticks\": \"\"}, \"type\": \"contourcarpet\"}], \"heatmap\": [{\"colorbar\": {\"outlinewidth\": 0, \"ticks\": \"\"}, \"colorscale\": [[0.0, \"#0d0887\"], [0.1111111111111111, \"#46039f\"], [0.2222222222222222, \"#7201a8\"], [0.3333333333333333, \"#9c179e\"], [0.4444444444444444, \"#bd3786\"], [0.5555555555555556, \"#d8576b\"], [0.6666666666666666, \"#ed7953\"], [0.7777777777777778, \"#fb9f3a\"], [0.8888888888888888, \"#fdca26\"], [1.0, \"#f0f921\"]], \"type\": \"heatmap\"}], \"heatmapgl\": [{\"colorbar\": {\"outlinewidth\": 0, \"ticks\": \"\"}, \"colorscale\": [[0.0, \"#0d0887\"], [0.1111111111111111, \"#46039f\"], [0.2222222222222222, \"#7201a8\"], [0.3333333333333333, \"#9c179e\"], [0.4444444444444444, \"#bd3786\"], [0.5555555555555556, \"#d8576b\"], [0.6666666666666666, \"#ed7953\"], [0.7777777777777778, \"#fb9f3a\"], [0.8888888888888888, \"#fdca26\"], [1.0, \"#f0f921\"]], \"type\": \"heatmapgl\"}], \"histogram\": [{\"marker\": {\"colorbar\": {\"outlinewidth\": 0, \"ticks\": \"\"}}, \"type\": \"histogram\"}], \"histogram2d\": [{\"colorbar\": {\"outlinewidth\": 0, \"ticks\": \"\"}, \"colorscale\": [[0.0, \"#0d0887\"], [0.1111111111111111, \"#46039f\"], [0.2222222222222222, \"#7201a8\"], [0.3333333333333333, \"#9c179e\"], [0.4444444444444444, \"#bd3786\"], [0.5555555555555556, \"#d8576b\"], [0.6666666666666666, \"#ed7953\"], [0.7777777777777778, \"#fb9f3a\"], [0.8888888888888888, \"#fdca26\"], [1.0, \"#f0f921\"]], \"type\": \"histogram2d\"}], \"histogram2dcontour\": [{\"colorbar\": {\"outlinewidth\": 0, \"ticks\": \"\"}, \"colorscale\": [[0.0, \"#0d0887\"], [0.1111111111111111, \"#46039f\"], [0.2222222222222222, \"#7201a8\"], [0.3333333333333333, \"#9c179e\"], [0.4444444444444444, \"#bd3786\"], [0.5555555555555556, \"#d8576b\"], [0.6666666666666666, \"#ed7953\"], [0.7777777777777778, \"#fb9f3a\"], [0.8888888888888888, \"#fdca26\"], [1.0, \"#f0f921\"]], \"type\": \"histogram2dcontour\"}], \"mesh3d\": [{\"colorbar\": {\"outlinewidth\": 0, \"ticks\": \"\"}, \"type\": \"mesh3d\"}], \"parcoords\": [{\"line\": {\"colorbar\": {\"outlinewidth\": 0, \"ticks\": \"\"}}, \"type\": \"parcoords\"}], \"pie\": [{\"automargin\": true, \"type\": \"pie\"}], \"scatter\": [{\"marker\": {\"colorbar\": {\"outlinewidth\": 0, \"ticks\": \"\"}}, \"type\": \"scatter\"}], \"scatter3d\": [{\"line\": {\"colorbar\": {\"outlinewidth\": 0, \"ticks\": \"\"}}, \"marker\": {\"colorbar\": {\"outlinewidth\": 0, \"ticks\": \"\"}}, \"type\": \"scatter3d\"}], \"scattercarpet\": [{\"marker\": {\"colorbar\": {\"outlinewidth\": 0, \"ticks\": \"\"}}, \"type\": \"scattercarpet\"}], \"scattergeo\": [{\"marker\": {\"colorbar\": {\"outlinewidth\": 0, \"ticks\": \"\"}}, \"type\": \"scattergeo\"}], \"scattergl\": [{\"marker\": {\"colorbar\": {\"outlinewidth\": 0, \"ticks\": \"\"}}, \"type\": \"scattergl\"}], \"scattermapbox\": [{\"marker\": {\"colorbar\": {\"outlinewidth\": 0, \"ticks\": \"\"}}, \"type\": \"scattermapbox\"}], \"scatterpolar\": [{\"marker\": {\"colorbar\": {\"outlinewidth\": 0, \"ticks\": \"\"}}, \"type\": \"scatterpolar\"}], \"scatterpolargl\": [{\"marker\": {\"colorbar\": {\"outlinewidth\": 0, \"ticks\": \"\"}}, \"type\": \"scatterpolargl\"}], \"scatterternary\": [{\"marker\": {\"colorbar\": {\"outlinewidth\": 0, \"ticks\": \"\"}}, \"type\": \"scatterternary\"}], \"surface\": [{\"colorbar\": {\"outlinewidth\": 0, \"ticks\": \"\"}, \"colorscale\": [[0.0, \"#0d0887\"], [0.1111111111111111, \"#46039f\"], [0.2222222222222222, \"#7201a8\"], [0.3333333333333333, \"#9c179e\"], [0.4444444444444444, \"#bd3786\"], [0.5555555555555556, \"#d8576b\"], [0.6666666666666666, \"#ed7953\"], [0.7777777777777778, \"#fb9f3a\"], [0.8888888888888888, \"#fdca26\"], [1.0, \"#f0f921\"]], \"type\": \"surface\"}], \"table\": [{\"cells\": {\"fill\": {\"color\": \"#EBF0F8\"}, \"line\": {\"color\": \"white\"}}, \"header\": {\"fill\": {\"color\": \"#C8D4E3\"}, \"line\": {\"color\": \"white\"}}, \"type\": \"table\"}]}, \"layout\": {\"annotationdefaults\": {\"arrowcolor\": \"#2a3f5f\", \"arrowhead\": 0, \"arrowwidth\": 1}, \"coloraxis\": {\"colorbar\": {\"outlinewidth\": 0, \"ticks\": \"\"}}, \"colorscale\": {\"diverging\": [[0, \"#8e0152\"], [0.1, \"#c51b7d\"], [0.2, \"#de77ae\"], [0.3, \"#f1b6da\"], [0.4, \"#fde0ef\"], [0.5, \"#f7f7f7\"], [0.6, \"#e6f5d0\"], [0.7, \"#b8e186\"], [0.8, \"#7fbc41\"], [0.9, \"#4d9221\"], [1, \"#276419\"]], \"sequential\": [[0.0, \"#0d0887\"], [0.1111111111111111, \"#46039f\"], [0.2222222222222222, \"#7201a8\"], [0.3333333333333333, \"#9c179e\"], [0.4444444444444444, \"#bd3786\"], [0.5555555555555556, \"#d8576b\"], [0.6666666666666666, \"#ed7953\"], [0.7777777777777778, \"#fb9f3a\"], [0.8888888888888888, \"#fdca26\"], [1.0, \"#f0f921\"]], \"sequentialminus\": [[0.0, \"#0d0887\"], [0.1111111111111111, \"#46039f\"], [0.2222222222222222, \"#7201a8\"], [0.3333333333333333, \"#9c179e\"], [0.4444444444444444, \"#bd3786\"], [0.5555555555555556, \"#d8576b\"], [0.6666666666666666, \"#ed7953\"], [0.7777777777777778, \"#fb9f3a\"], [0.8888888888888888, \"#fdca26\"], [1.0, \"#f0f921\"]]}, \"colorway\": [\"#636efa\", \"#EF553B\", \"#00cc96\", \"#ab63fa\", \"#FFA15A\", \"#19d3f3\", \"#FF6692\", \"#B6E880\", \"#FF97FF\", \"#FECB52\"], \"font\": {\"color\": \"#2a3f5f\"}, \"geo\": {\"bgcolor\": \"white\", \"lakecolor\": \"white\", \"landcolor\": \"#E5ECF6\", \"showlakes\": true, \"showland\": true, \"subunitcolor\": \"white\"}, \"hoverlabel\": {\"align\": \"left\"}, \"hovermode\": \"closest\", \"mapbox\": {\"style\": \"light\"}, \"paper_bgcolor\": \"white\", \"plot_bgcolor\": \"#E5ECF6\", \"polar\": {\"angularaxis\": {\"gridcolor\": \"white\", \"linecolor\": \"white\", \"ticks\": \"\"}, \"bgcolor\": \"#E5ECF6\", \"radialaxis\": {\"gridcolor\": \"white\", \"linecolor\": \"white\", \"ticks\": \"\"}}, \"scene\": {\"xaxis\": {\"backgroundcolor\": \"#E5ECF6\", \"gridcolor\": \"white\", \"gridwidth\": 2, \"linecolor\": \"white\", \"showbackground\": true, \"ticks\": \"\", \"zerolinecolor\": \"white\"}, \"yaxis\": {\"backgroundcolor\": \"#E5ECF6\", \"gridcolor\": \"white\", \"gridwidth\": 2, \"linecolor\": \"white\", \"showbackground\": true, \"ticks\": \"\", \"zerolinecolor\": \"white\"}, \"zaxis\": {\"backgroundcolor\": \"#E5ECF6\", \"gridcolor\": \"white\", \"gridwidth\": 2, \"linecolor\": \"white\", \"showbackground\": true, \"ticks\": \"\", \"zerolinecolor\": \"white\"}}, \"shapedefaults\": {\"line\": {\"color\": \"#2a3f5f\"}}, \"ternary\": {\"aaxis\": {\"gridcolor\": \"white\", \"linecolor\": \"white\", \"ticks\": \"\"}, \"baxis\": {\"gridcolor\": \"white\", \"linecolor\": \"white\", \"ticks\": \"\"}, \"bgcolor\": \"#E5ECF6\", \"caxis\": {\"gridcolor\": \"white\", \"linecolor\": \"white\", \"ticks\": \"\"}}, \"title\": {\"x\": 0.05}, \"xaxis\": {\"automargin\": true, \"gridcolor\": \"white\", \"linecolor\": \"white\", \"ticks\": \"\", \"title\": {\"standoff\": 15}, \"zerolinecolor\": \"white\", \"zerolinewidth\": 2}, \"yaxis\": {\"automargin\": true, \"gridcolor\": \"white\", \"linecolor\": \"white\", \"ticks\": \"\", \"title\": {\"standoff\": 15}, \"zerolinecolor\": \"white\", \"zerolinewidth\": 2}}}, \"title\": {\"text\": \"Total Cumulative Investments Over Time\"}, \"xaxis\": {\"title\": {\"text\": \"Ticker\"}}, \"yaxis\": {\"title\": {\"text\": \"Returns\"}}, \"yaxis2\": {\"overlaying\": \"y\", \"side\": \"right\", \"title\": {\"text\": \"Cum ROI Mult\"}}},\n                        {\"responsive\": true}\n                    ).then(function(){\n                            \nvar gd = document.getElementById('fa704e1c-2a11-4eb1-90bd-9e6597802f49');\nvar x = new MutationObserver(function (mutations, observer) {{\n        var display = window.getComputedStyle(gd).display;\n        if (!display || display === 'none') {{\n            console.log([gd, 'removed!']);\n            Plotly.purge(gd);\n            observer.disconnect();\n        }}\n}});\n\n// Listen for the removal of the full notebook cells\nvar notebookContainer = gd.closest('#notebook-container');\nif (notebookContainer) {{\n    x.observe(notebookContainer, {childList: true});\n}}\n\n// Listen for the clearing of the current output cell\nvar outputEl = gd.closest('.output');\nif (outputEl) {{\n    x.observe(outputEl, {childList: true});\n}}\n\n                        })\n                };\n                });\n            </script>\n        </div>"
     },
     "metadata": {}
    }
   ],
   "source": [
    "trace1 = go.Bar(\n",
    "    x = merged_portfolio_sp_latest_YTD_sp_closing_high['Ticker'],\n",
    "    y = merged_portfolio_sp_latest_YTD_sp_closing_high['Cum Invst'],\n",
    "    # mode = 'lines+markers',\n",
    "    name = 'Cum Invst')\n",
    "\n",
    "trace2 = go.Bar(\n",
    "    x = merged_portfolio_sp_latest_YTD_sp_closing_high['Ticker'],\n",
    "    y = merged_portfolio_sp_latest_YTD_sp_closing_high['Cum SP Returns'],\n",
    "    # mode = 'lines+markers',\n",
    "    name = 'Cum SP500 Returns')\n",
    "\n",
    "trace3 = go.Bar(\n",
    "    x = merged_portfolio_sp_latest_YTD_sp_closing_high['Ticker'],\n",
    "    y = merged_portfolio_sp_latest_YTD_sp_closing_high['Cum Ticker Returns'],\n",
    "    # mode = 'lines+markers',\n",
    "    name = 'Cum Ticker Returns')\n",
    "\n",
    "trace4 = go.Scatter(\n",
    "    x = merged_portfolio_sp_latest_YTD_sp_closing_high['Ticker'],\n",
    "    y = merged_portfolio_sp_latest_YTD_sp_closing_high['Cum Ticker ROI Mult'],\n",
    "    # mode = 'lines+markers',\n",
    "    name = 'Cum ROI Mult'\n",
    "    , yaxis='y2')\n",
    "\n",
    "\n",
    "data = [trace1, trace2, trace3, trace4]\n",
    "\n",
    "layout = go.Layout(title = 'Total Cumulative Investments Over Time'\n",
    "    , barmode = 'group'\n",
    "    , yaxis=dict(title='Returns')\n",
    "    , xaxis=dict(title='Ticker')\n",
    "    , legend=dict(x=.4,y=1)\n",
    "    , yaxis2=dict(title='Cum ROI Mult', overlaying='y', side='right')               \n",
    "    )\n",
    "\n",
    "fig = go.Figure(data=data, layout=layout)\n",
    "iplot(fig)"
   ]
  },
  {
   "cell_type": "code",
   "execution_count": 86,
   "metadata": {},
   "outputs": [],
   "source": [
    "merged_portfolio_sp_latest_YTD_sp_closing_high.to_csv('analyzed_portfolio.csv')"
   ]
  },
  {
   "cell_type": "code",
   "execution_count": 116,
   "metadata": {},
   "outputs": [
    {
     "output_type": "stream",
     "name": "stdout",
     "text": "[*********************100%***********************]  1 of 1 completed\n"
    },
    {
     "output_type": "error",
     "ename": "KeyError",
     "evalue": "'ticker'",
     "traceback": [
      "\u001b[0;31m---------------------------------------------------------------------------\u001b[0m",
      "\u001b[0;31mKeyError\u001b[0m                                  Traceback (most recent call last)",
      "\u001b[0;32m~/anaconda3/lib/python3.7/site-packages/pandas/core/indexes/base.py\u001b[0m in \u001b[0;36mget_loc\u001b[0;34m(self, key, method, tolerance)\u001b[0m\n\u001b[1;32m   2656\u001b[0m             \u001b[0;32mtry\u001b[0m\u001b[0;34m:\u001b[0m\u001b[0;34m\u001b[0m\u001b[0;34m\u001b[0m\u001b[0m\n\u001b[0;32m-> 2657\u001b[0;31m                 \u001b[0;32mreturn\u001b[0m \u001b[0mself\u001b[0m\u001b[0;34m.\u001b[0m\u001b[0m_engine\u001b[0m\u001b[0;34m.\u001b[0m\u001b[0mget_loc\u001b[0m\u001b[0;34m(\u001b[0m\u001b[0mkey\u001b[0m\u001b[0;34m)\u001b[0m\u001b[0;34m\u001b[0m\u001b[0;34m\u001b[0m\u001b[0m\n\u001b[0m\u001b[1;32m   2658\u001b[0m             \u001b[0;32mexcept\u001b[0m \u001b[0mKeyError\u001b[0m\u001b[0;34m:\u001b[0m\u001b[0;34m\u001b[0m\u001b[0;34m\u001b[0m\u001b[0m\n",
      "\u001b[0;32mpandas/_libs/index.pyx\u001b[0m in \u001b[0;36mpandas._libs.index.IndexEngine.get_loc\u001b[0;34m()\u001b[0m\n",
      "\u001b[0;32mpandas/_libs/index.pyx\u001b[0m in \u001b[0;36mpandas._libs.index.IndexEngine.get_loc\u001b[0;34m()\u001b[0m\n",
      "\u001b[0;32mpandas/_libs/hashtable_class_helper.pxi\u001b[0m in \u001b[0;36mpandas._libs.hashtable.PyObjectHashTable.get_item\u001b[0;34m()\u001b[0m\n",
      "\u001b[0;32mpandas/_libs/hashtable_class_helper.pxi\u001b[0m in \u001b[0;36mpandas._libs.hashtable.PyObjectHashTable.get_item\u001b[0;34m()\u001b[0m\n",
      "\u001b[0;31mKeyError\u001b[0m: 'ticker'",
      "\nDuring handling of the above exception, another exception occurred:\n",
      "\u001b[0;31mKeyError\u001b[0m                                  Traceback (most recent call last)",
      "\u001b[0;32m<ipython-input-116-a0c1e5fad294>\u001b[0m in \u001b[0;36m<module>\u001b[0;34m\u001b[0m\n\u001b[1;32m      6\u001b[0m \u001b[0mend\u001b[0m \u001b[0;34m=\u001b[0m \u001b[0mdatetime\u001b[0m\u001b[0;34m.\u001b[0m\u001b[0mdatetime\u001b[0m\u001b[0;34m(\u001b[0m\u001b[0;36m2020\u001b[0m\u001b[0;34m,\u001b[0m \u001b[0;36m5\u001b[0m\u001b[0;34m,\u001b[0m \u001b[0;36m25\u001b[0m\u001b[0;34m)\u001b[0m\u001b[0;34m\u001b[0m\u001b[0;34m\u001b[0m\u001b[0m\n\u001b[1;32m      7\u001b[0m \u001b[0mdata\u001b[0m \u001b[0;34m=\u001b[0m \u001b[0mpdr\u001b[0m\u001b[0;34m.\u001b[0m\u001b[0mget_data_yahoo\u001b[0m\u001b[0;34m(\u001b[0m\u001b[0;34m'AAPL'\u001b[0m\u001b[0;34m,\u001b[0m\u001b[0mend\u001b[0m\u001b[0;34m)\u001b[0m\u001b[0;34m\u001b[0m\u001b[0;34m\u001b[0m\u001b[0m\n\u001b[0;32m----> 8\u001b[0;31m \u001b[0mdata\u001b[0m\u001b[0;34m.\u001b[0m\u001b[0mset_index\u001b[0m\u001b[0;34m(\u001b[0m\u001b[0;34m'ticker'\u001b[0m\u001b[0;34m,\u001b[0m\u001b[0minplace\u001b[0m\u001b[0;34m=\u001b[0m\u001b[0;32mTrue\u001b[0m\u001b[0;34m)\u001b[0m\u001b[0;34m\u001b[0m\u001b[0;34m\u001b[0m\u001b[0m\n\u001b[0m\u001b[1;32m      9\u001b[0m \u001b[0mdata\u001b[0m\u001b[0;34m\u001b[0m\u001b[0;34m\u001b[0m\u001b[0m\n\u001b[1;32m     10\u001b[0m \u001b[0;34m\u001b[0m\u001b[0m\n",
      "\u001b[0;32m~/anaconda3/lib/python3.7/site-packages/pandas/core/frame.py\u001b[0m in \u001b[0;36mset_index\u001b[0;34m(self, keys, drop, append, inplace, verify_integrity)\u001b[0m\n\u001b[1;32m   4176\u001b[0m                 \u001b[0mnames\u001b[0m\u001b[0;34m.\u001b[0m\u001b[0mappend\u001b[0m\u001b[0;34m(\u001b[0m\u001b[0;32mNone\u001b[0m\u001b[0;34m)\u001b[0m\u001b[0;34m\u001b[0m\u001b[0;34m\u001b[0m\u001b[0m\n\u001b[1;32m   4177\u001b[0m             \u001b[0;32melse\u001b[0m\u001b[0;34m:\u001b[0m\u001b[0;34m\u001b[0m\u001b[0;34m\u001b[0m\u001b[0m\n\u001b[0;32m-> 4178\u001b[0;31m                 \u001b[0mlevel\u001b[0m \u001b[0;34m=\u001b[0m \u001b[0mframe\u001b[0m\u001b[0;34m[\u001b[0m\u001b[0mcol\u001b[0m\u001b[0;34m]\u001b[0m\u001b[0;34m.\u001b[0m\u001b[0m_values\u001b[0m\u001b[0;34m\u001b[0m\u001b[0;34m\u001b[0m\u001b[0m\n\u001b[0m\u001b[1;32m   4179\u001b[0m                 \u001b[0mnames\u001b[0m\u001b[0;34m.\u001b[0m\u001b[0mappend\u001b[0m\u001b[0;34m(\u001b[0m\u001b[0mcol\u001b[0m\u001b[0;34m)\u001b[0m\u001b[0;34m\u001b[0m\u001b[0;34m\u001b[0m\u001b[0m\n\u001b[1;32m   4180\u001b[0m                 \u001b[0;32mif\u001b[0m \u001b[0mdrop\u001b[0m\u001b[0;34m:\u001b[0m\u001b[0;34m\u001b[0m\u001b[0;34m\u001b[0m\u001b[0m\n",
      "\u001b[0;32m~/anaconda3/lib/python3.7/site-packages/pandas/core/frame.py\u001b[0m in \u001b[0;36m__getitem__\u001b[0;34m(self, key)\u001b[0m\n\u001b[1;32m   2925\u001b[0m             \u001b[0;32mif\u001b[0m \u001b[0mself\u001b[0m\u001b[0;34m.\u001b[0m\u001b[0mcolumns\u001b[0m\u001b[0;34m.\u001b[0m\u001b[0mnlevels\u001b[0m \u001b[0;34m>\u001b[0m \u001b[0;36m1\u001b[0m\u001b[0;34m:\u001b[0m\u001b[0;34m\u001b[0m\u001b[0;34m\u001b[0m\u001b[0m\n\u001b[1;32m   2926\u001b[0m                 \u001b[0;32mreturn\u001b[0m \u001b[0mself\u001b[0m\u001b[0;34m.\u001b[0m\u001b[0m_getitem_multilevel\u001b[0m\u001b[0;34m(\u001b[0m\u001b[0mkey\u001b[0m\u001b[0;34m)\u001b[0m\u001b[0;34m\u001b[0m\u001b[0;34m\u001b[0m\u001b[0m\n\u001b[0;32m-> 2927\u001b[0;31m             \u001b[0mindexer\u001b[0m \u001b[0;34m=\u001b[0m \u001b[0mself\u001b[0m\u001b[0;34m.\u001b[0m\u001b[0mcolumns\u001b[0m\u001b[0;34m.\u001b[0m\u001b[0mget_loc\u001b[0m\u001b[0;34m(\u001b[0m\u001b[0mkey\u001b[0m\u001b[0;34m)\u001b[0m\u001b[0;34m\u001b[0m\u001b[0;34m\u001b[0m\u001b[0m\n\u001b[0m\u001b[1;32m   2928\u001b[0m             \u001b[0;32mif\u001b[0m \u001b[0mis_integer\u001b[0m\u001b[0;34m(\u001b[0m\u001b[0mindexer\u001b[0m\u001b[0;34m)\u001b[0m\u001b[0;34m:\u001b[0m\u001b[0;34m\u001b[0m\u001b[0;34m\u001b[0m\u001b[0m\n\u001b[1;32m   2929\u001b[0m                 \u001b[0mindexer\u001b[0m \u001b[0;34m=\u001b[0m \u001b[0;34m[\u001b[0m\u001b[0mindexer\u001b[0m\u001b[0;34m]\u001b[0m\u001b[0;34m\u001b[0m\u001b[0;34m\u001b[0m\u001b[0m\n",
      "\u001b[0;32m~/anaconda3/lib/python3.7/site-packages/pandas/core/indexes/base.py\u001b[0m in \u001b[0;36mget_loc\u001b[0;34m(self, key, method, tolerance)\u001b[0m\n\u001b[1;32m   2657\u001b[0m                 \u001b[0;32mreturn\u001b[0m \u001b[0mself\u001b[0m\u001b[0;34m.\u001b[0m\u001b[0m_engine\u001b[0m\u001b[0;34m.\u001b[0m\u001b[0mget_loc\u001b[0m\u001b[0;34m(\u001b[0m\u001b[0mkey\u001b[0m\u001b[0;34m)\u001b[0m\u001b[0;34m\u001b[0m\u001b[0;34m\u001b[0m\u001b[0m\n\u001b[1;32m   2658\u001b[0m             \u001b[0;32mexcept\u001b[0m \u001b[0mKeyError\u001b[0m\u001b[0;34m:\u001b[0m\u001b[0;34m\u001b[0m\u001b[0;34m\u001b[0m\u001b[0m\n\u001b[0;32m-> 2659\u001b[0;31m                 \u001b[0;32mreturn\u001b[0m \u001b[0mself\u001b[0m\u001b[0;34m.\u001b[0m\u001b[0m_engine\u001b[0m\u001b[0;34m.\u001b[0m\u001b[0mget_loc\u001b[0m\u001b[0;34m(\u001b[0m\u001b[0mself\u001b[0m\u001b[0;34m.\u001b[0m\u001b[0m_maybe_cast_indexer\u001b[0m\u001b[0;34m(\u001b[0m\u001b[0mkey\u001b[0m\u001b[0;34m)\u001b[0m\u001b[0;34m)\u001b[0m\u001b[0;34m\u001b[0m\u001b[0;34m\u001b[0m\u001b[0m\n\u001b[0m\u001b[1;32m   2660\u001b[0m         \u001b[0mindexer\u001b[0m \u001b[0;34m=\u001b[0m \u001b[0mself\u001b[0m\u001b[0;34m.\u001b[0m\u001b[0mget_indexer\u001b[0m\u001b[0;34m(\u001b[0m\u001b[0;34m[\u001b[0m\u001b[0mkey\u001b[0m\u001b[0;34m]\u001b[0m\u001b[0;34m,\u001b[0m \u001b[0mmethod\u001b[0m\u001b[0;34m=\u001b[0m\u001b[0mmethod\u001b[0m\u001b[0;34m,\u001b[0m \u001b[0mtolerance\u001b[0m\u001b[0;34m=\u001b[0m\u001b[0mtolerance\u001b[0m\u001b[0;34m)\u001b[0m\u001b[0;34m\u001b[0m\u001b[0;34m\u001b[0m\u001b[0m\n\u001b[1;32m   2661\u001b[0m         \u001b[0;32mif\u001b[0m \u001b[0mindexer\u001b[0m\u001b[0;34m.\u001b[0m\u001b[0mndim\u001b[0m \u001b[0;34m>\u001b[0m \u001b[0;36m1\u001b[0m \u001b[0;32mor\u001b[0m \u001b[0mindexer\u001b[0m\u001b[0;34m.\u001b[0m\u001b[0msize\u001b[0m \u001b[0;34m>\u001b[0m \u001b[0;36m1\u001b[0m\u001b[0;34m:\u001b[0m\u001b[0;34m\u001b[0m\u001b[0;34m\u001b[0m\u001b[0m\n",
      "\u001b[0;32mpandas/_libs/index.pyx\u001b[0m in \u001b[0;36mpandas._libs.index.IndexEngine.get_loc\u001b[0;34m()\u001b[0m\n",
      "\u001b[0;32mpandas/_libs/index.pyx\u001b[0m in \u001b[0;36mpandas._libs.index.IndexEngine.get_loc\u001b[0;34m()\u001b[0m\n",
      "\u001b[0;32mpandas/_libs/hashtable_class_helper.pxi\u001b[0m in \u001b[0;36mpandas._libs.hashtable.PyObjectHashTable.get_item\u001b[0;34m()\u001b[0m\n",
      "\u001b[0;32mpandas/_libs/hashtable_class_helper.pxi\u001b[0m in \u001b[0;36mpandas._libs.hashtable.PyObjectHashTable.get_item\u001b[0;34m()\u001b[0m\n",
      "\u001b[0;31mKeyError\u001b[0m: 'ticker'"
     ]
    }
   ],
   "source": [
    "from pandas_datareader import data as pdr\n",
    "import yfinance as yf\n",
    "import datetime\n",
    "yf.pdr_override() \n",
    "start = datetime.datetime(2020, 5, 23)\n",
    "end = datetime.datetime(2020, 5, 25)\n",
    "data = pdr.get_data_yahoo('AAPL',end)\n",
    "data.set_index('ticker')\n",
    "data\n",
    "                          "
   ]
  },
  {
   "cell_type": "code",
   "execution_count": 123,
   "metadata": {},
   "outputs": [
    {
     "output_type": "error",
     "ename": "TypeError",
     "evalue": "'datetime.datetime' object is not subscriptable",
     "traceback": [
      "\u001b[0;31m---------------------------------------------------------------------------\u001b[0m",
      "\u001b[0;31mTypeError\u001b[0m                                 Traceback (most recent call last)",
      "\u001b[0;32m<ipython-input-123-023de8938032>\u001b[0m in \u001b[0;36m<module>\u001b[0;34m\u001b[0m\n\u001b[1;32m      1\u001b[0m \u001b[0ma\u001b[0m \u001b[0;34m=\u001b[0m \u001b[0mdatetime\u001b[0m\u001b[0;34m(\u001b[0m\u001b[0;36m2020\u001b[0m\u001b[0;34m,\u001b[0m\u001b[0;36m5\u001b[0m\u001b[0;34m,\u001b[0m\u001b[0;36m5\u001b[0m\u001b[0;34m)\u001b[0m\u001b[0;34m\u001b[0m\u001b[0;34m\u001b[0m\u001b[0m\n\u001b[0;32m----> 2\u001b[0;31m \u001b[0ms\u001b[0m \u001b[0;34m=\u001b[0m \u001b[0mdatetime\u001b[0m\u001b[0;34m.\u001b[0m\u001b[0mstrptime\u001b[0m\u001b[0;34m(\u001b[0m\u001b[0ma\u001b[0m\u001b[0;34m[\u001b[0m\u001b[0;34m:\u001b[0m\u001b[0;36m10\u001b[0m\u001b[0;34m]\u001b[0m\u001b[0;34m,\u001b[0m \u001b[0;34m'%Y-%m-%d'\u001b[0m\u001b[0;34m)\u001b[0m\u001b[0;34m\u001b[0m\u001b[0;34m\u001b[0m\u001b[0m\n\u001b[0m\u001b[1;32m      3\u001b[0m \u001b[0ms\u001b[0m\u001b[0;34m\u001b[0m\u001b[0;34m\u001b[0m\u001b[0m\n",
      "\u001b[0;31mTypeError\u001b[0m: 'datetime.datetime' object is not subscriptable"
     ]
    }
   ],
   "source": [
    "\n",
    "a = datetime(2020,5,5)\n",
    "s = \n",
    "s"
   ]
  },
  {
   "cell_type": "code",
   "execution_count": null,
   "metadata": {},
   "outputs": [],
   "source": []
  }
 ],
 "metadata": {
  "language_info": {
   "codemirror_mode": {
    "name": "ipython",
    "version": 3
   },
   "file_extension": ".py",
   "mimetype": "text/x-python",
   "name": "python",
   "nbconvert_exporter": "python",
   "pygments_lexer": "ipython3",
   "version": "3.7.3-final"
  },
  "orig_nbformat": 2,
  "kernelspec": {
   "name": "python3",
   "display_name": "Python 3"
  }
 },
 "nbformat": 4,
 "nbformat_minor": 2
}